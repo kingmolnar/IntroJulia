{
 "cells": [
  {
   "cell_type": "markdown",
   "metadata": {},
   "source": [
    "<p style=\"font-size: 300%; color: gray; font-weight: bold; padding-bottom: 30px; padding-top: 10px;\">Beautyful Math</p>\n",
    "\n",
    "Julia was designed for scientific computing. The language not only offers broad set of mathematical operations but also provides an elegant syntax to write mathematical expressions.\n",
    "\n"
   ]
  },
  {
   "cell_type": "markdown",
   "metadata": {},
   "source": [
    "# Mathematical Symbols"
   ]
  },
  {
   "cell_type": "markdown",
   "metadata": {
    "ExecuteTime": {
     "end_time": "2017-03-17T15:23:02.608961",
     "start_time": "2017-03-17T19:23:02.584Z"
    }
   },
   "source": [
    "Predefined values"
   ]
  },
  {
   "cell_type": "code",
   "execution_count": 1,
   "metadata": {
    "ExecuteTime": {
     "end_time": "2017-03-18T10:20:43.857604",
     "start_time": "2017-03-18T14:20:43.244Z"
    },
    "collapsed": false
   },
   "outputs": [
    {
     "data": {
      "text/plain": [
       "(π = 3.1415926535897...,e = 2.7182818284590...)"
      ]
     },
     "execution_count": 1,
     "metadata": {},
     "output_type": "execute_result"
    }
   ],
   "source": [
    "π, e"
   ]
  },
  {
   "cell_type": "markdown",
   "metadata": {},
   "source": [
    "    \\alpha               \\theta               o                  \\tau          \n",
    "    \\beta                \\vartheta           \\pi                 \\upsilon      \n",
    "    \\gamma               \\gamma              \\varpi              \\phi          \n",
    "    \\delta               \\kappa              \\rho                \\varphi       \n",
    "    \\epsilon             \\lambda             \\varrho             \\chi          \n",
    "    \\varepsilon          \\mu                 \\sigma              \\psi          \n",
    "    \\zeta                \\nu                 \\varsigma           \\omega        \n",
    "    \\eta                 \\xi                                           \n",
    "                                                                 \n",
    "     \\Gamma               \\Lambda             \\Sigma              \\Psi          \n",
    "     \\Delta               \\Xi                 \\Upsilon            \\Omega        \n",
    "     \\Theta               \\Pi                 \\Phi\n"
   ]
  },
  {
   "cell_type": "markdown",
   "metadata": {
    "ExecuteTime": {
     "end_time": "2017-03-17T17:36:29.138032",
     "start_time": "2017-03-17T21:36:29.133Z"
    }
   },
   "source": [
    "$\\LaTeX$"
   ]
  },
  {
   "cell_type": "markdown",
   "metadata": {
    "ExecuteTime": {
     "end_time": "2017-03-17T17:48:21.309882",
     "start_time": "2017-03-17T21:48:21.305Z"
    }
   },
   "source": [
    " <table>\n",
    " <tr><td> $\\pm$</td><td>`\\pm`</td></tr>\n",
    " </table>\n",
    " \n",
    " $\\pm$                  \\cap                \\diamond                    \\oplus      \n",
    " $\\mp$                  \\cup                \\bigtriangleup              \\ominus     \n",
    " $\\times$               \\uplus              \\bigtriangledown            \\otimes     \n",
    " $\\div$                 \\sqcap              \\triangleleft               \\oslash     \n",
    " $\\ast$                 \\sqcup              \\triangleright              \\odot       \n",
    " $\\star$                \\vee                \\lhd$^b$                    \\bigcirc    \n",
    " $\\circ$                \\wedge              \\rhd$^b$                    \\dagger     \n",
    " $\\bullet$              \\setminus           \\unlhd$^b$                  \\ddagger    \n",
    " $\\cdot$                \\wr                 \\unrhd$^b$                  \\amalg      \n",
    " $+$                    -"
   ]
  },
  {
   "cell_type": "code",
   "execution_count": 141,
   "metadata": {
    "ExecuteTime": {
     "end_time": "2017-03-17T17:55:10.976469",
     "start_time": "2017-03-17T21:55:10.970Z"
    },
    "collapsed": false
   },
   "outputs": [
    {
     "data": {
      "text/plain": [
       "210.48670779051614"
      ]
     },
     "execution_count": 141,
     "metadata": {},
     "output_type": "execute_result"
    }
   ],
   "source": [
    "a⦞b = 67π"
   ]
  },
  {
   "cell_type": "code",
   "execution_count": 143,
   "metadata": {
    "ExecuteTime": {
     "end_time": "2017-03-17T17:55:46.043929",
     "start_time": "2017-03-17T21:55:46.040Z"
    },
    "collapsed": false
   },
   "outputs": [
    {
     "data": {
      "text/plain": [
       "234.234"
      ]
     },
     "execution_count": 143,
     "metadata": {},
     "output_type": "execute_result"
    }
   ],
   "source": [
    "a⦞bᵒ = 234.234"
   ]
  },
  {
   "cell_type": "code",
   "execution_count": 137,
   "metadata": {
    "ExecuteTime": {
     "end_time": "2017-03-17T17:45:45.192635",
     "start_time": "2017-03-17T21:45:45.189Z"
    },
    "collapsed": false
   },
   "outputs": [
    {
     "data": {
      "text/plain": [
       "23"
      ]
     },
     "execution_count": 137,
     "metadata": {},
     "output_type": "execute_result"
    }
   ],
   "source": [
    "ħ = 23"
   ]
  },
  {
   "cell_type": "code",
   "execution_count": 149,
   "metadata": {
    "ExecuteTime": {
     "end_time": "2017-03-17T17:59:23.866568",
     "start_time": "2017-03-17T21:59:23.667Z"
    },
    "collapsed": false
   },
   "outputs": [
    {
     "data": {
      "text/plain": [
       "Set{Any}()"
      ]
     },
     "execution_count": 149,
     "metadata": {},
     "output_type": "execute_result"
    }
   ],
   "source": [
    "∅ = Set([])"
   ]
  },
  {
   "cell_type": "code",
   "execution_count": 146,
   "metadata": {
    "ExecuteTime": {
     "end_time": "2017-03-17T17:58:13.831521",
     "start_time": "2017-03-17T21:58:13.828Z"
    },
    "collapsed": false
   },
   "outputs": [
    {
     "data": {
      "text/plain": [
       "0"
      ]
     },
     "execution_count": 146,
     "metadata": {},
     "output_type": "execute_result"
    }
   ],
   "source": [
    "length(∅)"
   ]
  },
  {
   "cell_type": "code",
   "execution_count": 147,
   "metadata": {
    "ExecuteTime": {
     "end_time": "2017-03-17T17:58:46.974314",
     "start_time": "2017-03-17T21:58:46.798Z"
    },
    "collapsed": false
   },
   "outputs": [
    {
     "data": {
      "text/plain": [
       "Set(Symbol[:c,:a,:b])"
      ]
     },
     "execution_count": 147,
     "metadata": {},
     "output_type": "execute_result"
    }
   ],
   "source": [
    "S = Set([:a, :b, :c])"
   ]
  },
  {
   "cell_type": "code",
   "execution_count": 152,
   "metadata": {
    "ExecuteTime": {
     "end_time": "2017-03-17T18:00:05.044931",
     "start_time": "2017-03-17T22:00:05.028Z"
    },
    "collapsed": false
   },
   "outputs": [
    {
     "data": {
      "text/plain": [
       "Set{Symbol}()"
      ]
     },
     "execution_count": 152,
     "metadata": {},
     "output_type": "execute_result"
    }
   ],
   "source": [
    "S ∩ ∅"
   ]
  },
  {
   "cell_type": "code",
   "execution_count": 165,
   "metadata": {
    "ExecuteTime": {
     "end_time": "2017-03-17T18:03:14.494488",
     "start_time": "2017-03-17T22:03:14.491Z"
    },
    "collapsed": false
   },
   "outputs": [
    {
     "data": {
      "text/plain": [
       "true"
      ]
     },
     "execution_count": 165,
     "metadata": {},
     "output_type": "execute_result"
    }
   ],
   "source": [
    "true ∨ false"
   ]
  },
  {
   "cell_type": "code",
   "execution_count": 164,
   "metadata": {
    "ExecuteTime": {
     "end_time": "2017-03-17T18:03:08.374465",
     "start_time": "2017-03-17T22:03:08.370Z"
    },
    "collapsed": false
   },
   "outputs": [
    {
     "data": {
      "text/plain": [
       "| (generic function with 22 methods)"
      ]
     },
     "execution_count": 164,
     "metadata": {},
     "output_type": "execute_result"
    }
   ],
   "source": [
    "∨ = |"
   ]
  },
  {
   "cell_type": "code",
   "execution_count": 167,
   "metadata": {
    "ExecuteTime": {
     "end_time": "2017-03-17T18:03:58.202940",
     "start_time": "2017-03-17T22:03:58.199Z"
    },
    "collapsed": false
   },
   "outputs": [
    {
     "data": {
      "text/plain": [
       "true"
      ]
     },
     "execution_count": 167,
     "metadata": {},
     "output_type": "execute_result"
    }
   ],
   "source": [
    "3>2 || 4<1"
   ]
  },
  {
   "cell_type": "code",
   "execution_count": 170,
   "metadata": {
    "ExecuteTime": {
     "end_time": "2017-03-17T18:04:18.000796",
     "start_time": "2017-03-17T22:04:17.982Z"
    },
    "collapsed": false
   },
   "outputs": [
    {
     "name": "stdout",
     "output_type": "stream",
     "text": [
      "search: |>\n",
      "\n"
     ]
    },
    {
     "data": {
      "text/markdown": [
       "```\n",
       "|>(x, f)\n",
       "```\n",
       "\n",
       "Applies a function to the preceding argument. This allows for easy function chaining.\n",
       "\n",
       "```jldoctest\n",
       "julia> [1:5;] |> x->x.^2 |> sum |> inv\n",
       "0.01818181818181818\n",
       "```\n"
      ],
      "text/plain": [
       "```\n",
       "|>(x, f)\n",
       "```\n",
       "\n",
       "Applies a function to the preceding argument. This allows for easy function chaining.\n",
       "\n",
       "```jldoctest\n",
       "julia> [1:5;] |> x->x.^2 |> sum |> inv\n",
       "0.01818181818181818\n",
       "```\n"
      ]
     },
     "execution_count": 170,
     "metadata": {},
     "output_type": "execute_result"
    }
   ],
   "source": [
    "?|>"
   ]
  },
  {
   "cell_type": "code",
   "execution_count": 163,
   "metadata": {
    "ExecuteTime": {
     "end_time": "2017-03-17T18:02:58.869527",
     "start_time": "2017-03-17T22:02:58.382Z"
    },
    "collapsed": false
   },
   "outputs": [
    {
     "data": {
      "text/plain": [
       "3-element Array{Bool,1}:\n",
       " true\n",
       " true\n",
       " true"
      ]
     },
     "execution_count": 163,
     "metadata": {},
     "output_type": "execute_result"
    }
   ],
   "source": [
    "[true, false, false] | [false, true, true]"
   ]
  },
  {
   "cell_type": "code",
   "execution_count": 24,
   "metadata": {
    "ExecuteTime": {
     "end_time": "2017-03-17T15:28:05.661800",
     "start_time": "2017-03-17T19:28:05.657Z"
    },
    "collapsed": false
   },
   "outputs": [
    {
     "data": {
      "text/plain": [
       "10-element Array{Float64,1}:\n",
       " 0.375284 \n",
       " 0.661145 \n",
       " 0.262939 \n",
       " 0.767288 \n",
       " 0.321752 \n",
       " 0.0353307\n",
       " 0.557374 \n",
       " 0.0235594\n",
       " 0.633548 \n",
       " 0.895641 "
      ]
     },
     "execution_count": 24,
     "metadata": {},
     "output_type": "execute_result"
    }
   ],
   "source": [
    "ŷ = zeros(10)\n",
    "ỹ = rand(10)"
   ]
  },
  {
   "cell_type": "markdown",
   "metadata": {},
   "source": [
    "# Example: redefine set operators"
   ]
  },
  {
   "cell_type": "code",
   "execution_count": 14,
   "metadata": {
    "ExecuteTime": {
     "end_time": "2017-03-17T16:00:29.505182",
     "start_time": "2017-03-17T20:00:29.343Z"
    },
    "collapsed": false,
    "scrolled": true
   },
   "outputs": [
    {
     "data": {
      "text/plain": [
       "Set([4,2,6])"
      ]
     },
     "execution_count": 14,
     "metadata": {},
     "output_type": "execute_result"
    }
   ],
   "source": [
    "𝔸 = Set([1,2,3])\n",
    "𝔹 = Set([2,4,6])"
   ]
  },
  {
   "cell_type": "code",
   "execution_count": 29,
   "metadata": {
    "ExecuteTime": {
     "end_time": "2017-03-17T15:29:32.131411",
     "start_time": "2017-03-17T19:29:32.070Z"
    },
    "collapsed": false
   },
   "outputs": [
    {
     "data": {
      "text/plain": [
       "Tuple{Int64,Int64,Int64}"
      ]
     },
     "execution_count": 29,
     "metadata": {},
     "output_type": "execute_result"
    }
   ],
   "source": [
    "typeof(𝔸)"
   ]
  },
  {
   "cell_type": "code",
   "execution_count": 30,
   "metadata": {
    "ExecuteTime": {
     "end_time": "2017-03-17T15:29:55.770534",
     "start_time": "2017-03-17T19:29:55.610Z"
    },
    "collapsed": false
   },
   "outputs": [
    {
     "data": {
      "text/plain": [
       "Set([4])"
      ]
     },
     "execution_count": 30,
     "metadata": {},
     "output_type": "execute_result"
    }
   ],
   "source": [
    "Set(4)"
   ]
  },
  {
   "cell_type": "code",
   "execution_count": 37,
   "metadata": {
    "ExecuteTime": {
     "end_time": "2017-03-17T15:32:36.699453",
     "start_time": "2017-03-17T19:32:35.533Z"
    },
    "collapsed": false,
    "scrolled": false
   },
   "outputs": [
    {
     "data": {
      "text/html": [
       "34-element Array{Method,1}:<ul><li> <(l::<b>Set</b>, r::<b>Set</b>) at <a href=\"https://github.com/JuliaLang/julia/tree/6445c82d0060dbe82b88436f0f4371a4ee64d918/base/set.jl#L97\" target=\"_blank\">set.jl:97</a><li> <=(l::<b>Set</b>, r::<b>Set</b>) at <a href=\"https://github.com/JuliaLang/julia/tree/6445c82d0060dbe82b88436f0f4371a4ee64d918/base/set.jl#L98\" target=\"_blank\">set.jl:98</a><li> ==(l::<b>Set</b>, r::<b>Set</b>) at <a href=\"https://github.com/JuliaLang/julia/tree/6445c82d0060dbe82b88436f0f4371a4ee64d918/base/set.jl#L96\" target=\"_blank\">set.jl:96</a><li> allunique(::<b>Set</b>) at <a href=\"https://github.com/JuliaLang/julia/tree/6445c82d0060dbe82b88436f0f4371a4ee64d918/base/set.jl#L166\" target=\"_blank\">set.jl:166</a><li> copy(s::<b>Set</b>) at <a href=\"https://github.com/JuliaLang/julia/tree/6445c82d0060dbe82b88436f0f4371a4ee64d918/base/set.jl#L41\" target=\"_blank\">set.jl:41</a><li> delete!(s::<b>Set</b>, x) at <a href=\"https://github.com/JuliaLang/julia/tree/6445c82d0060dbe82b88436f0f4371a4ee64d918/base/set.jl#L39\" target=\"_blank\">set.jl:39</a><li> done(s::<b>Set</b>, state) at <a href=\"https://github.com/JuliaLang/julia/tree/6445c82d0060dbe82b88436f0f4371a4ee64d918/base/set.jl#L48\" target=\"_blank\">set.jl:48</a><li> empty!<i>{T}</i>(s::<b>Set{T}</b>) at <a href=\"https://github.com/JuliaLang/julia/tree/6445c82d0060dbe82b88436f0f4371a4ee64d918/base/set.jl#L44\" target=\"_blank\">set.jl:44</a><li> filter(f, s::<b>Set</b>) at <a href=\"https://github.com/JuliaLang/julia/tree/6445c82d0060dbe82b88436f0f4371a4ee64d918/base/set.jl#L171\" target=\"_blank\">set.jl:171</a><li> filter!(f, s::<b>Set</b>) at <a href=\"https://github.com/JuliaLang/julia/tree/6445c82d0060dbe82b88436f0f4371a4ee64d918/base/set.jl#L180\" target=\"_blank\">set.jl:180</a><li> hash(s::<b>Set</b>, h::<b>UInt64</b>) at <a href=\"https://github.com/JuliaLang/julia/tree/6445c82d0060dbe82b88436f0f4371a4ee64d918/base/set.jl#L190\" target=\"_blank\">set.jl:190</a><li> in(x, s::<b>Set</b>) at <a href=\"https://github.com/JuliaLang/julia/tree/6445c82d0060dbe82b88436f0f4371a4ee64d918/base/set.jl#L34\" target=\"_blank\">set.jl:34</a><li> intersect(s::<b>Set</b>) at <a href=\"https://github.com/JuliaLang/julia/tree/6445c82d0060dbe82b88436f0f4371a4ee64d918/base/set.jl#L68\" target=\"_blank\">set.jl:68</a><li> intersect(s::<b>Set</b>, sets::<b>Set...</b>) at <a href=\"https://github.com/JuliaLang/julia/tree/6445c82d0060dbe82b88436f0f4371a4ee64d918/base/set.jl#L70\" target=\"_blank\">set.jl:70</a><li> isempty(s::<b>Set</b>) at <a href=\"https://github.com/JuliaLang/julia/tree/6445c82d0060dbe82b88436f0f4371a4ee64d918/base/set.jl#L32\" target=\"_blank\">set.jl:32</a><li> length(s::<b>Set</b>) at <a href=\"https://github.com/JuliaLang/julia/tree/6445c82d0060dbe82b88436f0f4371a4ee64d918/base/set.jl#L33\" target=\"_blank\">set.jl:33</a><li> next(s::<b>Set</b>, i) at <a href=\"https://github.com/JuliaLang/julia/tree/6445c82d0060dbe82b88436f0f4371a4ee64d918/base/set.jl#L50\" target=\"_blank\">set.jl:50</a><li> pop!(s::<b>Set</b>) at <a href=\"https://github.com/JuliaLang/julia/tree/6445c82d0060dbe82b88436f0f4371a4ee64d918/base/set.jl#L38\" target=\"_blank\">set.jl:38</a><li> pop!(s::<b>Set</b>, x) at <a href=\"https://github.com/JuliaLang/julia/tree/6445c82d0060dbe82b88436f0f4371a4ee64d918/base/set.jl#L36\" target=\"_blank\">set.jl:36</a><li> pop!(s::<b>Set</b>, x, deflt) at <a href=\"https://github.com/JuliaLang/julia/tree/6445c82d0060dbe82b88436f0f4371a4ee64d918/base/set.jl#L37\" target=\"_blank\">set.jl:37</a><li> push!(s::<b>Set</b>, x) at <a href=\"https://github.com/JuliaLang/julia/tree/6445c82d0060dbe82b88436f0f4371a4ee64d918/base/set.jl#L35\" target=\"_blank\">set.jl:35</a><li> setdiff(a::<b>Set</b>, b::<b>Set</b>) at <a href=\"https://github.com/JuliaLang/julia/tree/6445c82d0060dbe82b88436f0f4371a4ee64d918/base/set.jl#L86\" target=\"_blank\">set.jl:86</a><li> setdiff!(s::<b>Set</b>, xs) at <a href=\"https://github.com/JuliaLang/julia/tree/6445c82d0060dbe82b88436f0f4371a4ee64d918/base/set.jl#L94\" target=\"_blank\">set.jl:94</a><li> show(io::<b>IO</b>, s::<b>Set</b>) at <a href=\"https://github.com/JuliaLang/julia/tree/6445c82d0060dbe82b88436f0f4371a4ee64d918/base/set.jl#L22\" target=\"_blank\">set.jl:22</a><li> similar<i>{T}</i>(s::<b>Set{T}</b>) at <a href=\"https://github.com/JuliaLang/julia/tree/6445c82d0060dbe82b88436f0f4371a4ee64d918/base/set.jl#L18\" target=\"_blank\">set.jl:18</a><li> similar(s::<b>Set</b>, T::<b>Type</b>) at <a href=\"https://github.com/JuliaLang/julia/tree/6445c82d0060dbe82b88436f0f4371a4ee64d918/base/set.jl#L19\" target=\"_blank\">set.jl:19</a><li> sizehint!(s::<b>Set</b>, newsz) at <a href=\"https://github.com/JuliaLang/julia/tree/6445c82d0060dbe82b88436f0f4371a4ee64d918/base/set.jl#L43\" target=\"_blank\">set.jl:43</a><li> start(s::<b>Set</b>) at <a href=\"https://github.com/JuliaLang/julia/tree/6445c82d0060dbe82b88436f0f4371a4ee64d918/base/set.jl#L47\" target=\"_blank\">set.jl:47</a><li> union(s::<b>Set</b>) at <a href=\"https://github.com/JuliaLang/julia/tree/6445c82d0060dbe82b88436f0f4371a4ee64d918/base/set.jl#L53\" target=\"_blank\">set.jl:53</a><li> union(s::<b>Set</b>, sets::<b>Set...</b>) at <a href=\"https://github.com/JuliaLang/julia/tree/6445c82d0060dbe82b88436f0f4371a4ee64d918/base/set.jl#L55\" target=\"_blank\">set.jl:55</a><li> union!(s::<b>Set</b>, xs::<b>AbstractArray</b>) at <a href=\"https://github.com/JuliaLang/julia/tree/6445c82d0060dbe82b88436f0f4371a4ee64d918/base/set.jl#L64\" target=\"_blank\">set.jl:64</a><li> union!(s::<b>Set</b>, xs) at <a href=\"https://github.com/JuliaLang/julia/tree/6445c82d0060dbe82b88436f0f4371a4ee64d918/base/set.jl#L63\" target=\"_blank\">set.jl:63</a><li> ⊈(l::<b>Set</b>, r::<b>Set</b>) at <a href=\"https://github.com/JuliaLang/julia/tree/6445c82d0060dbe82b88436f0f4371a4ee64d918/base/set.jl#L110\" target=\"_blank\">set.jl:110</a><li> ⊊(l::<b>Set</b>, r::<b>Set</b>) at <a href=\"https://github.com/JuliaLang/julia/tree/6445c82d0060dbe82b88436f0f4371a4ee64d918/base/set.jl#L109\" target=\"_blank\">set.jl:109</a></ul>"
      ],
      "text/plain": [
       "34-element Array{Method,1}:\n",
       " <(l::Set, r::Set) at set.jl:97                \n",
       " <=(l::Set, r::Set) at set.jl:98               \n",
       " ==(l::Set, r::Set) at set.jl:96               \n",
       " allunique(::Set) at set.jl:166                \n",
       " copy(s::Set) at set.jl:41                     \n",
       " delete!(s::Set, x) at set.jl:39               \n",
       " done(s::Set, state) at set.jl:48              \n",
       " empty!{T}(s::Set{T}) at set.jl:44             \n",
       " filter(f, s::Set) at set.jl:171               \n",
       " filter!(f, s::Set) at set.jl:180              \n",
       " hash(s::Set, h::UInt64) at set.jl:190         \n",
       " in(x, s::Set) at set.jl:34                    \n",
       " intersect(s::Set) at set.jl:68                \n",
       " intersect(s::Set, sets::Set...) at set.jl:70  \n",
       " isempty(s::Set) at set.jl:32                  \n",
       " length(s::Set) at set.jl:33                   \n",
       " next(s::Set, i) at set.jl:50                  \n",
       " pop!(s::Set) at set.jl:38                     \n",
       " pop!(s::Set, x) at set.jl:36                  \n",
       " pop!(s::Set, x, deflt) at set.jl:37           \n",
       " push!(s::Set, x) at set.jl:35                 \n",
       " setdiff(a::Set, b::Set) at set.jl:86          \n",
       " setdiff!(s::Set, xs) at set.jl:94             \n",
       " show(io::IO, s::Set) at set.jl:22             \n",
       " similar{T}(s::Set{T}) at set.jl:18            \n",
       " similar(s::Set, T::Type) at set.jl:19         \n",
       " sizehint!(s::Set, newsz) at set.jl:43         \n",
       " start(s::Set) at set.jl:47                    \n",
       " union(s::Set) at set.jl:53                    \n",
       " union(s::Set, sets::Set...) at set.jl:55      \n",
       " union!(s::Set, xs::AbstractArray) at set.jl:64\n",
       " union!(s::Set, xs) at set.jl:63               \n",
       " ⊈(l::Set, r::Set) at set.jl:110               \n",
       " ⊊(l::Set, r::Set) at set.jl:109               "
      ]
     },
     "execution_count": 37,
     "metadata": {},
     "output_type": "execute_result"
    }
   ],
   "source": [
    "methodswith(Set)"
   ]
  },
  {
   "cell_type": "code",
   "execution_count": 62,
   "metadata": {
    "ExecuteTime": {
     "end_time": "2017-03-17T15:42:18.175389",
     "start_time": "2017-03-17T19:42:18.171Z"
    },
    "collapsed": false
   },
   "outputs": [
    {
     "data": {
      "text/plain": [
       "Set([3,1])"
      ]
     },
     "execution_count": 62,
     "metadata": {},
     "output_type": "execute_result"
    }
   ],
   "source": [
    "setdiff(𝔸, 𝔹)"
   ]
  },
  {
   "cell_type": "code",
   "execution_count": 63,
   "metadata": {
    "ExecuteTime": {
     "end_time": "2017-03-17T15:42:34.045335",
     "start_time": "2017-03-17T19:42:34.041Z"
    },
    "collapsed": false
   },
   "outputs": [
    {
     "name": "stderr",
     "output_type": "stream",
     "text": [
      "WARNING: imported binding for - overwritten in module Main\n"
     ]
    },
    {
     "data": {
      "text/plain": [
       "setdiff (generic function with 3 methods)"
      ]
     },
     "execution_count": 63,
     "metadata": {},
     "output_type": "execute_result"
    }
   ],
   "source": [
    "- = setdiff"
   ]
  },
  {
   "cell_type": "code",
   "execution_count": 64,
   "metadata": {
    "ExecuteTime": {
     "end_time": "2017-03-17T15:42:57.091884",
     "start_time": "2017-03-17T19:42:57.088Z"
    },
    "collapsed": false,
    "scrolled": true
   },
   "outputs": [
    {
     "data": {
      "text/plain": [
       "Set([3,1])"
      ]
     },
     "execution_count": 64,
     "metadata": {},
     "output_type": "execute_result"
    }
   ],
   "source": [
    "𝔸-𝔹"
   ]
  },
  {
   "cell_type": "code",
   "execution_count": 65,
   "metadata": {
    "ExecuteTime": {
     "end_time": "2017-03-17T15:43:05.699488",
     "start_time": "2017-03-17T19:43:05.248Z"
    },
    "collapsed": false
   },
   "outputs": [
    {
     "data": {
      "text/plain": [
       "1-element Array{Int64,1}:\n",
       " 5"
      ]
     },
     "execution_count": 65,
     "metadata": {},
     "output_type": "execute_result"
    }
   ],
   "source": [
    "5-2"
   ]
  },
  {
   "cell_type": "code",
   "execution_count": null,
   "metadata": {
    "ExecuteTime": {
     "end_time": "2017-03-17T15:35:43.214661",
     "start_time": "2017-03-17T19:35:43.195Z"
    },
    "collapsed": true
   },
   "outputs": [],
   "source": [
    "∩ = intersect"
   ]
  },
  {
   "cell_type": "code",
   "execution_count": 66,
   "metadata": {
    "ExecuteTime": {
     "end_time": "2017-03-17T15:54:30.773719",
     "start_time": "2017-03-17T19:54:30.570Z"
    },
    "collapsed": false
   },
   "outputs": [
    {
     "data": {
      "text/html": [
       "3 methods for generic function <b>setdiff</b>:<ul><li> setdiff(a::<b>IntSet</b>, b::<b>IntSet</b>) at <a href=\"https://github.com/JuliaLang/julia/tree/6445c82d0060dbe82b88436f0f4371a4ee64d918/base/intset.jl#L122\" target=\"_blank\">intset.jl:122</a></li> <li> setdiff(a::<b>Set</b>, b::<b>Set</b>) at <a href=\"https://github.com/JuliaLang/julia/tree/6445c82d0060dbe82b88436f0f4371a4ee64d918/base/set.jl#L86\" target=\"_blank\">set.jl:86</a></li> <li> setdiff(a, b) at <a href=\"https://github.com/JuliaLang/julia/tree/6445c82d0060dbe82b88436f0f4371a4ee64d918/base/array.jl#L1465\" target=\"_blank\">array.jl:1465</a></li> </ul>"
      ],
      "text/plain": [
       "# 3 methods for generic function \"setdiff\":\n",
       "setdiff(a::IntSet, b::IntSet) at intset.jl:122\n",
       "setdiff(a::Set, b::Set) at set.jl:86\n",
       "setdiff(a, b) at array.jl:1465"
      ]
     },
     "execution_count": 66,
     "metadata": {},
     "output_type": "execute_result"
    }
   ],
   "source": [
    "methods(-)"
   ]
  },
  {
   "cell_type": "code",
   "execution_count": 1,
   "metadata": {
    "ExecuteTime": {
     "end_time": "2017-03-17T15:55:00.097240",
     "start_time": "2017-03-17T19:54:58.811Z"
    },
    "collapsed": false,
    "scrolled": false
   },
   "outputs": [
    {
     "data": {
      "text/html": [
       "190 methods for generic function <b>-</b>:<ul><li> -(x::<b>Bool</b>, z::<b>Complex{Bool}</b>) at <a href=\"https://github.com/JuliaLang/julia/tree/6445c82d0060dbe82b88436f0f4371a4ee64d918/base/complex.jl#L138\" target=\"_blank\">complex.jl:138</a></li> <li> -(x::<b>Bool</b>, y::<b>Bool</b>) at <a href=\"https://github.com/JuliaLang/julia/tree/6445c82d0060dbe82b88436f0f4371a4ee64d918/base/bool.jl#L49\" target=\"_blank\">bool.jl:49</a></li> <li> -(x::<b>Bool</b>) at <a href=\"https://github.com/JuliaLang/julia/tree/6445c82d0060dbe82b88436f0f4371a4ee64d918/base/bool.jl#L46\" target=\"_blank\">bool.jl:46</a></li> <li> -(x::<b>Bool</b>, z::<b>Complex</b>) at <a href=\"https://github.com/JuliaLang/julia/tree/6445c82d0060dbe82b88436f0f4371a4ee64d918/base/complex.jl#L145\" target=\"_blank\">complex.jl:145</a></li> <li> -(x::<b>Bool</b>, A::<b>AbstractArray{Bool,N<:Any}</b>) at <a href=\"https://github.com/JuliaLang/julia/tree/6445c82d0060dbe82b88436f0f4371a4ee64d918/base/arraymath.jl#L128\" target=\"_blank\">arraymath.jl:128</a></li> <li> -(x::<b>Float32</b>, y::<b>Float32</b>) at <a href=\"https://github.com/JuliaLang/julia/tree/6445c82d0060dbe82b88436f0f4371a4ee64d918/base/float.jl#L241\" target=\"_blank\">float.jl:241</a></li> <li> -(x::<b>Float32</b>) at <a href=\"https://github.com/JuliaLang/julia/tree/6445c82d0060dbe82b88436f0f4371a4ee64d918/base/float.jl#L236\" target=\"_blank\">float.jl:236</a></li> <li> -(x::<b>Float64</b>, y::<b>Float64</b>) at <a href=\"https://github.com/JuliaLang/julia/tree/6445c82d0060dbe82b88436f0f4371a4ee64d918/base/float.jl#L242\" target=\"_blank\">float.jl:242</a></li> <li> -(x::<b>Float64</b>) at <a href=\"https://github.com/JuliaLang/julia/tree/6445c82d0060dbe82b88436f0f4371a4ee64d918/base/float.jl#L237\" target=\"_blank\">float.jl:237</a></li> <li> -(z::<b>Complex{Bool}</b>, x::<b>Bool</b>) at <a href=\"https://github.com/JuliaLang/julia/tree/6445c82d0060dbe82b88436f0f4371a4ee64d918/base/complex.jl#L139\" target=\"_blank\">complex.jl:139</a></li> <li> -(z::<b>Complex{Bool}</b>, x::<b>Real</b>) at <a href=\"https://github.com/JuliaLang/julia/tree/6445c82d0060dbe82b88436f0f4371a4ee64d918/base/complex.jl#L157\" target=\"_blank\">complex.jl:157</a></li> <li> -(a::<b>Float16</b>, b::<b>Float16</b>) at <a href=\"https://github.com/JuliaLang/julia/tree/6445c82d0060dbe82b88436f0f4371a4ee64d918/base/float16.jl#L136\" target=\"_blank\">float16.jl:136</a></li> <li> -(x::<b>Float16</b>) at <a href=\"https://github.com/JuliaLang/julia/tree/6445c82d0060dbe82b88436f0f4371a4ee64d918/base/float16.jl#L133\" target=\"_blank\">float16.jl:133</a></li> <li> -(x::<b>Char</b>, y::<b>Char</b>) at <a href=\"https://github.com/JuliaLang/julia/tree/6445c82d0060dbe82b88436f0f4371a4ee64d918/base/char.jl#L38\" target=\"_blank\">char.jl:38</a></li> <li> -(x::<b>Char</b>, y::<b>Integer</b>) at <a href=\"https://github.com/JuliaLang/julia/tree/6445c82d0060dbe82b88436f0f4371a4ee64d918/base/char.jl#L39\" target=\"_blank\">char.jl:39</a></li> <li> -(a::<b>Base.Grisu.Float</b>, b::<b>Base.Grisu.Float</b>) at <a href=\"https://github.com/JuliaLang/julia/tree/6445c82d0060dbe82b88436f0f4371a4ee64d918/base/grisu/float.jl#L133\" target=\"_blank\">grisu/float.jl:133</a></li> <li> -(c::<b>BigInt</b>, x::<b>BigFloat</b>) at <a href=\"https://github.com/JuliaLang/julia/tree/6445c82d0060dbe82b88436f0f4371a4ee64d918/base/mpfr.jl#L300\" target=\"_blank\">mpfr.jl:300</a></li> <li> -(x::<b>BigInt</b>) at <a href=\"https://github.com/JuliaLang/julia/tree/6445c82d0060dbe82b88436f0f4371a4ee64d918/base/gmp.jl#L348\" target=\"_blank\">gmp.jl:348</a></li> <li> -(x::<b>BigInt</b>, y::<b>BigInt</b>) at <a href=\"https://github.com/JuliaLang/julia/tree/6445c82d0060dbe82b88436f0f4371a4ee64d918/base/gmp.jl#L255\" target=\"_blank\">gmp.jl:255</a></li> <li> -(x::<b>BigInt</b>, c::<b>Union{UInt16,UInt32,UInt64,UInt8}</b>) at <a href=\"https://github.com/JuliaLang/julia/tree/6445c82d0060dbe82b88436f0f4371a4ee64d918/base/gmp.jl#L317\" target=\"_blank\">gmp.jl:317</a></li> <li> -(x::<b>BigInt</b>, c::<b>Union{Int16,Int32,Int64,Int8}</b>) at <a href=\"https://github.com/JuliaLang/julia/tree/6445c82d0060dbe82b88436f0f4371a4ee64d918/base/gmp.jl#L328\" target=\"_blank\">gmp.jl:328</a></li> <li> -(x::<b>BigFloat</b>) at <a href=\"https://github.com/JuliaLang/julia/tree/6445c82d0060dbe82b88436f0f4371a4ee64d918/base/mpfr.jl#L399\" target=\"_blank\">mpfr.jl:399</a></li> <li> -(x::<b>BigFloat</b>, c::<b>BigInt</b>) at <a href=\"https://github.com/JuliaLang/julia/tree/6445c82d0060dbe82b88436f0f4371a4ee64d918/base/mpfr.jl#L291\" target=\"_blank\">mpfr.jl:291</a></li> <li> -(x::<b>BigFloat</b>, y::<b>BigFloat</b>) at <a href=\"https://github.com/JuliaLang/julia/tree/6445c82d0060dbe82b88436f0f4371a4ee64d918/base/mpfr.jl#L248\" target=\"_blank\">mpfr.jl:248</a></li> <li> -(x::<b>BigFloat</b>, c::<b>Union{UInt16,UInt32,UInt64,UInt8}</b>) at <a href=\"https://github.com/JuliaLang/julia/tree/6445c82d0060dbe82b88436f0f4371a4ee64d918/base/mpfr.jl#L255\" target=\"_blank\">mpfr.jl:255</a></li> <li> -(x::<b>BigFloat</b>, c::<b>Union{Int16,Int32,Int64,Int8}</b>) at <a href=\"https://github.com/JuliaLang/julia/tree/6445c82d0060dbe82b88436f0f4371a4ee64d918/base/mpfr.jl#L267\" target=\"_blank\">mpfr.jl:267</a></li> <li> -(x::<b>BigFloat</b>, c::<b>Union{Float16,Float32,Float64}</b>) at <a href=\"https://github.com/JuliaLang/julia/tree/6445c82d0060dbe82b88436f0f4371a4ee64d918/base/mpfr.jl#L279\" target=\"_blank\">mpfr.jl:279</a></li> <li> -(B::<b>BitArray{2}</b>, J::<b>UniformScaling</b>) at <a href=\"https://github.com/JuliaLang/julia/tree/6445c82d0060dbe82b88436f0f4371a4ee64d918/base/linalg/uniformscaling.jl#L46\" target=\"_blank\">linalg/uniformscaling.jl:46</a></li> <li> -(a::<b>Base.Pkg.Resolve.VersionWeights.VWPreBuildItem</b>) at <a href=\"https://github.com/JuliaLang/julia/tree/6445c82d0060dbe82b88436f0f4371a4ee64d918/base/pkg/resolve/versionweight.jl#L87\" target=\"_blank\">pkg/resolve/versionweight.jl:87</a></li> <li> -(a::<b>Base.Pkg.Resolve.VersionWeights.VWPreBuildItem</b>, b::<b>Base.Pkg.Resolve.VersionWeights.VWPreBuildItem</b>) at <a href=\"https://github.com/JuliaLang/julia/tree/6445c82d0060dbe82b88436f0f4371a4ee64d918/base/pkg/resolve/versionweight.jl#L84\" target=\"_blank\">pkg/resolve/versionweight.jl:84</a></li> <li> -(a::<b>Base.Pkg.Resolve.VersionWeights.VWPreBuild</b>) at <a href=\"https://github.com/JuliaLang/julia/tree/6445c82d0060dbe82b88436f0f4371a4ee64d918/base/pkg/resolve/versionweight.jl#L137\" target=\"_blank\">pkg/resolve/versionweight.jl:137</a></li> <li> -(a::<b>Base.Pkg.Resolve.VersionWeights.VWPreBuild</b>, b::<b>Base.Pkg.Resolve.VersionWeights.VWPreBuild</b>) at <a href=\"https://github.com/JuliaLang/julia/tree/6445c82d0060dbe82b88436f0f4371a4ee64d918/base/pkg/resolve/versionweight.jl#L126\" target=\"_blank\">pkg/resolve/versionweight.jl:126</a></li> <li> -(a::<b>Base.Pkg.Resolve.VersionWeights.VersionWeight</b>) at <a href=\"https://github.com/JuliaLang/julia/tree/6445c82d0060dbe82b88436f0f4371a4ee64d918/base/pkg/resolve/versionweight.jl#L185\" target=\"_blank\">pkg/resolve/versionweight.jl:185</a></li> <li> -(a::<b>Base.Pkg.Resolve.VersionWeights.VersionWeight</b>, b::<b>Base.Pkg.Resolve.VersionWeights.VersionWeight</b>) at <a href=\"https://github.com/JuliaLang/julia/tree/6445c82d0060dbe82b88436f0f4371a4ee64d918/base/pkg/resolve/versionweight.jl#L177\" target=\"_blank\">pkg/resolve/versionweight.jl:177</a></li> <li> -(a::<b>Base.Pkg.Resolve.MaxSum.FieldValues.FieldValue</b>, b::<b>Base.Pkg.Resolve.MaxSum.FieldValues.FieldValue</b>) at <a href=\"https://github.com/JuliaLang/julia/tree/6445c82d0060dbe82b88436f0f4371a4ee64d918/base/pkg/resolve/fieldvalue.jl#L43\" target=\"_blank\">pkg/resolve/fieldvalue.jl:43</a></li> <li> -(x::<b>Base.Dates.CompoundPeriod</b>) at <a href=\"https://github.com/JuliaLang/julia/tree/6445c82d0060dbe82b88436f0f4371a4ee64d918/base/dates/periods.jl#L318\" target=\"_blank\">dates/periods.jl:318</a></li> <li> -(x::<b>Base.Dates.CompoundPeriod</b>, y::<b>Base.Dates.Period</b>) at <a href=\"https://github.com/JuliaLang/julia/tree/6445c82d0060dbe82b88436f0f4371a4ee64d918/base/dates/periods.jl#L317\" target=\"_blank\">dates/periods.jl:317</a></li> <li> -(x::<b>Base.Dates.CompoundPeriod</b>, y::<b>Base.Dates.TimeType</b>) at <a href=\"https://github.com/JuliaLang/julia/tree/6445c82d0060dbe82b88436f0f4371a4ee64d918/base/dates/periods.jl#L367\" target=\"_blank\">dates/periods.jl:367</a></li> <li> -(dt::<b>DateTime</b>, z::<b>Base.Dates.Month</b>) at <a href=\"https://github.com/JuliaLang/julia/tree/6445c82d0060dbe82b88436f0f4371a4ee64d918/base/dates/arithmetic.jl#L49\" target=\"_blank\">dates/arithmetic.jl:49</a></li> <li> -(dt::<b>DateTime</b>, y::<b>Base.Dates.Year</b>) at <a href=\"https://github.com/JuliaLang/julia/tree/6445c82d0060dbe82b88436f0f4371a4ee64d918/base/dates/arithmetic.jl#L21\" target=\"_blank\">dates/arithmetic.jl:21</a></li> <li> -(x::<b>DateTime</b>, y::<b>Base.Dates.Period</b>) at <a href=\"https://github.com/JuliaLang/julia/tree/6445c82d0060dbe82b88436f0f4371a4ee64d918/base/dates/arithmetic.jl#L65\" target=\"_blank\">dates/arithmetic.jl:65</a></li> <li> -(x::<b>Date</b>, y::<b>Base.Dates.Day</b>) at <a href=\"https://github.com/JuliaLang/julia/tree/6445c82d0060dbe82b88436f0f4371a4ee64d918/base/dates/arithmetic.jl#L63\" target=\"_blank\">dates/arithmetic.jl:63</a></li> <li> -(x::<b>Date</b>, y::<b>Base.Dates.Week</b>) at <a href=\"https://github.com/JuliaLang/julia/tree/6445c82d0060dbe82b88436f0f4371a4ee64d918/base/dates/arithmetic.jl#L61\" target=\"_blank\">dates/arithmetic.jl:61</a></li> <li> -(dt::<b>Date</b>, z::<b>Base.Dates.Month</b>) at <a href=\"https://github.com/JuliaLang/julia/tree/6445c82d0060dbe82b88436f0f4371a4ee64d918/base/dates/arithmetic.jl#L55\" target=\"_blank\">dates/arithmetic.jl:55</a></li> <li> -(dt::<b>Date</b>, y::<b>Base.Dates.Year</b>) at <a href=\"https://github.com/JuliaLang/julia/tree/6445c82d0060dbe82b88436f0f4371a4ee64d918/base/dates/arithmetic.jl#L25\" target=\"_blank\">dates/arithmetic.jl:25</a></li> <li> -(c::<b>Union{UInt16,UInt32,UInt64,UInt8}</b>, x::<b>BigInt</b>) at <a href=\"https://github.com/JuliaLang/julia/tree/6445c82d0060dbe82b88436f0f4371a4ee64d918/base/gmp.jl#L322\" target=\"_blank\">gmp.jl:322</a></li> <li> -(c::<b>Union{Int16,Int32,Int64,Int8}</b>, x::<b>BigInt</b>) at <a href=\"https://github.com/JuliaLang/julia/tree/6445c82d0060dbe82b88436f0f4371a4ee64d918/base/gmp.jl#L329\" target=\"_blank\">gmp.jl:329</a></li> <li> -(c::<b>Union{UInt16,UInt32,UInt64,UInt8}</b>, x::<b>BigFloat</b>) at <a href=\"https://github.com/JuliaLang/julia/tree/6445c82d0060dbe82b88436f0f4371a4ee64d918/base/mpfr.jl#L260\" target=\"_blank\">mpfr.jl:260</a></li> <li> -(c::<b>Union{Int16,Int32,Int64,Int8}</b>, x::<b>BigFloat</b>) at <a href=\"https://github.com/JuliaLang/julia/tree/6445c82d0060dbe82b88436f0f4371a4ee64d918/base/mpfr.jl#L272\" target=\"_blank\">mpfr.jl:272</a></li> <li> -<i>{T<:Union{Int128,Int16,Int32,Int64,Int8,UInt128,UInt16,UInt32,UInt64,UInt8}}</i>(x::<b>T</b>) at <a href=\"https://github.com/JuliaLang/julia/tree/6445c82d0060dbe82b88436f0f4371a4ee64d918/base/int.jl#L30\" target=\"_blank\">int.jl:30</a></li> <li> -<i>{T<:Union{Int128,Int16,Int32,Int64,Int8,UInt128,UInt16,UInt32,UInt64,UInt8}}</i>(x::<b>T</b>, y::<b>T</b>) at <a href=\"https://github.com/JuliaLang/julia/tree/6445c82d0060dbe82b88436f0f4371a4ee64d918/base/int.jl#L31\" target=\"_blank\">int.jl:31</a></li> <li> -(z::<b>Complex</b>) at <a href=\"https://github.com/JuliaLang/julia/tree/6445c82d0060dbe82b88436f0f4371a4ee64d918/base/complex.jl#L124\" target=\"_blank\">complex.jl:124</a></li> <li> -(z::<b>Complex</b>, w::<b>Complex</b>) at <a href=\"https://github.com/JuliaLang/julia/tree/6445c82d0060dbe82b88436f0f4371a4ee64d918/base/complex.jl#L126\" target=\"_blank\">complex.jl:126</a></li> <li> -(z::<b>Complex</b>, x::<b>Bool</b>) at <a href=\"https://github.com/JuliaLang/julia/tree/6445c82d0060dbe82b88436f0f4371a4ee64d918/base/complex.jl#L146\" target=\"_blank\">complex.jl:146</a></li> <li> -<i>{T<:Signed}</i>(x::<b>Rational{T}</b>) at <a href=\"https://github.com/JuliaLang/julia/tree/6445c82d0060dbe82b88436f0f4371a4ee64d918/base/rational.jl#L190\" target=\"_blank\">rational.jl:190</a></li> <li> -<i>{T<:Unsigned}</i>(x::<b>Rational{T}</b>) at <a href=\"https://github.com/JuliaLang/julia/tree/6445c82d0060dbe82b88436f0f4371a4ee64d918/base/rational.jl#L194\" target=\"_blank\">rational.jl:194</a></li> <li> -(x::<b>Rational</b>) at <a href=\"https://github.com/JuliaLang/julia/tree/6445c82d0060dbe82b88436f0f4371a4ee64d918/base/rational.jl#L188\" target=\"_blank\">rational.jl:188</a></li> <li> -(x::<b>Irrational</b>) at <a href=\"https://github.com/JuliaLang/julia/tree/6445c82d0060dbe82b88436f0f4371a4ee64d918/base/irrationals.jl#L86\" target=\"_blank\">irrationals.jl:86</a></li> <li> -(x::<b>Real</b>, z::<b>Complex{Bool}</b>) at <a href=\"https://github.com/JuliaLang/julia/tree/6445c82d0060dbe82b88436f0f4371a4ee64d918/base/complex.jl#L154\" target=\"_blank\">complex.jl:154</a></li> <li> -(x::<b>Real</b>, z::<b>Complex</b>) at <a href=\"https://github.com/JuliaLang/julia/tree/6445c82d0060dbe82b88436f0f4371a4ee64d918/base/complex.jl#L166\" target=\"_blank\">complex.jl:166</a></li> <li> -(z::<b>Complex</b>, x::<b>Real</b>) at <a href=\"https://github.com/JuliaLang/julia/tree/6445c82d0060dbe82b88436f0f4371a4ee64d918/base/complex.jl#L169\" target=\"_blank\">complex.jl:169</a></li> <li> -(x::<b>Rational</b>, y::<b>Rational</b>) at <a href=\"https://github.com/JuliaLang/julia/tree/6445c82d0060dbe82b88436f0f4371a4ee64d918/base/rational.jl#L202\" target=\"_blank\">rational.jl:202</a></li> <li> -(c::<b>Union{Float16,Float32,Float64}</b>, x::<b>BigFloat</b>) at <a href=\"https://github.com/JuliaLang/julia/tree/6445c82d0060dbe82b88436f0f4371a4ee64d918/base/mpfr.jl#L284\" target=\"_blank\">mpfr.jl:284</a></li> <li> -(x::<b>Irrational</b>, y::<b>Irrational</b>) at <a href=\"https://github.com/JuliaLang/julia/tree/6445c82d0060dbe82b88436f0f4371a4ee64d918/base/irrationals.jl#L88\" target=\"_blank\">irrationals.jl:88</a></li> <li> -<i>{T<:Number}</i>(x::<b>T</b>, y::<b>T</b>) at <a href=\"https://github.com/JuliaLang/julia/tree/6445c82d0060dbe82b88436f0f4371a4ee64d918/base/promotion.jl#L257\" target=\"_blank\">promotion.jl:257</a></li> <li> -(x::<b>Number</b>, y::<b>Number</b>) at <a href=\"https://github.com/JuliaLang/julia/tree/6445c82d0060dbe82b88436f0f4371a4ee64d918/base/promotion.jl#L192\" target=\"_blank\">promotion.jl:192</a></li> <li> -<i>{T<:Base.Dates.TimeType}</i>(x::<b>OrdinalRange{T,S<:Any}</b>, y::<b>OrdinalRange{T,S<:Any}</b>) at <a href=\"https://github.com/JuliaLang/julia/tree/6445c82d0060dbe82b88436f0f4371a4ee64d918/base/dates/arithmetic.jl#L95\" target=\"_blank\">dates/arithmetic.jl:95</a></li> <li> -(r::<b>OrdinalRange</b>) at <a href=\"https://github.com/JuliaLang/julia/tree/6445c82d0060dbe82b88436f0f4371a4ee64d918/base/range.jl#L705\" target=\"_blank\">range.jl:705</a></li> <li> -(r::<b>FloatRange</b>) at <a href=\"https://github.com/JuliaLang/julia/tree/6445c82d0060dbe82b88436f0f4371a4ee64d918/base/range.jl#L706\" target=\"_blank\">range.jl:706</a></li> <li> -(r::<b>LinSpace</b>) at <a href=\"https://github.com/JuliaLang/julia/tree/6445c82d0060dbe82b88436f0f4371a4ee64d918/base/range.jl#L707\" target=\"_blank\">range.jl:707</a></li> <li> -(r1::<b>OrdinalRange</b>, r2::<b>OrdinalRange</b>) at <a href=\"https://github.com/JuliaLang/julia/tree/6445c82d0060dbe82b88436f0f4371a4ee64d918/base/operators.jl#L505\" target=\"_blank\">operators.jl:505</a></li> <li> -<i>{T<:AbstractFloat}</i>(r1::<b>FloatRange{T}</b>, r2::<b>FloatRange{T}</b>) at <a href=\"https://github.com/JuliaLang/julia/tree/6445c82d0060dbe82b88436f0f4371a4ee64d918/base/operators.jl#L512\" target=\"_blank\">operators.jl:512</a></li> <li> -<i>{T<:AbstractFloat}</i>(r1::<b>LinSpace{T}</b>, r2::<b>LinSpace{T}</b>) at <a href=\"https://github.com/JuliaLang/julia/tree/6445c82d0060dbe82b88436f0f4371a4ee64d918/base/operators.jl#L531\" target=\"_blank\">operators.jl:531</a></li> <li> -(r1::<b>Union{FloatRange,LinSpace,OrdinalRange}</b>, r2::<b>Union{FloatRange,LinSpace,OrdinalRange}</b>) at <a href=\"https://github.com/JuliaLang/julia/tree/6445c82d0060dbe82b88436f0f4371a4ee64d918/base/operators.jl#L544\" target=\"_blank\">operators.jl:544</a></li> <li> -(x::<b>Ptr</b>, y::<b>Ptr</b>) at <a href=\"https://github.com/JuliaLang/julia/tree/6445c82d0060dbe82b88436f0f4371a4ee64d918/base/pointer.jl#L104\" target=\"_blank\">pointer.jl:104</a></li> <li> -(x::<b>Ptr</b>, y::<b>Integer</b>) at <a href=\"https://github.com/JuliaLang/julia/tree/6445c82d0060dbe82b88436f0f4371a4ee64d918/base/pointer.jl#L107\" target=\"_blank\">pointer.jl:107</a></li> <li> -(B::<b>BitArray</b>) at <a href=\"https://github.com/JuliaLang/julia/tree/6445c82d0060dbe82b88436f0f4371a4ee64d918/base/bitarray.jl#L980\" target=\"_blank\">bitarray.jl:980</a></li> <li> -(A::<b>BitArray</b>, B::<b>BitArray</b>) at <a href=\"https://github.com/JuliaLang/julia/tree/6445c82d0060dbe82b88436f0f4371a4ee64d918/base/bitarray.jl#L1056\" target=\"_blank\">bitarray.jl:1056</a></li> <li> -(A::<b>SymTridiagonal</b>, B::<b>SymTridiagonal</b>) at <a href=\"https://github.com/JuliaLang/julia/tree/6445c82d0060dbe82b88436f0f4371a4ee64d918/base/linalg/tridiag.jl#L97\" target=\"_blank\">linalg/tridiag.jl:97</a></li> <li> -(A::<b>Tridiagonal</b>, B::<b>Tridiagonal</b>) at <a href=\"https://github.com/JuliaLang/julia/tree/6445c82d0060dbe82b88436f0f4371a4ee64d918/base/linalg/tridiag.jl#L495\" target=\"_blank\">linalg/tridiag.jl:495</a></li> <li> -(A::<b>LowerTriangular</b>) at <a href=\"https://github.com/JuliaLang/julia/tree/6445c82d0060dbe82b88436f0f4371a4ee64d918/base/linalg/triangular.jl#L292\" target=\"_blank\">linalg/triangular.jl:292</a></li> <li> -(A::<b>UpperTriangular</b>) at <a href=\"https://github.com/JuliaLang/julia/tree/6445c82d0060dbe82b88436f0f4371a4ee64d918/base/linalg/triangular.jl#L293\" target=\"_blank\">linalg/triangular.jl:293</a></li> <li> -(A::<b>Base.LinAlg.UnitLowerTriangular</b>) at <a href=\"https://github.com/JuliaLang/julia/tree/6445c82d0060dbe82b88436f0f4371a4ee64d918/base/linalg/triangular.jl#L295\" target=\"_blank\">linalg/triangular.jl:295</a></li> <li> -(A::<b>Base.LinAlg.UnitUpperTriangular</b>) at <a href=\"https://github.com/JuliaLang/julia/tree/6445c82d0060dbe82b88436f0f4371a4ee64d918/base/linalg/triangular.jl#L302\" target=\"_blank\">linalg/triangular.jl:302</a></li> <li> -(A::<b>UpperTriangular</b>, B::<b>UpperTriangular</b>) at <a href=\"https://github.com/JuliaLang/julia/tree/6445c82d0060dbe82b88436f0f4371a4ee64d918/base/linalg/triangular.jl#L367\" target=\"_blank\">linalg/triangular.jl:367</a></li> <li> -(A::<b>LowerTriangular</b>, B::<b>LowerTriangular</b>) at <a href=\"https://github.com/JuliaLang/julia/tree/6445c82d0060dbe82b88436f0f4371a4ee64d918/base/linalg/triangular.jl#L368\" target=\"_blank\">linalg/triangular.jl:368</a></li> <li> -(A::<b>UpperTriangular</b>, B::<b>Base.LinAlg.UnitUpperTriangular</b>) at <a href=\"https://github.com/JuliaLang/julia/tree/6445c82d0060dbe82b88436f0f4371a4ee64d918/base/linalg/triangular.jl#L369\" target=\"_blank\">linalg/triangular.jl:369</a></li> <li> -(A::<b>LowerTriangular</b>, B::<b>Base.LinAlg.UnitLowerTriangular</b>) at <a href=\"https://github.com/JuliaLang/julia/tree/6445c82d0060dbe82b88436f0f4371a4ee64d918/base/linalg/triangular.jl#L370\" target=\"_blank\">linalg/triangular.jl:370</a></li> <li> -(A::<b>Base.LinAlg.UnitUpperTriangular</b>, B::<b>UpperTriangular</b>) at <a href=\"https://github.com/JuliaLang/julia/tree/6445c82d0060dbe82b88436f0f4371a4ee64d918/base/linalg/triangular.jl#L371\" target=\"_blank\">linalg/triangular.jl:371</a></li> <li> -(A::<b>Base.LinAlg.UnitLowerTriangular</b>, B::<b>LowerTriangular</b>) at <a href=\"https://github.com/JuliaLang/julia/tree/6445c82d0060dbe82b88436f0f4371a4ee64d918/base/linalg/triangular.jl#L372\" target=\"_blank\">linalg/triangular.jl:372</a></li> <li> -(A::<b>Base.LinAlg.UnitUpperTriangular</b>, B::<b>Base.LinAlg.UnitUpperTriangular</b>) at <a href=\"https://github.com/JuliaLang/julia/tree/6445c82d0060dbe82b88436f0f4371a4ee64d918/base/linalg/triangular.jl#L373\" target=\"_blank\">linalg/triangular.jl:373</a></li> <li> -(A::<b>Base.LinAlg.UnitLowerTriangular</b>, B::<b>Base.LinAlg.UnitLowerTriangular</b>) at <a href=\"https://github.com/JuliaLang/julia/tree/6445c82d0060dbe82b88436f0f4371a4ee64d918/base/linalg/triangular.jl#L374\" target=\"_blank\">linalg/triangular.jl:374</a></li> <li> -(A::<b>Base.LinAlg.AbstractTriangular</b>, B::<b>Base.LinAlg.AbstractTriangular</b>) at <a href=\"https://github.com/JuliaLang/julia/tree/6445c82d0060dbe82b88436f0f4371a4ee64d918/base/linalg/triangular.jl#L375\" target=\"_blank\">linalg/triangular.jl:375</a></li> <li> -<i>{Tv,S<:AbstractArray{T,2}}</i>(A::<b>Symmetric{Tv,S}</b>) at <a href=\"https://github.com/JuliaLang/julia/tree/6445c82d0060dbe82b88436f0f4371a4ee64d918/base/linalg/symmetric.jl#L169\" target=\"_blank\">linalg/symmetric.jl:169</a></li> <li> -(A::<b>Diagonal</b>) at <a href=\"https://github.com/JuliaLang/julia/tree/6445c82d0060dbe82b88436f0f4371a4ee64d918/base/linalg/diagonal.jl#L109\" target=\"_blank\">linalg/diagonal.jl:109</a></li> <li> -(Da::<b>Diagonal</b>, Db::<b>Diagonal</b>) at <a href=\"https://github.com/JuliaLang/julia/tree/6445c82d0060dbe82b88436f0f4371a4ee64d918/base/linalg/diagonal.jl#L111\" target=\"_blank\">linalg/diagonal.jl:111</a></li> <li> -(A::<b>Bidiagonal</b>) at <a href=\"https://github.com/JuliaLang/julia/tree/6445c82d0060dbe82b88436f0f4371a4ee64d918/base/linalg/bidiag.jl#L271\" target=\"_blank\">linalg/bidiag.jl:271</a></li> <li> -(A::<b>Bidiagonal</b>, B::<b>Bidiagonal</b>) at <a href=\"https://github.com/JuliaLang/julia/tree/6445c82d0060dbe82b88436f0f4371a4ee64d918/base/linalg/bidiag.jl#L264\" target=\"_blank\">linalg/bidiag.jl:264</a></li> <li> -(UL::<b>UpperTriangular</b>, J::<b>UniformScaling</b>) at <a href=\"https://github.com/JuliaLang/julia/tree/6445c82d0060dbe82b88436f0f4371a4ee64d918/base/linalg/uniformscaling.jl#L55\" target=\"_blank\">linalg/uniformscaling.jl:55</a></li> <li> -(UL::<b>Base.LinAlg.UnitUpperTriangular</b>, J::<b>UniformScaling</b>) at <a href=\"https://github.com/JuliaLang/julia/tree/6445c82d0060dbe82b88436f0f4371a4ee64d918/base/linalg/uniformscaling.jl#L58\" target=\"_blank\">linalg/uniformscaling.jl:58</a></li> <li> -(UL::<b>LowerTriangular</b>, J::<b>UniformScaling</b>) at <a href=\"https://github.com/JuliaLang/julia/tree/6445c82d0060dbe82b88436f0f4371a4ee64d918/base/linalg/uniformscaling.jl#L55\" target=\"_blank\">linalg/uniformscaling.jl:55</a></li> <li> -(UL::<b>Base.LinAlg.UnitLowerTriangular</b>, J::<b>UniformScaling</b>) at <a href=\"https://github.com/JuliaLang/julia/tree/6445c82d0060dbe82b88436f0f4371a4ee64d918/base/linalg/uniformscaling.jl#L58\" target=\"_blank\">linalg/uniformscaling.jl:58</a></li> <li> -(A::<b>Diagonal</b>, B::<b>Bidiagonal</b>) at <a href=\"https://github.com/JuliaLang/julia/tree/6445c82d0060dbe82b88436f0f4371a4ee64d918/base/linalg/special.jl#L120\" target=\"_blank\">linalg/special.jl:120</a></li> <li> -(A::<b>Bidiagonal</b>, B::<b>Diagonal</b>) at <a href=\"https://github.com/JuliaLang/julia/tree/6445c82d0060dbe82b88436f0f4371a4ee64d918/base/linalg/special.jl#L121\" target=\"_blank\">linalg/special.jl:121</a></li> <li> -(A::<b>Diagonal</b>, B::<b>Tridiagonal</b>) at <a href=\"https://github.com/JuliaLang/julia/tree/6445c82d0060dbe82b88436f0f4371a4ee64d918/base/linalg/special.jl#L120\" target=\"_blank\">linalg/special.jl:120</a></li> <li> -(A::<b>Tridiagonal</b>, B::<b>Diagonal</b>) at <a href=\"https://github.com/JuliaLang/julia/tree/6445c82d0060dbe82b88436f0f4371a4ee64d918/base/linalg/special.jl#L121\" target=\"_blank\">linalg/special.jl:121</a></li> <li> -(A::<b>Diagonal</b>, B::<b>Array{T<:Any,2}</b>) at <a href=\"https://github.com/JuliaLang/julia/tree/6445c82d0060dbe82b88436f0f4371a4ee64d918/base/linalg/special.jl#L120\" target=\"_blank\">linalg/special.jl:120</a></li> <li> -(A::<b>Array{T<:Any,2}</b>, B::<b>Diagonal</b>) at <a href=\"https://github.com/JuliaLang/julia/tree/6445c82d0060dbe82b88436f0f4371a4ee64d918/base/linalg/special.jl#L121\" target=\"_blank\">linalg/special.jl:121</a></li> <li> -(A::<b>Bidiagonal</b>, B::<b>Tridiagonal</b>) at <a href=\"https://github.com/JuliaLang/julia/tree/6445c82d0060dbe82b88436f0f4371a4ee64d918/base/linalg/special.jl#L120\" target=\"_blank\">linalg/special.jl:120</a></li> <li> -(A::<b>Tridiagonal</b>, B::<b>Bidiagonal</b>) at <a href=\"https://github.com/JuliaLang/julia/tree/6445c82d0060dbe82b88436f0f4371a4ee64d918/base/linalg/special.jl#L121\" target=\"_blank\">linalg/special.jl:121</a></li> <li> -(A::<b>Bidiagonal</b>, B::<b>Array{T<:Any,2}</b>) at <a href=\"https://github.com/JuliaLang/julia/tree/6445c82d0060dbe82b88436f0f4371a4ee64d918/base/linalg/special.jl#L120\" target=\"_blank\">linalg/special.jl:120</a></li> <li> -(A::<b>Array{T<:Any,2}</b>, B::<b>Bidiagonal</b>) at <a href=\"https://github.com/JuliaLang/julia/tree/6445c82d0060dbe82b88436f0f4371a4ee64d918/base/linalg/special.jl#L121\" target=\"_blank\">linalg/special.jl:121</a></li> <li> -(A::<b>Tridiagonal</b>, B::<b>Array{T<:Any,2}</b>) at <a href=\"https://github.com/JuliaLang/julia/tree/6445c82d0060dbe82b88436f0f4371a4ee64d918/base/linalg/special.jl#L120\" target=\"_blank\">linalg/special.jl:120</a></li> <li> -(A::<b>Array{T<:Any,2}</b>, B::<b>Tridiagonal</b>) at <a href=\"https://github.com/JuliaLang/julia/tree/6445c82d0060dbe82b88436f0f4371a4ee64d918/base/linalg/special.jl#L121\" target=\"_blank\">linalg/special.jl:121</a></li> <li> -(A::<b>SymTridiagonal</b>, B::<b>Tridiagonal</b>) at <a href=\"https://github.com/JuliaLang/julia/tree/6445c82d0060dbe82b88436f0f4371a4ee64d918/base/linalg/special.jl#L129\" target=\"_blank\">linalg/special.jl:129</a></li> <li> -(A::<b>Tridiagonal</b>, B::<b>SymTridiagonal</b>) at <a href=\"https://github.com/JuliaLang/julia/tree/6445c82d0060dbe82b88436f0f4371a4ee64d918/base/linalg/special.jl#L130\" target=\"_blank\">linalg/special.jl:130</a></li> <li> -(A::<b>SymTridiagonal</b>, B::<b>Array{T<:Any,2}</b>) at <a href=\"https://github.com/JuliaLang/julia/tree/6445c82d0060dbe82b88436f0f4371a4ee64d918/base/linalg/special.jl#L129\" target=\"_blank\">linalg/special.jl:129</a></li> <li> -(A::<b>Array{T<:Any,2}</b>, B::<b>SymTridiagonal</b>) at <a href=\"https://github.com/JuliaLang/julia/tree/6445c82d0060dbe82b88436f0f4371a4ee64d918/base/linalg/special.jl#L130\" target=\"_blank\">linalg/special.jl:130</a></li> <li> -(A::<b>Diagonal</b>, B::<b>SymTridiagonal</b>) at <a href=\"https://github.com/JuliaLang/julia/tree/6445c82d0060dbe82b88436f0f4371a4ee64d918/base/linalg/special.jl#L138\" target=\"_blank\">linalg/special.jl:138</a></li> <li> -(A::<b>SymTridiagonal</b>, B::<b>Diagonal</b>) at <a href=\"https://github.com/JuliaLang/julia/tree/6445c82d0060dbe82b88436f0f4371a4ee64d918/base/linalg/special.jl#L139\" target=\"_blank\">linalg/special.jl:139</a></li> <li> -(A::<b>Bidiagonal</b>, B::<b>SymTridiagonal</b>) at <a href=\"https://github.com/JuliaLang/julia/tree/6445c82d0060dbe82b88436f0f4371a4ee64d918/base/linalg/special.jl#L138\" target=\"_blank\">linalg/special.jl:138</a></li> <li> -(A::<b>SymTridiagonal</b>, B::<b>Bidiagonal</b>) at <a href=\"https://github.com/JuliaLang/julia/tree/6445c82d0060dbe82b88436f0f4371a4ee64d918/base/linalg/special.jl#L139\" target=\"_blank\">linalg/special.jl:139</a></li> <li> -(A::<b>Diagonal</b>, B::<b>UpperTriangular</b>) at <a href=\"https://github.com/JuliaLang/julia/tree/6445c82d0060dbe82b88436f0f4371a4ee64d918/base/linalg/special.jl#L150\" target=\"_blank\">linalg/special.jl:150</a></li> <li> -(A::<b>UpperTriangular</b>, B::<b>Diagonal</b>) at <a href=\"https://github.com/JuliaLang/julia/tree/6445c82d0060dbe82b88436f0f4371a4ee64d918/base/linalg/special.jl#L151\" target=\"_blank\">linalg/special.jl:151</a></li> <li> -(A::<b>Diagonal</b>, B::<b>Base.LinAlg.UnitUpperTriangular</b>) at <a href=\"https://github.com/JuliaLang/julia/tree/6445c82d0060dbe82b88436f0f4371a4ee64d918/base/linalg/special.jl#L150\" target=\"_blank\">linalg/special.jl:150</a></li> <li> -(A::<b>Base.LinAlg.UnitUpperTriangular</b>, B::<b>Diagonal</b>) at <a href=\"https://github.com/JuliaLang/julia/tree/6445c82d0060dbe82b88436f0f4371a4ee64d918/base/linalg/special.jl#L151\" target=\"_blank\">linalg/special.jl:151</a></li> <li> -(A::<b>Diagonal</b>, B::<b>LowerTriangular</b>) at <a href=\"https://github.com/JuliaLang/julia/tree/6445c82d0060dbe82b88436f0f4371a4ee64d918/base/linalg/special.jl#L150\" target=\"_blank\">linalg/special.jl:150</a></li> <li> -(A::<b>LowerTriangular</b>, B::<b>Diagonal</b>) at <a href=\"https://github.com/JuliaLang/julia/tree/6445c82d0060dbe82b88436f0f4371a4ee64d918/base/linalg/special.jl#L151\" target=\"_blank\">linalg/special.jl:151</a></li> <li> -(A::<b>Diagonal</b>, B::<b>Base.LinAlg.UnitLowerTriangular</b>) at <a href=\"https://github.com/JuliaLang/julia/tree/6445c82d0060dbe82b88436f0f4371a4ee64d918/base/linalg/special.jl#L150\" target=\"_blank\">linalg/special.jl:150</a></li> <li> -(A::<b>Base.LinAlg.UnitLowerTriangular</b>, B::<b>Diagonal</b>) at <a href=\"https://github.com/JuliaLang/julia/tree/6445c82d0060dbe82b88436f0f4371a4ee64d918/base/linalg/special.jl#L151\" target=\"_blank\">linalg/special.jl:151</a></li> <li> -(A::<b>Base.LinAlg.AbstractTriangular</b>, B::<b>SymTridiagonal</b>) at <a href=\"https://github.com/JuliaLang/julia/tree/6445c82d0060dbe82b88436f0f4371a4ee64d918/base/linalg/special.jl#L157\" target=\"_blank\">linalg/special.jl:157</a></li> <li> -(A::<b>SymTridiagonal</b>, B::<b>Base.LinAlg.AbstractTriangular</b>) at <a href=\"https://github.com/JuliaLang/julia/tree/6445c82d0060dbe82b88436f0f4371a4ee64d918/base/linalg/special.jl#L158\" target=\"_blank\">linalg/special.jl:158</a></li> <li> -(A::<b>Base.LinAlg.AbstractTriangular</b>, B::<b>Tridiagonal</b>) at <a href=\"https://github.com/JuliaLang/julia/tree/6445c82d0060dbe82b88436f0f4371a4ee64d918/base/linalg/special.jl#L157\" target=\"_blank\">linalg/special.jl:157</a></li> <li> -(A::<b>Tridiagonal</b>, B::<b>Base.LinAlg.AbstractTriangular</b>) at <a href=\"https://github.com/JuliaLang/julia/tree/6445c82d0060dbe82b88436f0f4371a4ee64d918/base/linalg/special.jl#L158\" target=\"_blank\">linalg/special.jl:158</a></li> <li> -(A::<b>Base.LinAlg.AbstractTriangular</b>, B::<b>Bidiagonal</b>) at <a href=\"https://github.com/JuliaLang/julia/tree/6445c82d0060dbe82b88436f0f4371a4ee64d918/base/linalg/special.jl#L157\" target=\"_blank\">linalg/special.jl:157</a></li> <li> -(A::<b>Bidiagonal</b>, B::<b>Base.LinAlg.AbstractTriangular</b>) at <a href=\"https://github.com/JuliaLang/julia/tree/6445c82d0060dbe82b88436f0f4371a4ee64d918/base/linalg/special.jl#L158\" target=\"_blank\">linalg/special.jl:158</a></li> <li> -(A::<b>Base.LinAlg.AbstractTriangular</b>, B::<b>Array{T<:Any,2}</b>) at <a href=\"https://github.com/JuliaLang/julia/tree/6445c82d0060dbe82b88436f0f4371a4ee64d918/base/linalg/special.jl#L157\" target=\"_blank\">linalg/special.jl:157</a></li> <li> -(A::<b>Array{T<:Any,2}</b>, B::<b>Base.LinAlg.AbstractTriangular</b>) at <a href=\"https://github.com/JuliaLang/julia/tree/6445c82d0060dbe82b88436f0f4371a4ee64d918/base/linalg/special.jl#L158\" target=\"_blank\">linalg/special.jl:158</a></li> <li> -<i>{P<:Union{Base.Dates.CompoundPeriod,Base.Dates.Period}}</i>(Y::<b>Union{Base.ReshapedArray{P,N<:Any,A<:DenseArray,MI<:Tuple{Vararg{Base.MultiplicativeInverses.SignedMultiplicativeInverse{Int64},N<:Any}}},DenseArray{P,N<:Any},SubArray{P,N<:Any,A<:Union{Base.ReshapedArray{T<:Any,N<:Any,A<:DenseArray,MI<:Tuple{Vararg{Base.MultiplicativeInverses.SignedMultiplicativeInverse{Int64},N<:Any}}},DenseArray},I<:Tuple{Vararg{Union{Base.AbstractCartesianIndex,Colon,Int64,Range{Int64}},N<:Any}},L<:Any}}</b>, x::<b>Union{Base.Dates.CompoundPeriod,Base.Dates.Period}</b>) at <a href=\"https://github.com/JuliaLang/julia/tree/6445c82d0060dbe82b88436f0f4371a4ee64d918/base/dates/periods.jl#L337\" target=\"_blank\">dates/periods.jl:337</a></li> <li> -<i>{P<:Union{Base.Dates.CompoundPeriod,Base.Dates.Period},Q<:Union{Base.Dates.CompoundPeriod,Base.Dates.Period}}</i>(X::<b>Union{Base.ReshapedArray{P,N<:Any,A<:DenseArray,MI<:Tuple{Vararg{Base.MultiplicativeInverses.SignedMultiplicativeInverse{Int64},N<:Any}}},DenseArray{P,N<:Any},SubArray{P,N<:Any,A<:Union{Base.ReshapedArray{T<:Any,N<:Any,A<:DenseArray,MI<:Tuple{Vararg{Base.MultiplicativeInverses.SignedMultiplicativeInverse{Int64},N<:Any}}},DenseArray},I<:Tuple{Vararg{Union{Base.AbstractCartesianIndex,Colon,Int64,Range{Int64}},N<:Any}},L<:Any}}</b>, Y::<b>Union{Base.ReshapedArray{Q,N<:Any,A<:DenseArray,MI<:Tuple{Vararg{Base.MultiplicativeInverses.SignedMultiplicativeInverse{Int64},N<:Any}}},DenseArray{Q,N<:Any},SubArray{Q,N<:Any,A<:Union{Base.ReshapedArray{T<:Any,N<:Any,A<:DenseArray,MI<:Tuple{Vararg{Base.MultiplicativeInverses.SignedMultiplicativeInverse{Int64},N<:Any}}},DenseArray},I<:Tuple{Vararg{Union{Base.AbstractCartesianIndex,Colon,Int64,Range{Int64}},N<:Any}},L<:Any}}</b>) at <a href=\"https://github.com/JuliaLang/julia/tree/6445c82d0060dbe82b88436f0f4371a4ee64d918/base/dates/periods.jl#L338\" target=\"_blank\">dates/periods.jl:338</a></li> <li> -<i>{T<:Base.Dates.TimeType,P<:Union{Base.Dates.CompoundPeriod,Base.Dates.Period}}</i>(x::<b>Union{Base.ReshapedArray{P,N<:Any,A<:DenseArray,MI<:Tuple{Vararg{Base.MultiplicativeInverses.SignedMultiplicativeInverse{Int64},N<:Any}}},DenseArray{P,N<:Any},SubArray{P,N<:Any,A<:Union{Base.ReshapedArray{T<:Any,N<:Any,A<:DenseArray,MI<:Tuple{Vararg{Base.MultiplicativeInverses.SignedMultiplicativeInverse{Int64},N<:Any}}},DenseArray},I<:Tuple{Vararg{Union{Base.AbstractCartesianIndex,Colon,Int64,Range{Int64}},N<:Any}},L<:Any}}</b>, y::<b>T</b>) at <a href=\"https://github.com/JuliaLang/julia/tree/6445c82d0060dbe82b88436f0f4371a4ee64d918/base/dates/arithmetic.jl#L83\" target=\"_blank\">dates/arithmetic.jl:83</a></li> <li> -<i>{T<:Base.Dates.TimeType}</i>(x::<b>Range{T}</b>, y::<b>Range{T}</b>) at <a href=\"https://github.com/JuliaLang/julia/tree/6445c82d0060dbe82b88436f0f4371a4ee64d918/base/dates/arithmetic.jl#L96\" target=\"_blank\">dates/arithmetic.jl:96</a></li> <li> -<i>{T<:Base.Dates.TimeType}</i>(r::<b>Range{T}</b>, x::<b>Base.Dates.Period</b>) at <a href=\"https://github.com/JuliaLang/julia/tree/6445c82d0060dbe82b88436f0f4371a4ee64d918/base/dates/ranges.jl#L42\" target=\"_blank\">dates/ranges.jl:42</a></li> <li> -(A::<b>SparseMatrixCSC</b>) at <a href=\"https://github.com/JuliaLang/julia/tree/6445c82d0060dbe82b88436f0f4371a4ee64d918/base/sparse/sparsematrix.jl#L1372\" target=\"_blank\">sparse/sparsematrix.jl:1372</a></li> <li> -<i>{Tv1,Ti1,Tv2,Ti2}</i>(A_1::<b>SparseMatrixCSC{Tv1,Ti1}</b>, A_2::<b>SparseMatrixCSC{Tv2,Ti2}</b>) at <a href=\"https://github.com/JuliaLang/julia/tree/6445c82d0060dbe82b88436f0f4371a4ee64d918/base/sparse/sparsematrix.jl#L1697\" target=\"_blank\">sparse/sparsematrix.jl:1697</a></li> <li> -(A::<b>SparseMatrixCSC</b>, B::<b>Array</b>) at <a href=\"https://github.com/JuliaLang/julia/tree/6445c82d0060dbe82b88436f0f4371a4ee64d918/base/sparse/sparsematrix.jl#L1714\" target=\"_blank\">sparse/sparsematrix.jl:1714</a></li> <li> -(A::<b>Array</b>, B::<b>SparseMatrixCSC</b>) at <a href=\"https://github.com/JuliaLang/julia/tree/6445c82d0060dbe82b88436f0f4371a4ee64d918/base/sparse/sparsematrix.jl#L1716\" target=\"_blank\">sparse/sparsematrix.jl:1716</a></li> <li> -(A::<b>SparseMatrixCSC</b>, J::<b>UniformScaling</b>) at <a href=\"https://github.com/JuliaLang/julia/tree/6445c82d0060dbe82b88436f0f4371a4ee64d918/base/sparse/sparsematrix.jl#L3812\" target=\"_blank\">sparse/sparsematrix.jl:3812</a></li> <li> -(x::<b>AbstractSparseArray{Tv<:Any,Ti<:Any,1}</b>) at <a href=\"https://github.com/JuliaLang/julia/tree/6445c82d0060dbe82b88436f0f4371a4ee64d918/base/sparse/sparsevector.jl#L841\" target=\"_blank\">sparse/sparsevector.jl:841</a></li> <li> -(x::<b>AbstractSparseArray{Tv<:Any,Ti<:Any,1}</b>, y::<b>AbstractSparseArray{Tv<:Any,Ti<:Any,1}</b>) at <a href=\"https://github.com/JuliaLang/julia/tree/6445c82d0060dbe82b88436f0f4371a4ee64d918/base/sparse/sparsevector.jl#L1179\" target=\"_blank\">sparse/sparsevector.jl:1179</a></li> <li> -(x::<b>Union{Base.ReshapedArray{T<:Any,1,A<:DenseArray,MI<:Tuple{Vararg{Base.MultiplicativeInverses.SignedMultiplicativeInverse{Int64},N<:Any}}},DenseArray{T<:Any,1},SubArray{T<:Any,1,A<:Union{Base.ReshapedArray{T<:Any,N<:Any,A<:DenseArray,MI<:Tuple{Vararg{Base.MultiplicativeInverses.SignedMultiplicativeInverse{Int64},N<:Any}}},DenseArray},I<:Tuple{Vararg{Union{Base.AbstractCartesianIndex,Colon,Int64,Range{Int64}},N<:Any}},L<:Any}}</b>, y::<b>AbstractSparseArray{Tv<:Any,Ti<:Any,1}</b>) at <a href=\"https://github.com/JuliaLang/julia/tree/6445c82d0060dbe82b88436f0f4371a4ee64d918/base/sparse/sparsevector.jl#L1180\" target=\"_blank\">sparse/sparsevector.jl:1180</a></li> <li> -(x::<b>AbstractSparseArray{Tv<:Any,Ti<:Any,1}</b>, y::<b>Union{Base.ReshapedArray{T<:Any,1,A<:DenseArray,MI<:Tuple{Vararg{Base.MultiplicativeInverses.SignedMultiplicativeInverse{Int64},N<:Any}}},DenseArray{T<:Any,1},SubArray{T<:Any,1,A<:Union{Base.ReshapedArray{T<:Any,N<:Any,A<:DenseArray,MI<:Tuple{Vararg{Base.MultiplicativeInverses.SignedMultiplicativeInverse{Int64},N<:Any}}},DenseArray},I<:Tuple{Vararg{Union{Base.AbstractCartesianIndex,Colon,Int64,Range{Int64}},N<:Any}},L<:Any}}</b>) at <a href=\"https://github.com/JuliaLang/julia/tree/6445c82d0060dbe82b88436f0f4371a4ee64d918/base/sparse/sparsevector.jl#L1181\" target=\"_blank\">sparse/sparsevector.jl:1181</a></li> <li> -(A::<b>AbstractArray{Bool,N<:Any}</b>) at <a href=\"https://github.com/JuliaLang/julia/tree/6445c82d0060dbe82b88436f0f4371a4ee64d918/base/arraymath.jl#L31\" target=\"_blank\">arraymath.jl:31</a></li> <li> -(A::<b>AbstractArray{Bool,N<:Any}</b>, x::<b>Bool</b>) at <a href=\"https://github.com/JuliaLang/julia/tree/6445c82d0060dbe82b88436f0f4371a4ee64d918/base/arraymath.jl#L127\" target=\"_blank\">arraymath.jl:127</a></li> <li> -<i>{TA,TJ<:Number}</i>(A::<b>AbstractArray{TA,2}</b>, J::<b>UniformScaling{TJ}</b>) at <a href=\"https://github.com/JuliaLang/julia/tree/6445c82d0060dbe82b88436f0f4371a4ee64d918/base/linalg/uniformscaling.jl#L112\" target=\"_blank\">linalg/uniformscaling.jl:112</a></li> <li> -<i>{T<:Base.Dates.TimeType}</i>(x::<b>AbstractArray{T,N<:Any}</b>, y::<b>Union{Base.Dates.CompoundPeriod,Base.Dates.Period}</b>) at <a href=\"https://github.com/JuliaLang/julia/tree/6445c82d0060dbe82b88436f0f4371a4ee64d918/base/dates/arithmetic.jl#L76\" target=\"_blank\">dates/arithmetic.jl:76</a></li> <li> -<i>{T<:Base.Dates.TimeType}</i>(x::<b>AbstractArray{T,N<:Any}</b>, y::<b>T</b>) at <a href=\"https://github.com/JuliaLang/julia/tree/6445c82d0060dbe82b88436f0f4371a4ee64d918/base/dates/arithmetic.jl#L91\" target=\"_blank\">dates/arithmetic.jl:91</a></li> <li> -(A::<b>AbstractArray</b>) at <a href=\"https://github.com/JuliaLang/julia/tree/6445c82d0060dbe82b88436f0f4371a4ee64d918/base/arraymath.jl#L15\" target=\"_blank\">arraymath.jl:15</a></li> <li> -<i>{R,S}</i>(A::<b>AbstractArray{R,N<:Any}</b>, B::<b>AbstractArray{S,N<:Any}</b>) at <a href=\"https://github.com/JuliaLang/julia/tree/6445c82d0060dbe82b88436f0f4371a4ee64d918/base/arraymath.jl#L63\" target=\"_blank\">arraymath.jl:63</a></li> <li> -(A::<b>AbstractArray</b>, x::<b>Number</b>) at <a href=\"https://github.com/JuliaLang/julia/tree/6445c82d0060dbe82b88436f0f4371a4ee64d918/base/arraymath.jl#L131\" target=\"_blank\">arraymath.jl:131</a></li> <li> -(x::<b>Number</b>, A::<b>AbstractArray</b>) at <a href=\"https://github.com/JuliaLang/julia/tree/6445c82d0060dbe82b88436f0f4371a4ee64d918/base/arraymath.jl#L132\" target=\"_blank\">arraymath.jl:132</a></li> <li> -<i>{N}</i>(index::<b>CartesianIndex{N}</b>) at <a href=\"https://github.com/JuliaLang/julia/tree/6445c82d0060dbe82b88436f0f4371a4ee64d918/base/multidimensional.jl#L51\" target=\"_blank\">multidimensional.jl:51</a></li> <li> -<i>{N}</i>(index1::<b>CartesianIndex{N}</b>, index2::<b>CartesianIndex{N}</b>) at <a href=\"https://github.com/JuliaLang/julia/tree/6445c82d0060dbe82b88436f0f4371a4ee64d918/base/multidimensional.jl#L53\" target=\"_blank\">multidimensional.jl:53</a></li> <li> -<i>{N}</i>(index::<b>CartesianIndex{N}</b>, i::<b>Integer</b>) at <a href=\"https://github.com/JuliaLang/julia/tree/6445c82d0060dbe82b88436f0f4371a4ee64d918/base/multidimensional.jl#L59\" target=\"_blank\">multidimensional.jl:59</a></li> <li> -<i>{N}</i>(i::<b>Integer</b>, index::<b>CartesianIndex{N}</b>) at <a href=\"https://github.com/JuliaLang/julia/tree/6445c82d0060dbe82b88436f0f4371a4ee64d918/base/multidimensional.jl#L60\" target=\"_blank\">multidimensional.jl:60</a></li> <li> -(J::<b>UniformScaling</b>) at <a href=\"https://github.com/JuliaLang/julia/tree/6445c82d0060dbe82b88436f0f4371a4ee64d918/base/linalg/uniformscaling.jl#L44\" target=\"_blank\">linalg/uniformscaling.jl:44</a></li> <li> -(J1::<b>UniformScaling</b>, J2::<b>UniformScaling</b>) at <a href=\"https://github.com/JuliaLang/julia/tree/6445c82d0060dbe82b88436f0f4371a4ee64d918/base/linalg/uniformscaling.jl#L45\" target=\"_blank\">linalg/uniformscaling.jl:45</a></li> <li> -(J::<b>UniformScaling</b>, B::<b>BitArray{2}</b>) at <a href=\"https://github.com/JuliaLang/julia/tree/6445c82d0060dbe82b88436f0f4371a4ee64d918/base/linalg/uniformscaling.jl#L47\" target=\"_blank\">linalg/uniformscaling.jl:47</a></li> <li> -(J::<b>UniformScaling</b>, x::<b>Number</b>) at <a href=\"https://github.com/JuliaLang/julia/tree/6445c82d0060dbe82b88436f0f4371a4ee64d918/base/linalg/uniformscaling.jl#L48\" target=\"_blank\">linalg/uniformscaling.jl:48</a></li> <li> -(x::<b>Number</b>, J::<b>UniformScaling</b>) at <a href=\"https://github.com/JuliaLang/julia/tree/6445c82d0060dbe82b88436f0f4371a4ee64d918/base/linalg/uniformscaling.jl#L49\" target=\"_blank\">linalg/uniformscaling.jl:49</a></li> <li> -(J::<b>UniformScaling</b>, UL::<b>Union{Base.LinAlg.UnitUpperTriangular,UpperTriangular}</b>) at <a href=\"https://github.com/JuliaLang/julia/tree/6445c82d0060dbe82b88436f0f4371a4ee64d918/base/linalg/uniformscaling.jl#L69\" target=\"_blank\">linalg/uniformscaling.jl:69</a></li> <li> -(J::<b>UniformScaling</b>, UL::<b>Union{Base.LinAlg.UnitLowerTriangular,LowerTriangular}</b>) at <a href=\"https://github.com/JuliaLang/julia/tree/6445c82d0060dbe82b88436f0f4371a4ee64d918/base/linalg/uniformscaling.jl#L85\" target=\"_blank\">linalg/uniformscaling.jl:85</a></li> <li> -(J::<b>UniformScaling</b>, A::<b>SparseMatrixCSC</b>) at <a href=\"https://github.com/JuliaLang/julia/tree/6445c82d0060dbe82b88436f0f4371a4ee64d918/base/sparse/sparsematrix.jl#L3813\" target=\"_blank\">sparse/sparsematrix.jl:3813</a></li> <li> -<i>{TA,TJ<:Number}</i>(J::<b>UniformScaling{TJ}</b>, A::<b>AbstractArray{TA,2}</b>) at <a href=\"https://github.com/JuliaLang/julia/tree/6445c82d0060dbe82b88436f0f4371a4ee64d918/base/linalg/uniformscaling.jl#L121\" target=\"_blank\">linalg/uniformscaling.jl:121</a></li> <li> -<i>{T}</i>(a::<b>Base.Pkg.Resolve.VersionWeights.HierarchicalValue{T}</b>, b::<b>Base.Pkg.Resolve.VersionWeights.HierarchicalValue{T}</b>) at <a href=\"https://github.com/JuliaLang/julia/tree/6445c82d0060dbe82b88436f0f4371a4ee64d918/base/pkg/resolve/versionweight.jl#L23\" target=\"_blank\">pkg/resolve/versionweight.jl:23</a></li> <li> -<i>{T}</i>(a::<b>Base.Pkg.Resolve.VersionWeights.HierarchicalValue{T}</b>) at <a href=\"https://github.com/JuliaLang/julia/tree/6445c82d0060dbe82b88436f0f4371a4ee64d918/base/pkg/resolve/versionweight.jl#L45\" target=\"_blank\">pkg/resolve/versionweight.jl:45</a></li> <li> -<i>{P<:Base.Dates.Period}</i>(x::<b>P</b>) at <a href=\"https://github.com/JuliaLang/julia/tree/6445c82d0060dbe82b88436f0f4371a4ee64d918/base/dates/periods.jl#L63\" target=\"_blank\">dates/periods.jl:63</a></li> <li> -<i>{P<:Base.Dates.Period}</i>(x::<b>P</b>, y::<b>P</b>) at <a href=\"https://github.com/JuliaLang/julia/tree/6445c82d0060dbe82b88436f0f4371a4ee64d918/base/dates/periods.jl#L70\" target=\"_blank\">dates/periods.jl:70</a></li> <li> -(x::<b>Base.Dates.Period</b>, y::<b>Base.Dates.Period</b>) at <a href=\"https://github.com/JuliaLang/julia/tree/6445c82d0060dbe82b88436f0f4371a4ee64d918/base/dates/periods.jl#L316\" target=\"_blank\">dates/periods.jl:316</a></li> <li> -(y::<b>Union{Base.Dates.CompoundPeriod,Base.Dates.Period}</b>, x::<b>Base.Dates.CompoundPeriod</b>) at <a href=\"https://github.com/JuliaLang/julia/tree/6445c82d0060dbe82b88436f0f4371a4ee64d918/base/dates/periods.jl#L319\" target=\"_blank\">dates/periods.jl:319</a></li> <li> -<i>{P<:Union{Base.Dates.CompoundPeriod,Base.Dates.Period}}</i>(x::<b>Union{Base.Dates.CompoundPeriod,Base.Dates.Period}</b>, Y::<b>Union{Base.ReshapedArray{P,N<:Any,A<:DenseArray,MI<:Tuple{Vararg{Base.MultiplicativeInverses.SignedMultiplicativeInverse{Int64},N<:Any}}},DenseArray{P,N<:Any},SubArray{P,N<:Any,A<:Union{Base.ReshapedArray{T<:Any,N<:Any,A<:DenseArray,MI<:Tuple{Vararg{Base.MultiplicativeInverses.SignedMultiplicativeInverse{Int64},N<:Any}}},DenseArray},I<:Tuple{Vararg{Union{Base.AbstractCartesianIndex,Colon,Int64,Range{Int64}},N<:Any}},L<:Any}}</b>) at <a href=\"https://github.com/JuliaLang/julia/tree/6445c82d0060dbe82b88436f0f4371a4ee64d918/base/dates/periods.jl#L336\" target=\"_blank\">dates/periods.jl:336</a></li> <li> -(a::<b>Base.Dates.TimeType</b>, b::<b>Base.Dates.Period</b>, c::<b>Base.Dates.Period</b>) at <a href=\"https://github.com/JuliaLang/julia/tree/6445c82d0060dbe82b88436f0f4371a4ee64d918/base/dates/periods.jl#L349\" target=\"_blank\">dates/periods.jl:349</a></li> <li> -(a::<b>Base.Dates.TimeType</b>, b::<b>Base.Dates.Period</b>, c::<b>Base.Dates.Period</b>, d::<b>Base.Dates.Period...</b>) at <a href=\"https://github.com/JuliaLang/julia/tree/6445c82d0060dbe82b88436f0f4371a4ee64d918/base/dates/periods.jl#L351\" target=\"_blank\">dates/periods.jl:351</a></li> <li> -(x::<b>Base.Dates.TimeType</b>, y::<b>Base.Dates.CompoundPeriod</b>) at <a href=\"https://github.com/JuliaLang/julia/tree/6445c82d0060dbe82b88436f0f4371a4ee64d918/base/dates/periods.jl#L362\" target=\"_blank\">dates/periods.jl:362</a></li> <li> -<i>{T<:Base.Dates.Instant}</i>(x::<b>T</b>, y::<b>T</b>) at <a href=\"https://github.com/JuliaLang/julia/tree/6445c82d0060dbe82b88436f0f4371a4ee64d918/base/dates/arithmetic.jl#L5\" target=\"_blank\">dates/arithmetic.jl:5</a></li> <li> -<i>{T<:Base.Dates.TimeType}</i>(x::<b>T</b>, y::<b>T</b>) at <a href=\"https://github.com/JuliaLang/julia/tree/6445c82d0060dbe82b88436f0f4371a4ee64d918/base/dates/arithmetic.jl#L9\" target=\"_blank\">dates/arithmetic.jl:9</a></li> <li> -(y::<b>Base.Dates.Period</b>, x::<b>Base.Dates.TimeType</b>) at <a href=\"https://github.com/JuliaLang/julia/tree/6445c82d0060dbe82b88436f0f4371a4ee64d918/base/dates/arithmetic.jl#L67\" target=\"_blank\">dates/arithmetic.jl:67</a></li> <li> -<i>{T<:Base.Dates.TimeType}</i>(y::<b>Union{Base.Dates.CompoundPeriod,Base.Dates.Period}</b>, x::<b>AbstractArray{T,N<:Any}</b>) at <a href=\"https://github.com/JuliaLang/julia/tree/6445c82d0060dbe82b88436f0f4371a4ee64d918/base/dates/arithmetic.jl#L77\" target=\"_blank\">dates/arithmetic.jl:77</a></li> <li> -<i>{P<:Union{Base.Dates.CompoundPeriod,Base.Dates.Period}}</i>(y::<b>Base.Dates.TimeType</b>, x::<b>Union{Base.ReshapedArray{P,N<:Any,A<:DenseArray,MI<:Tuple{Vararg{Base.MultiplicativeInverses.SignedMultiplicativeInverse{Int64},N<:Any}}},DenseArray{P,N<:Any},SubArray{P,N<:Any,A<:Union{Base.ReshapedArray{T<:Any,N<:Any,A<:DenseArray,MI<:Tuple{Vararg{Base.MultiplicativeInverses.SignedMultiplicativeInverse{Int64},N<:Any}}},DenseArray},I<:Tuple{Vararg{Union{Base.AbstractCartesianIndex,Colon,Int64,Range{Int64}},N<:Any}},L<:Any}}</b>) at <a href=\"https://github.com/JuliaLang/julia/tree/6445c82d0060dbe82b88436f0f4371a4ee64d918/base/dates/arithmetic.jl#L84\" target=\"_blank\">dates/arithmetic.jl:84</a></li> <li> -<i>{T<:Base.Dates.TimeType}</i>(y::<b>T</b>, x::<b>AbstractArray{T,N<:Any}</b>) at <a href=\"https://github.com/JuliaLang/julia/tree/6445c82d0060dbe82b88436f0f4371a4ee64d918/base/dates/arithmetic.jl#L92\" target=\"_blank\">dates/arithmetic.jl:92</a></li> </ul>"
      ],
      "text/plain": [
       "# 190 methods for generic function \"-\":\n",
       "-(x::Bool, z::Complex{Bool}) at complex.jl:138\n",
       "-(x::Bool, y::Bool) at bool.jl:49\n",
       "-(x::Bool) at bool.jl:46\n",
       "-(x::Bool, z::Complex) at complex.jl:145\n",
       "-(x::Bool, A::AbstractArray{Bool,N<:Any}) at arraymath.jl:128\n",
       "-(x::Float32, y::Float32) at float.jl:241\n",
       "-(x::Float32) at float.jl:236\n",
       "-(x::Float64, y::Float64) at float.jl:242\n",
       "-(x::Float64) at float.jl:237\n",
       "-(z::Complex{Bool}, x::Bool) at complex.jl:139\n",
       "-(z::Complex{Bool}, x::Real) at complex.jl:157\n",
       "-(a::Float16, b::Float16) at float16.jl:136\n",
       "-(x::Float16) at float16.jl:133\n",
       "-(x::Char, y::Char) at char.jl:38\n",
       "-(x::Char, y::Integer) at char.jl:39\n",
       "-(a::Base.Grisu.Float, b::Base.Grisu.Float) at grisu/float.jl:133\n",
       "-(c::BigInt, x::BigFloat) at mpfr.jl:300\n",
       "-(x::BigInt) at gmp.jl:348\n",
       "-(x::BigInt, y::BigInt) at gmp.jl:255\n",
       "-(x::BigInt, c::Union{UInt16,UInt32,UInt64,UInt8}) at gmp.jl:317\n",
       "-(x::BigInt, c::Union{Int16,Int32,Int64,Int8}) at gmp.jl:328\n",
       "-(x::BigFloat) at mpfr.jl:399\n",
       "-(x::BigFloat, c::BigInt) at mpfr.jl:291\n",
       "-(x::BigFloat, y::BigFloat) at mpfr.jl:248\n",
       "-(x::BigFloat, c::Union{UInt16,UInt32,UInt64,UInt8}) at mpfr.jl:255\n",
       "-(x::BigFloat, c::Union{Int16,Int32,Int64,Int8}) at mpfr.jl:267\n",
       "-(x::BigFloat, c::Union{Float16,Float32,Float64}) at mpfr.jl:279\n",
       "-(B::BitArray{2}, J::UniformScaling) at linalg/uniformscaling.jl:46\n",
       "-(a::Base.Pkg.Resolve.VersionWeights.VWPreBuildItem) at pkg/resolve/versionweight.jl:87\n",
       "-(a::Base.Pkg.Resolve.VersionWeights.VWPreBuildItem, b::Base.Pkg.Resolve.VersionWeights.VWPreBuildItem) at pkg/resolve/versionweight.jl:84\n",
       "-(a::Base.Pkg.Resolve.VersionWeights.VWPreBuild) at pkg/resolve/versionweight.jl:137\n",
       "-(a::Base.Pkg.Resolve.VersionWeights.VWPreBuild, b::Base.Pkg.Resolve.VersionWeights.VWPreBuild) at pkg/resolve/versionweight.jl:126\n",
       "-(a::Base.Pkg.Resolve.VersionWeights.VersionWeight) at pkg/resolve/versionweight.jl:185\n",
       "-(a::Base.Pkg.Resolve.VersionWeights.VersionWeight, b::Base.Pkg.Resolve.VersionWeights.VersionWeight) at pkg/resolve/versionweight.jl:177\n",
       "-(a::Base.Pkg.Resolve.MaxSum.FieldValues.FieldValue, b::Base.Pkg.Resolve.MaxSum.FieldValues.FieldValue) at pkg/resolve/fieldvalue.jl:43\n",
       "-(x::Base.Dates.CompoundPeriod) at dates/periods.jl:318\n",
       "-(x::Base.Dates.CompoundPeriod, y::Base.Dates.Period) at dates/periods.jl:317\n",
       "-(x::Base.Dates.CompoundPeriod, y::Base.Dates.TimeType) at dates/periods.jl:367\n",
       "-(dt::DateTime, z::Base.Dates.Month) at dates/arithmetic.jl:49\n",
       "-(dt::DateTime, y::Base.Dates.Year) at dates/arithmetic.jl:21\n",
       "-(x::DateTime, y::Base.Dates.Period) at dates/arithmetic.jl:65\n",
       "-(x::Date, y::Base.Dates.Day) at dates/arithmetic.jl:63\n",
       "-(x::Date, y::Base.Dates.Week) at dates/arithmetic.jl:61\n",
       "-(dt::Date, z::Base.Dates.Month) at dates/arithmetic.jl:55\n",
       "-(dt::Date, y::Base.Dates.Year) at dates/arithmetic.jl:25\n",
       "-(c::Union{UInt16,UInt32,UInt64,UInt8}, x::BigInt) at gmp.jl:322\n",
       "-(c::Union{Int16,Int32,Int64,Int8}, x::BigInt) at gmp.jl:329\n",
       "-(c::Union{UInt16,UInt32,UInt64,UInt8}, x::BigFloat) at mpfr.jl:260\n",
       "-(c::Union{Int16,Int32,Int64,Int8}, x::BigFloat) at mpfr.jl:272\n",
       "-{T<:Union{Int128,Int16,Int32,Int64,Int8,UInt128,UInt16,UInt32,UInt64,UInt8}}(x::T) at int.jl:30\n",
       "-{T<:Union{Int128,Int16,Int32,Int64,Int8,UInt128,UInt16,UInt32,UInt64,UInt8}}(x::T, y::T) at int.jl:31\n",
       "-(z::Complex) at complex.jl:124\n",
       "-(z::Complex, w::Complex) at complex.jl:126\n",
       "-(z::Complex, x::Bool) at complex.jl:146\n",
       "-{T<:Signed}(x::Rational{T}) at rational.jl:190\n",
       "-{T<:Unsigned}(x::Rational{T}) at rational.jl:194\n",
       "-(x::Rational) at rational.jl:188\n",
       "-(x::Irrational) at irrationals.jl:86\n",
       "-(x::Real, z::Complex{Bool}) at complex.jl:154\n",
       "-(x::Real, z::Complex) at complex.jl:166\n",
       "-(z::Complex, x::Real) at complex.jl:169\n",
       "-(x::Rational, y::Rational) at rational.jl:202\n",
       "-(c::Union{Float16,Float32,Float64}, x::BigFloat) at mpfr.jl:284\n",
       "-(x::Irrational, y::Irrational) at irrationals.jl:88\n",
       "-{T<:Number}(x::T, y::T) at promotion.jl:257\n",
       "-(x::Number, y::Number) at promotion.jl:192\n",
       "-{T<:Base.Dates.TimeType}(x::OrdinalRange{T,S<:Any}, y::OrdinalRange{T,S<:Any}) at dates/arithmetic.jl:95\n",
       "-(r::OrdinalRange) at range.jl:705\n",
       "-(r::FloatRange) at range.jl:706\n",
       "-(r::LinSpace) at range.jl:707\n",
       "-(r1::OrdinalRange, r2::OrdinalRange) at operators.jl:505\n",
       "-{T<:AbstractFloat}(r1::FloatRange{T}, r2::FloatRange{T}) at operators.jl:512\n",
       "-{T<:AbstractFloat}(r1::LinSpace{T}, r2::LinSpace{T}) at operators.jl:531\n",
       "-(r1::Union{FloatRange,LinSpace,OrdinalRange}, r2::Union{FloatRange,LinSpace,OrdinalRange}) at operators.jl:544\n",
       "-(x::Ptr, y::Ptr) at pointer.jl:104\n",
       "-(x::Ptr, y::Integer) at pointer.jl:107\n",
       "-(B::BitArray) at bitarray.jl:980\n",
       "-(A::BitArray, B::BitArray) at bitarray.jl:1056\n",
       "-(A::SymTridiagonal, B::SymTridiagonal) at linalg/tridiag.jl:97\n",
       "-(A::Tridiagonal, B::Tridiagonal) at linalg/tridiag.jl:495\n",
       "-(A::LowerTriangular) at linalg/triangular.jl:292\n",
       "-(A::UpperTriangular) at linalg/triangular.jl:293\n",
       "-(A::Base.LinAlg.UnitLowerTriangular) at linalg/triangular.jl:295\n",
       "-(A::Base.LinAlg.UnitUpperTriangular) at linalg/triangular.jl:302\n",
       "-(A::UpperTriangular, B::UpperTriangular) at linalg/triangular.jl:367\n",
       "-(A::LowerTriangular, B::LowerTriangular) at linalg/triangular.jl:368\n",
       "-(A::UpperTriangular, B::Base.LinAlg.UnitUpperTriangular) at linalg/triangular.jl:369\n",
       "-(A::LowerTriangular, B::Base.LinAlg.UnitLowerTriangular) at linalg/triangular.jl:370\n",
       "-(A::Base.LinAlg.UnitUpperTriangular, B::UpperTriangular) at linalg/triangular.jl:371\n",
       "-(A::Base.LinAlg.UnitLowerTriangular, B::LowerTriangular) at linalg/triangular.jl:372\n",
       "-(A::Base.LinAlg.UnitUpperTriangular, B::Base.LinAlg.UnitUpperTriangular) at linalg/triangular.jl:373\n",
       "-(A::Base.LinAlg.UnitLowerTriangular, B::Base.LinAlg.UnitLowerTriangular) at linalg/triangular.jl:374\n",
       "-(A::Base.LinAlg.AbstractTriangular, B::Base.LinAlg.AbstractTriangular) at linalg/triangular.jl:375\n",
       "-{Tv,S<:AbstractArray{T,2}}(A::Symmetric{Tv,S}) at linalg/symmetric.jl:169\n",
       "-(A::Diagonal) at linalg/diagonal.jl:109\n",
       "-(Da::Diagonal, Db::Diagonal) at linalg/diagonal.jl:111\n",
       "-(A::Bidiagonal) at linalg/bidiag.jl:271\n",
       "-(A::Bidiagonal, B::Bidiagonal) at linalg/bidiag.jl:264\n",
       "-(UL::UpperTriangular, J::UniformScaling) at linalg/uniformscaling.jl:55\n",
       "-(UL::Base.LinAlg.UnitUpperTriangular, J::UniformScaling) at linalg/uniformscaling.jl:58\n",
       "-(UL::LowerTriangular, J::UniformScaling) at linalg/uniformscaling.jl:55\n",
       "-(UL::Base.LinAlg.UnitLowerTriangular, J::UniformScaling) at linalg/uniformscaling.jl:58\n",
       "-(A::Diagonal, B::Bidiagonal) at linalg/special.jl:120\n",
       "-(A::Bidiagonal, B::Diagonal) at linalg/special.jl:121\n",
       "-(A::Diagonal, B::Tridiagonal) at linalg/special.jl:120\n",
       "-(A::Tridiagonal, B::Diagonal) at linalg/special.jl:121\n",
       "-(A::Diagonal, B::Array{T<:Any,2}) at linalg/special.jl:120\n",
       "-(A::Array{T<:Any,2}, B::Diagonal) at linalg/special.jl:121\n",
       "-(A::Bidiagonal, B::Tridiagonal) at linalg/special.jl:120\n",
       "-(A::Tridiagonal, B::Bidiagonal) at linalg/special.jl:121\n",
       "-(A::Bidiagonal, B::Array{T<:Any,2}) at linalg/special.jl:120\n",
       "-(A::Array{T<:Any,2}, B::Bidiagonal) at linalg/special.jl:121\n",
       "-(A::Tridiagonal, B::Array{T<:Any,2}) at linalg/special.jl:120\n",
       "-(A::Array{T<:Any,2}, B::Tridiagonal) at linalg/special.jl:121\n",
       "-(A::SymTridiagonal, B::Tridiagonal) at linalg/special.jl:129\n",
       "-(A::Tridiagonal, B::SymTridiagonal) at linalg/special.jl:130\n",
       "-(A::SymTridiagonal, B::Array{T<:Any,2}) at linalg/special.jl:129\n",
       "-(A::Array{T<:Any,2}, B::SymTridiagonal) at linalg/special.jl:130\n",
       "-(A::Diagonal, B::SymTridiagonal) at linalg/special.jl:138\n",
       "-(A::SymTridiagonal, B::Diagonal) at linalg/special.jl:139\n",
       "-(A::Bidiagonal, B::SymTridiagonal) at linalg/special.jl:138\n",
       "-(A::SymTridiagonal, B::Bidiagonal) at linalg/special.jl:139\n",
       "-(A::Diagonal, B::UpperTriangular) at linalg/special.jl:150\n",
       "-(A::UpperTriangular, B::Diagonal) at linalg/special.jl:151\n",
       "-(A::Diagonal, B::Base.LinAlg.UnitUpperTriangular) at linalg/special.jl:150\n",
       "-(A::Base.LinAlg.UnitUpperTriangular, B::Diagonal) at linalg/special.jl:151\n",
       "-(A::Diagonal, B::LowerTriangular) at linalg/special.jl:150\n",
       "-(A::LowerTriangular, B::Diagonal) at linalg/special.jl:151\n",
       "-(A::Diagonal, B::Base.LinAlg.UnitLowerTriangular) at linalg/special.jl:150\n",
       "-(A::Base.LinAlg.UnitLowerTriangular, B::Diagonal) at linalg/special.jl:151\n",
       "-(A::Base.LinAlg.AbstractTriangular, B::SymTridiagonal) at linalg/special.jl:157\n",
       "-(A::SymTridiagonal, B::Base.LinAlg.AbstractTriangular) at linalg/special.jl:158\n",
       "-(A::Base.LinAlg.AbstractTriangular, B::Tridiagonal) at linalg/special.jl:157\n",
       "-(A::Tridiagonal, B::Base.LinAlg.AbstractTriangular) at linalg/special.jl:158\n",
       "-(A::Base.LinAlg.AbstractTriangular, B::Bidiagonal) at linalg/special.jl:157\n",
       "-(A::Bidiagonal, B::Base.LinAlg.AbstractTriangular) at linalg/special.jl:158\n",
       "-(A::Base.LinAlg.AbstractTriangular, B::Array{T<:Any,2}) at linalg/special.jl:157\n",
       "-(A::Array{T<:Any,2}, B::Base.LinAlg.AbstractTriangular) at linalg/special.jl:158\n",
       "-{P<:Union{Base.Dates.CompoundPeriod,Base.Dates.Period}}(Y::Union{Base.ReshapedArray{P,N<:Any,A<:DenseArray,MI<:Tuple{Vararg{Base.MultiplicativeInverses.SignedMultiplicativeInverse{Int64},N<:Any}}},DenseArray{P,N<:Any},SubArray{P,N<:Any,A<:Union{Base.ReshapedArray{T<:Any,N<:Any,A<:DenseArray,MI<:Tuple{Vararg{Base.MultiplicativeInverses.SignedMultiplicativeInverse{Int64},N<:Any}}},DenseArray},I<:Tuple{Vararg{Union{Base.AbstractCartesianIndex,Colon,Int64,Range{Int64}},N<:Any}},L<:Any}}, x::Union{Base.Dates.CompoundPeriod,Base.Dates.Period}) at dates/periods.jl:337\n",
       "-{P<:Union{Base.Dates.CompoundPeriod,Base.Dates.Period},Q<:Union{Base.Dates.CompoundPeriod,Base.Dates.Period}}(X::Union{Base.ReshapedArray{P,N<:Any,A<:DenseArray,MI<:Tuple{Vararg{Base.MultiplicativeInverses.SignedMultiplicativeInverse{Int64},N<:Any}}},DenseArray{P,N<:Any},SubArray{P,N<:Any,A<:Union{Base.ReshapedArray{T<:Any,N<:Any,A<:DenseArray,MI<:Tuple{Vararg{Base.MultiplicativeInverses.SignedMultiplicativeInverse{Int64},N<:Any}}},DenseArray},I<:Tuple{Vararg{Union{Base.AbstractCartesianIndex,Colon,Int64,Range{Int64}},N<:Any}},L<:Any}}, Y::Union{Base.ReshapedArray{Q,N<:Any,A<:DenseArray,MI<:Tuple{Vararg{Base.MultiplicativeInverses.SignedMultiplicativeInverse{Int64},N<:Any}}},DenseArray{Q,N<:Any},SubArray{Q,N<:Any,A<:Union{Base.ReshapedArray{T<:Any,N<:Any,A<:DenseArray,MI<:Tuple{Vararg{Base.MultiplicativeInverses.SignedMultiplicativeInverse{Int64},N<:Any}}},DenseArray},I<:Tuple{Vararg{Union{Base.AbstractCartesianIndex,Colon,Int64,Range{Int64}},N<:Any}},L<:Any}}) at dates/periods.jl:338\n",
       "-{T<:Base.Dates.TimeType,P<:Union{Base.Dates.CompoundPeriod,Base.Dates.Period}}(x::Union{Base.ReshapedArray{P,N<:Any,A<:DenseArray,MI<:Tuple{Vararg{Base.MultiplicativeInverses.SignedMultiplicativeInverse{Int64},N<:Any}}},DenseArray{P,N<:Any},SubArray{P,N<:Any,A<:Union{Base.ReshapedArray{T<:Any,N<:Any,A<:DenseArray,MI<:Tuple{Vararg{Base.MultiplicativeInverses.SignedMultiplicativeInverse{Int64},N<:Any}}},DenseArray},I<:Tuple{Vararg{Union{Base.AbstractCartesianIndex,Colon,Int64,Range{Int64}},N<:Any}},L<:Any}}, y::T) at dates/arithmetic.jl:83\n",
       "-{T<:Base.Dates.TimeType}(x::Range{T}, y::Range{T}) at dates/arithmetic.jl:96\n",
       "-{T<:Base.Dates.TimeType}(r::Range{T}, x::Base.Dates.Period) at dates/ranges.jl:42\n",
       "-(A::SparseMatrixCSC) at sparse/sparsematrix.jl:1372\n",
       "-{Tv1,Ti1,Tv2,Ti2}(A_1::SparseMatrixCSC{Tv1,Ti1}, A_2::SparseMatrixCSC{Tv2,Ti2}) at sparse/sparsematrix.jl:1697\n",
       "-(A::SparseMatrixCSC, B::Array) at sparse/sparsematrix.jl:1714\n",
       "-(A::Array, B::SparseMatrixCSC) at sparse/sparsematrix.jl:1716\n",
       "-(A::SparseMatrixCSC, J::UniformScaling) at sparse/sparsematrix.jl:3812\n",
       "-(x::AbstractSparseArray{Tv<:Any,Ti<:Any,1}) at sparse/sparsevector.jl:841\n",
       "-(x::AbstractSparseArray{Tv<:Any,Ti<:Any,1}, y::AbstractSparseArray{Tv<:Any,Ti<:Any,1}) at sparse/sparsevector.jl:1179\n",
       "-(x::Union{Base.ReshapedArray{T<:Any,1,A<:DenseArray,MI<:Tuple{Vararg{Base.MultiplicativeInverses.SignedMultiplicativeInverse{Int64},N<:Any}}},DenseArray{T<:Any,1},SubArray{T<:Any,1,A<:Union{Base.ReshapedArray{T<:Any,N<:Any,A<:DenseArray,MI<:Tuple{Vararg{Base.MultiplicativeInverses.SignedMultiplicativeInverse{Int64},N<:Any}}},DenseArray},I<:Tuple{Vararg{Union{Base.AbstractCartesianIndex,Colon,Int64,Range{Int64}},N<:Any}},L<:Any}}, y::AbstractSparseArray{Tv<:Any,Ti<:Any,1}) at sparse/sparsevector.jl:1180\n",
       "-(x::AbstractSparseArray{Tv<:Any,Ti<:Any,1}, y::Union{Base.ReshapedArray{T<:Any,1,A<:DenseArray,MI<:Tuple{Vararg{Base.MultiplicativeInverses.SignedMultiplicativeInverse{Int64},N<:Any}}},DenseArray{T<:Any,1},SubArray{T<:Any,1,A<:Union{Base.ReshapedArray{T<:Any,N<:Any,A<:DenseArray,MI<:Tuple{Vararg{Base.MultiplicativeInverses.SignedMultiplicativeInverse{Int64},N<:Any}}},DenseArray},I<:Tuple{Vararg{Union{Base.AbstractCartesianIndex,Colon,Int64,Range{Int64}},N<:Any}},L<:Any}}) at sparse/sparsevector.jl:1181\n",
       "-(A::AbstractArray{Bool,N<:Any}) at arraymath.jl:31\n",
       "-(A::AbstractArray{Bool,N<:Any}, x::Bool) at arraymath.jl:127\n",
       "-{TA,TJ<:Number}(A::AbstractArray{TA,2}, J::UniformScaling{TJ}) at linalg/uniformscaling.jl:112\n",
       "-{T<:Base.Dates.TimeType}(x::AbstractArray{T,N<:Any}, y::Union{Base.Dates.CompoundPeriod,Base.Dates.Period}) at dates/arithmetic.jl:76\n",
       "-{T<:Base.Dates.TimeType}(x::AbstractArray{T,N<:Any}, y::T) at dates/arithmetic.jl:91\n",
       "-(A::AbstractArray) at arraymath.jl:15\n",
       "-{R,S}(A::AbstractArray{R,N<:Any}, B::AbstractArray{S,N<:Any}) at arraymath.jl:63\n",
       "-(A::AbstractArray, x::Number) at arraymath.jl:131\n",
       "-(x::Number, A::AbstractArray) at arraymath.jl:132\n",
       "-{N}(index::CartesianIndex{N}) at multidimensional.jl:51\n",
       "-{N}(index1::CartesianIndex{N}, index2::CartesianIndex{N}) at multidimensional.jl:53\n",
       "-{N}(index::CartesianIndex{N}, i::Integer) at multidimensional.jl:59\n",
       "-{N}(i::Integer, index::CartesianIndex{N}) at multidimensional.jl:60\n",
       "-(J::UniformScaling) at linalg/uniformscaling.jl:44\n",
       "-(J1::UniformScaling, J2::UniformScaling) at linalg/uniformscaling.jl:45\n",
       "-(J::UniformScaling, B::BitArray{2}) at linalg/uniformscaling.jl:47\n",
       "-(J::UniformScaling, x::Number) at linalg/uniformscaling.jl:48\n",
       "-(x::Number, J::UniformScaling) at linalg/uniformscaling.jl:49\n",
       "-(J::UniformScaling, UL::Union{Base.LinAlg.UnitUpperTriangular,UpperTriangular}) at linalg/uniformscaling.jl:69\n",
       "-(J::UniformScaling, UL::Union{Base.LinAlg.UnitLowerTriangular,LowerTriangular}) at linalg/uniformscaling.jl:85\n",
       "-(J::UniformScaling, A::SparseMatrixCSC) at sparse/sparsematrix.jl:3813\n",
       "-{TA,TJ<:Number}(J::UniformScaling{TJ}, A::AbstractArray{TA,2}) at linalg/uniformscaling.jl:121\n",
       "-{T}(a::Base.Pkg.Resolve.VersionWeights.HierarchicalValue{T}, b::Base.Pkg.Resolve.VersionWeights.HierarchicalValue{T}) at pkg/resolve/versionweight.jl:23\n",
       "-{T}(a::Base.Pkg.Resolve.VersionWeights.HierarchicalValue{T}) at pkg/resolve/versionweight.jl:45\n",
       "-{P<:Base.Dates.Period}(x::P) at dates/periods.jl:63\n",
       "-{P<:Base.Dates.Period}(x::P, y::P) at dates/periods.jl:70\n",
       "-(x::Base.Dates.Period, y::Base.Dates.Period) at dates/periods.jl:316\n",
       "-(y::Union{Base.Dates.CompoundPeriod,Base.Dates.Period}, x::Base.Dates.CompoundPeriod) at dates/periods.jl:319\n",
       "-{P<:Union{Base.Dates.CompoundPeriod,Base.Dates.Period}}(x::Union{Base.Dates.CompoundPeriod,Base.Dates.Period}, Y::Union{Base.ReshapedArray{P,N<:Any,A<:DenseArray,MI<:Tuple{Vararg{Base.MultiplicativeInverses.SignedMultiplicativeInverse{Int64},N<:Any}}},DenseArray{P,N<:Any},SubArray{P,N<:Any,A<:Union{Base.ReshapedArray{T<:Any,N<:Any,A<:DenseArray,MI<:Tuple{Vararg{Base.MultiplicativeInverses.SignedMultiplicativeInverse{Int64},N<:Any}}},DenseArray},I<:Tuple{Vararg{Union{Base.AbstractCartesianIndex,Colon,Int64,Range{Int64}},N<:Any}},L<:Any}}) at dates/periods.jl:336\n",
       "-(a::Base.Dates.TimeType, b::Base.Dates.Period, c::Base.Dates.Period) at dates/periods.jl:349\n",
       "-(a::Base.Dates.TimeType, b::Base.Dates.Period, c::Base.Dates.Period, d::Base.Dates.Period...) at dates/periods.jl:351\n",
       "-(x::Base.Dates.TimeType, y::Base.Dates.CompoundPeriod) at dates/periods.jl:362\n",
       "-{T<:Base.Dates.Instant}(x::T, y::T) at dates/arithmetic.jl:5\n",
       "-{T<:Base.Dates.TimeType}(x::T, y::T) at dates/arithmetic.jl:9\n",
       "-(y::Base.Dates.Period, x::Base.Dates.TimeType) at dates/arithmetic.jl:67\n",
       "-{T<:Base.Dates.TimeType}(y::Union{Base.Dates.CompoundPeriod,Base.Dates.Period}, x::AbstractArray{T,N<:Any}) at dates/arithmetic.jl:77\n",
       "-{P<:Union{Base.Dates.CompoundPeriod,Base.Dates.Period}}(y::Base.Dates.TimeType, x::Union{Base.ReshapedArray{P,N<:Any,A<:DenseArray,MI<:Tuple{Vararg{Base.MultiplicativeInverses.SignedMultiplicativeInverse{Int64},N<:Any}}},DenseArray{P,N<:Any},SubArray{P,N<:Any,A<:Union{Base.ReshapedArray{T<:Any,N<:Any,A<:DenseArray,MI<:Tuple{Vararg{Base.MultiplicativeInverses.SignedMultiplicativeInverse{Int64},N<:Any}}},DenseArray},I<:Tuple{Vararg{Union{Base.AbstractCartesianIndex,Colon,Int64,Range{Int64}},N<:Any}},L<:Any}}) at dates/arithmetic.jl:84\n",
       "-{T<:Base.Dates.TimeType}(y::T, x::AbstractArray{T,N<:Any}) at dates/arithmetic.jl:92"
      ]
     },
     "execution_count": 1,
     "metadata": {},
     "output_type": "execute_result"
    }
   ],
   "source": [
    "methods(-)"
   ]
  },
  {
   "cell_type": "code",
   "execution_count": 2,
   "metadata": {
    "ExecuteTime": {
     "end_time": "2017-03-17T15:56:06.419789",
     "start_time": "2017-03-17T19:56:06.416Z"
    },
    "collapsed": false,
    "scrolled": true
   },
   "outputs": [
    {
     "data": {
      "text/html": [
       "3 methods for generic function <b>setdiff</b>:<ul><li> setdiff(a::<b>IntSet</b>, b::<b>IntSet</b>) at <a href=\"https://github.com/JuliaLang/julia/tree/6445c82d0060dbe82b88436f0f4371a4ee64d918/base/intset.jl#L122\" target=\"_blank\">intset.jl:122</a></li> <li> setdiff(a::<b>Set</b>, b::<b>Set</b>) at <a href=\"https://github.com/JuliaLang/julia/tree/6445c82d0060dbe82b88436f0f4371a4ee64d918/base/set.jl#L86\" target=\"_blank\">set.jl:86</a></li> <li> setdiff(a, b) at <a href=\"https://github.com/JuliaLang/julia/tree/6445c82d0060dbe82b88436f0f4371a4ee64d918/base/array.jl#L1465\" target=\"_blank\">array.jl:1465</a></li> </ul>"
      ],
      "text/plain": [
       "# 3 methods for generic function \"setdiff\":\n",
       "setdiff(a::IntSet, b::IntSet) at intset.jl:122\n",
       "setdiff(a::Set, b::Set) at set.jl:86\n",
       "setdiff(a, b) at array.jl:1465"
      ]
     },
     "execution_count": 2,
     "metadata": {},
     "output_type": "execute_result"
    }
   ],
   "source": [
    "methods(setdiff)"
   ]
  },
  {
   "cell_type": "code",
   "execution_count": 12,
   "metadata": {
    "ExecuteTime": {
     "end_time": "2017-03-17T15:59:32.756623",
     "start_time": "2017-03-17T19:59:32.729Z"
    },
    "collapsed": false
   },
   "outputs": [
    {
     "name": "stderr",
     "output_type": "stream",
     "text": [
      "WARNING: Method definition -(Base.Set, Base.Set) in module Main at In[6]:2 overwritten at In[12]:2.\n"
     ]
    },
    {
     "data": {
      "text/plain": [
       "- (generic function with 192 methods)"
      ]
     },
     "execution_count": 12,
     "metadata": {},
     "output_type": "execute_result"
    }
   ],
   "source": [
    "import Base.-\n",
    "-(a::Set, b::Set) = setdiff(a,b)\n",
    "-(a::IntSet, b::IntSet) = setdiff(a,b)"
   ]
  },
  {
   "cell_type": "code",
   "execution_count": 15,
   "metadata": {
    "ExecuteTime": {
     "end_time": "2017-03-17T16:00:36.786355",
     "start_time": "2017-03-17T20:00:36.774Z"
    },
    "collapsed": false
   },
   "outputs": [
    {
     "data": {
      "text/plain": [
       "Set([3,1])"
      ]
     },
     "execution_count": 15,
     "metadata": {},
     "output_type": "execute_result"
    }
   ],
   "source": [
    "𝔸 - 𝔹"
   ]
  },
  {
   "cell_type": "code",
   "execution_count": 16,
   "metadata": {
    "ExecuteTime": {
     "end_time": "2017-03-17T16:01:03.149800",
     "start_time": "2017-03-17T20:01:02.766Z"
    },
    "collapsed": false
   },
   "outputs": [
    {
     "name": "stdout",
     "output_type": "stream",
     "text": [
      "search: IntSet intersect intersect! typeintersect print_shortest print_escaped\n",
      "\n"
     ]
    },
    {
     "data": {
      "text/markdown": [
       "```\n",
       "IntSet([itr])\n",
       "```\n",
       "\n",
       "Construct a sorted set of positive `Int`s generated by the given iterable object, or an empty set. Implemented as a bit string, and therefore designed for dense integer sets. Only `Int`s greater than 0 can be stored. If the set will be sparse (for example holding a few very large integers), use [`Set`](:obj:`Set`) instead.\n"
      ],
      "text/plain": [
       "```\n",
       "IntSet([itr])\n",
       "```\n",
       "\n",
       "Construct a sorted set of positive `Int`s generated by the given iterable object, or an empty set. Implemented as a bit string, and therefore designed for dense integer sets. Only `Int`s greater than 0 can be stored. If the set will be sparse (for example holding a few very large integers), use [`Set`](:obj:`Set`) instead.\n"
      ]
     },
     "execution_count": 16,
     "metadata": {},
     "output_type": "execute_result"
    }
   ],
   "source": [
    "?IntSet"
   ]
  },
  {
   "cell_type": "markdown",
   "metadata": {},
   "source": [
    "# Example: Central Limit Theorem"
   ]
  },
  {
   "cell_type": "code",
   "execution_count": 18,
   "metadata": {
    "ExecuteTime": {
     "end_time": "2017-03-17T16:02:52.540945",
     "start_time": "2017-03-17T20:02:52.526Z"
    },
    "collapsed": false
   },
   "outputs": [
    {
     "data": {
      "text/plain": [
       "2.9781881070693568"
      ]
     },
     "execution_count": 18,
     "metadata": {},
     "output_type": "execute_result"
    }
   ],
   "source": [
    "λ = √(π^2-1.0)"
   ]
  },
  {
   "cell_type": "code",
   "execution_count": 21,
   "metadata": {
    "ExecuteTime": {
     "end_time": "2017-03-17T16:03:42.766531",
     "start_time": "2017-03-17T20:03:42.763Z"
    },
    "collapsed": false
   },
   "outputs": [
    {
     "data": {
      "text/plain": [
       "8.869604401089358"
      ]
     },
     "execution_count": 21,
     "metadata": {},
     "output_type": "execute_result"
    }
   ],
   "source": [
    "λ² = π^2-1.0"
   ]
  },
  {
   "cell_type": "code",
   "execution_count": 23,
   "metadata": {
    "ExecuteTime": {
     "end_time": "2017-03-17T16:04:11.345710",
     "start_time": "2017-03-17T20:04:11.342Z"
    },
    "collapsed": false
   },
   "outputs": [
    {
     "data": {
      "text/plain": [
       "0.08349847711108915"
      ]
     },
     "execution_count": 23,
     "metadata": {},
     "output_type": "execute_result"
    }
   ],
   "source": [
    "σ² = var(rand(100))"
   ]
  },
  {
   "cell_type": "code",
   "execution_count": 24,
   "metadata": {
    "ExecuteTime": {
     "end_time": "2017-03-17T16:04:50.139593",
     "start_time": "2017-03-17T20:04:50.133Z"
    },
    "collapsed": false
   },
   "outputs": [
    {
     "data": {
      "text/plain": [
       "0.5486161276907265"
      ]
     },
     "execution_count": 24,
     "metadata": {},
     "output_type": "execute_result"
    }
   ],
   "source": [
    "μ = mean(rand(100))"
   ]
  },
  {
   "cell_type": "code",
   "execution_count": 26,
   "metadata": {
    "ExecuteTime": {
     "end_time": "2017-03-17T16:05:07.582819",
     "start_time": "2017-03-17T20:05:07.580Z"
    },
    "collapsed": false
   },
   "outputs": [],
   "source": [
    "using Distributions"
   ]
  },
  {
   "cell_type": "code",
   "execution_count": 51,
   "metadata": {
    "ExecuteTime": {
     "end_time": "2017-03-17T16:10:48.790910",
     "start_time": "2017-03-17T20:10:48.786Z"
    },
    "collapsed": false
   },
   "outputs": [
    {
     "data": {
      "text/plain": [
       "5×10 Array{Float64,2}:\n",
       " -0.675489   0.190581   0.296182  …  -0.727046    0.271888  0.183223\n",
       " -0.756883   0.474177   1.45496      -0.691777   -1.68287   1.57379 \n",
       " -0.702206   0.510554   0.104128      2.39054     1.00825   1.14721 \n",
       "  0.421695   0.631557  -0.25045      -0.0934299   1.91756   0.729544\n",
       " -1.16645   -0.193974  -0.835303     -0.658025   -0.203754  1.86172 "
      ]
     },
     "execution_count": 51,
     "metadata": {},
     "output_type": "execute_result"
    }
   ],
   "source": [
    "M = zeros((5,10))\n",
    "randn!(M)\n",
    "M"
   ]
  },
  {
   "cell_type": "code",
   "execution_count": 46,
   "metadata": {
    "ExecuteTime": {
     "end_time": "2017-03-17T16:10:39.494937",
     "start_time": "2017-03-17T20:10:39.490Z"
    },
    "collapsed": false
   },
   "outputs": [
    {
     "data": {
      "text/plain": [
       "5×10 Array{Float64,2}:\n",
       " -0.556027   -1.1449    1.08238   …  -0.238284   1.81935     0.924238\n",
       " -0.444383   -0.468606  0.187028      1.01936   -0.36726     1.61209 \n",
       "  0.0271553   0.156143  0.518149      0.701771   0.756569    0.491992\n",
       " -0.299484   -2.64199   1.49138      -0.145211   0.0870168  -0.226081\n",
       "  1.77786     1.00331   0.367563      0.642896  -0.851194   -1.35164 "
      ]
     },
     "execution_count": 46,
     "metadata": {},
     "output_type": "execute_result"
    }
   ],
   "source": [
    "randn(MersenneTwister(42), (5,10))"
   ]
  },
  {
   "cell_type": "code",
   "execution_count": 39,
   "metadata": {
    "ExecuteTime": {
     "end_time": "2017-03-17T16:08:59.007468",
     "start_time": "2017-03-17T20:08:59.004Z"
    },
    "collapsed": false
   },
   "outputs": [
    {
     "data": {
      "text/plain": [
       "UnitRange{Int64}"
      ]
     },
     "execution_count": 39,
     "metadata": {},
     "output_type": "execute_result"
    }
   ],
   "source": [
    "typeof(1:10)"
   ]
  },
  {
   "cell_type": "code",
   "execution_count": 40,
   "metadata": {
    "ExecuteTime": {
     "end_time": "2017-03-17T16:09:12.512539",
     "start_time": "2017-03-17T20:09:12.500Z"
    },
    "collapsed": false,
    "scrolled": false
   },
   "outputs": [
    {
     "data": {
      "text/html": [
       "12 methods for generic function <b>randn</b>:<ul><li> randn() at <a href=\"https://github.com/JuliaLang/julia/tree/6445c82d0060dbe82b88436f0f4371a4ee64d918/base/random.jl#L1129\" target=\"_blank\">random.jl:1129</a></li> <li> randn(rng::<b>AbstractRNG</b>) at <a href=\"https://github.com/JuliaLang/julia/tree/6445c82d0060dbe82b88436f0f4371a4ee64d918/base/random.jl#L1129\" target=\"_blank\">random.jl:1129</a></li> <li> randn<i>{T<:Union{Float16,Float32,Float64}}</i>(rng::<b>AbstractRNG</b>, ::<b>Type{T}</b>) at <a href=\"https://github.com/JuliaLang/julia/tree/6445c82d0060dbe82b88436f0f4371a4ee64d918/base/random.jl#L1202\" target=\"_blank\">random.jl:1202</a></li> <li> randn<i>{T}</i>(::<b>Type{T}</b>) at <a href=\"https://github.com/JuliaLang/julia/tree/6445c82d0060dbe82b88436f0f4371a4ee64d918/base/random.jl#L1203\" target=\"_blank\">random.jl:1203</a></li> <li> randn<i>{T}</i>(rng::<b>AbstractRNG</b>, ::<b>Type{T}</b>, dims::<b>Tuple{Vararg{Int64,N<:Any}}</b>) at <a href=\"https://github.com/JuliaLang/julia/tree/6445c82d0060dbe82b88436f0f4371a4ee64d918/base/random.jl#L1216\" target=\"_blank\">random.jl:1216</a></li> <li> randn<i>{T}</i>(rng::<b>AbstractRNG</b>, ::<b>Type{T}</b>, dim1::<b>Integer</b>, dims::<b>Integer...</b>) at <a href=\"https://github.com/JuliaLang/julia/tree/6445c82d0060dbe82b88436f0f4371a4ee64d918/base/random.jl#L1218\" target=\"_blank\">random.jl:1218</a></li> <li> randn<i>{T}</i>(::<b>Type{T}</b>, dims::<b>Tuple{Vararg{Int64,N<:Any}}</b>) at <a href=\"https://github.com/JuliaLang/julia/tree/6445c82d0060dbe82b88436f0f4371a4ee64d918/base/random.jl#L1219\" target=\"_blank\">random.jl:1219</a></li> <li> randn<i>{T}</i>(::<b>Type{T}</b>, dims::<b>Integer...</b>) at <a href=\"https://github.com/JuliaLang/julia/tree/6445c82d0060dbe82b88436f0f4371a4ee64d918/base/random.jl#L1220\" target=\"_blank\">random.jl:1220</a></li> <li> randn(rng::<b>AbstractRNG</b>, dims::<b>Tuple{Vararg{Int64,N<:Any}}</b>) at <a href=\"https://github.com/JuliaLang/julia/tree/6445c82d0060dbe82b88436f0f4371a4ee64d918/base/random.jl#L1221\" target=\"_blank\">random.jl:1221</a></li> <li> randn(rng::<b>AbstractRNG</b>, dims::<b>Integer...</b>) at <a href=\"https://github.com/JuliaLang/julia/tree/6445c82d0060dbe82b88436f0f4371a4ee64d918/base/random.jl#L1222\" target=\"_blank\">random.jl:1222</a></li> <li> randn(dims::<b>Tuple{Vararg{Int64,N<:Any}}</b>) at <a href=\"https://github.com/JuliaLang/julia/tree/6445c82d0060dbe82b88436f0f4371a4ee64d918/base/random.jl#L1223\" target=\"_blank\">random.jl:1223</a></li> <li> randn(dims::<b>Integer...</b>) at <a href=\"https://github.com/JuliaLang/julia/tree/6445c82d0060dbe82b88436f0f4371a4ee64d918/base/random.jl#L1224\" target=\"_blank\">random.jl:1224</a></li> </ul>"
      ],
      "text/plain": [
       "# 12 methods for generic function \"randn\":\n",
       "randn() at random.jl:1129\n",
       "randn(rng::AbstractRNG) at random.jl:1129\n",
       "randn{T<:Union{Float16,Float32,Float64}}(rng::AbstractRNG, ::Type{T}) at random.jl:1202\n",
       "randn{T}(::Type{T}) at random.jl:1203\n",
       "randn{T}(rng::AbstractRNG, ::Type{T}, dims::Tuple{Vararg{Int64,N<:Any}}) at random.jl:1216\n",
       "randn{T}(rng::AbstractRNG, ::Type{T}, dim1::Integer, dims::Integer...) at random.jl:1218\n",
       "randn{T}(::Type{T}, dims::Tuple{Vararg{Int64,N<:Any}}) at random.jl:1219\n",
       "randn{T}(::Type{T}, dims::Integer...) at random.jl:1220\n",
       "randn(rng::AbstractRNG, dims::Tuple{Vararg{Int64,N<:Any}}) at random.jl:1221\n",
       "randn(rng::AbstractRNG, dims::Integer...) at random.jl:1222\n",
       "randn(dims::Tuple{Vararg{Int64,N<:Any}}) at random.jl:1223\n",
       "randn(dims::Integer...) at random.jl:1224"
      ]
     },
     "execution_count": 40,
     "metadata": {},
     "output_type": "execute_result"
    }
   ],
   "source": [
    "methods(randn)"
   ]
  },
  {
   "cell_type": "code",
   "execution_count": 2,
   "metadata": {
    "ExecuteTime": {
     "end_time": "2017-03-18T10:21:40.424326",
     "start_time": "2017-03-18T14:21:40.326Z"
    },
    "collapsed": false
   },
   "outputs": [
    {
     "data": {
      "text/plain": [
       "makesale (generic function with 1 method)"
      ]
     },
     "execution_count": 2,
     "metadata": {},
     "output_type": "execute_result"
    }
   ],
   "source": [
    "function makesale(x)\n",
    "    x<0.5? 0.0 : (x<0.95 ? 10.0 : 100.0)\n",
    "end"
   ]
  },
  {
   "cell_type": "code",
   "execution_count": null,
   "metadata": {
    "collapsed": true
   },
   "outputs": [],
   "source": []
  },
  {
   "cell_type": "code",
   "execution_count": null,
   "metadata": {
    "collapsed": true
   },
   "outputs": [],
   "source": []
  },
  {
   "cell_type": "code",
   "execution_count": 3,
   "metadata": {
    "ExecuteTime": {
     "end_time": "2017-03-18T10:21:43.097921",
     "start_time": "2017-03-18T14:21:43.094Z"
    },
    "collapsed": false
   },
   "outputs": [
    {
     "data": {
      "text/plain": [
       "sum (generic function with 13 methods)"
      ]
     },
     "execution_count": 3,
     "metadata": {},
     "output_type": "execute_result"
    }
   ],
   "source": [
    "if !isdefined(:Σ)\n",
    "    Σ = sum\n",
    "end"
   ]
  },
  {
   "cell_type": "code",
   "execution_count": 4,
   "metadata": {
    "ExecuteTime": {
     "end_time": "2017-03-18T10:21:46.206474",
     "start_time": "2017-03-18T14:21:45.924Z"
    },
    "collapsed": false
   },
   "outputs": [
    {
     "data": {
      "text/plain": [
       "960.0"
      ]
     },
     "execution_count": 4,
     "metadata": {},
     "output_type": "execute_result"
    }
   ],
   "source": [
    "\n",
    "Σ(makesale.(rand(100)))"
   ]
  },
  {
   "cell_type": "code",
   "execution_count": 5,
   "metadata": {
    "ExecuteTime": {
     "end_time": "2017-03-18T10:21:56.204641",
     "start_time": "2017-03-18T14:21:56.177Z"
    },
    "collapsed": false
   },
   "outputs": [],
   "source": [
    "sales = Float64[]\n",
    "for k in 1:1000\n",
    "    push!(sales, Σ(makesale.(rand(100))) )\n",
    "end"
   ]
  },
  {
   "cell_type": "code",
   "execution_count": 7,
   "metadata": {
    "ExecuteTime": {
     "end_time": "2017-03-18T10:24:30.958387",
     "start_time": "2017-03-18T14:22:55.513Z"
    },
    "collapsed": false
   },
   "outputs": [
    {
     "name": "stderr",
     "output_type": "stream",
     "text": [
      "\u001b[1m\u001b[34mINFO: Precompiling module Gadfly.\n",
      "\u001b[0m"
     ]
    }
   ],
   "source": [
    "using Gadfly\n",
    "using StatsBase"
   ]
  },
  {
   "cell_type": "code",
   "execution_count": 56,
   "metadata": {
    "ExecuteTime": {
     "end_time": "2017-03-18T10:41:18.948718",
     "start_time": "2017-03-18T14:41:17.899Z"
    },
    "collapsed": false,
    "scrolled": false
   },
   "outputs": [
    {
     "data": {
      "image/png": "[encoded data removed]",
      "text/plain": [
       "Compose.Image{Compose.PNGBackend}(IOBuffer(data=UInt8[...], readable=true, writable=true, seekable=true, append=false, size=28546, maxsize=Inf, ptr=28547, mark=-1),Cairo.CairoSurface{UInt32}(Ptr{Void} @0x0000000000000000,768.0,576.0,#undef),Cairo.CairoContext(Ptr{Void} @0x0000000000000000,Cairo.CairoSurface{UInt32}(Ptr{Void} @0x0000000000000000,768.0,576.0,#undef),Ptr{Void} @0x00007fcc47743390),768.0,576.0,RGBA{Float64}(0.0,0.0,0.0,0.0),RGBA{Float64}(0.0,0.0,0.0,1.0),Float64[],Compose.LineCapButt(),Compose.LineJoinMiter(),true,0.3mm,3.880555555555555mm,\"Helvetica Neue,Helvetica,Arial,sans\",Nullable{Compose.ClipPrimitive{P<:Tuple{Vararg{Measures.Measure,N}}}}(),Compose.ImagePropertyState[],Compose.ImagePropertyFrame[],Dict{Type,Nullable{Compose.Property}}(),true,false,nothing,true,true,3.7795275590551185,Nullable{Tuple{Measures.Length{:mm,Float64},Measures.Length{:mm,Float64}}}(),Nullable{Tuple{Measures.Length{:mm,Float64},Measures.Length{:mm,Float64}}}())"
      ]
     },
     "metadata": {},
     "output_type": "display_data"
    }
   ],
   "source": [
    "sales = Float64[]\n",
    "for k in 1:1_000_000 ## 1_000_000\n",
    "    push!(sales, Σ(makesale.(rand(100))) )\n",
    "end\n",
    "μ = mean(sales)\n",
    "σ = std(sales)\n",
    "\n",
    "h = fit(Histogram, sales, nbins=57, closed=:right)\n",
    "\n",
    "draw(PNG(8inch,6inch),\n",
    "        plot(x=midpoints(h.edges[1]), y=h.weights, Geom.step, Guide.xticks(ticks=[μ-σ, μ, μ+σ], label=false))\n",
    "    )"
   ]
  },
  {
   "cell_type": "code",
   "execution_count": 29,
   "metadata": {
    "ExecuteTime": {
     "end_time": "2017-03-18T10:37:59.631166",
     "start_time": "2017-03-18T14:37:59.580Z"
    },
    "collapsed": false
   },
   "outputs": [
    {
     "data": {
      "image/png": "[encoded data removed]",
      "text/plain": [
       "Compose.Image{Compose.PNGBackend}(IOBuffer(data=UInt8[...], readable=true, writable=true, seekable=true, append=false, size=26404, maxsize=Inf, ptr=26405, mark=-1),Cairo.CairoSurface{UInt32}(Ptr{Void} @0x0000000000000000,768.0,576.0,#undef),Cairo.CairoContext(Ptr{Void} @0x0000000000000000,Cairo.CairoSurface{UInt32}(Ptr{Void} @0x0000000000000000,768.0,576.0,#undef),Ptr{Void} @0x00007fcc477430d0),768.0,576.0,RGBA{Float64}(0.0,0.0,0.0,0.0),RGBA{Float64}(0.0,0.0,0.0,1.0),Float64[],Compose.LineCapButt(),Compose.LineJoinMiter(),true,0.3mm,3.880555555555555mm,\"Helvetica Neue,Helvetica,Arial,sans\",Nullable{Compose.ClipPrimitive{P<:Tuple{Vararg{Measures.Measure,N}}}}(),Compose.ImagePropertyState[],Compose.ImagePropertyFrame[],Dict{Type,Nullable{Compose.Property}}(),true,false,nothing,true,true,3.7795275590551185,Nullable{Tuple{Measures.Length{:mm,Float64},Measures.Length{:mm,Float64}}}(),Nullable{Tuple{Measures.Length{:mm,Float64},Measures.Length{:mm,Float64}}}())"
      ]
     },
     "metadata": {},
     "output_type": "display_data"
    }
   ],
   "source": []
  },
  {
   "cell_type": "markdown",
   "metadata": {
    "ExecuteTime": {
     "end_time": "2017-03-17T19:37:52.235324",
     "start_time": "2017-03-17T23:37:52.232Z"
    },
    "collapsed": false
   },
   "source": [
    "<div style=\"font-size: 150%;\">\n",
    "<p>Hello World\n",
    "</p>\n",
    "<p>\n",
    "This equation is\n",
    "$$\\sum \\sigma^2$$\n",
    "</p>\n",
    "</div>"
   ]
  },
  {
   "cell_type": "code",
   "execution_count": null,
   "metadata": {
    "collapsed": true
   },
   "outputs": [],
   "source": []
  },
  {
   "cell_type": "code",
   "execution_count": null,
   "metadata": {
    "collapsed": true
   },
   "outputs": [],
   "source": []
  },
  {
   "cell_type": "code",
   "execution_count": null,
   "metadata": {
    "collapsed": true
   },
   "outputs": [],
   "source": []
  },
  {
   "cell_type": "code",
   "execution_count": 269,
   "metadata": {
    "ExecuteTime": {
     "end_time": "2017-03-17T19:49:47.826178",
     "start_time": "2017-03-17T23:49:47.684Z"
    },
    "collapsed": false,
    "scrolled": true
   },
   "outputs": [
    {
     "data": {
      "text/plain": [
       "StatsBase.Histogram{Int64,1,Tuple{FloatRange{Float64}}}\n",
       "edges:\n",
       "  900.0:100.0:4900.0\n",
       "weights: [2,8,15,64,203,540,1236,2497,5042,9376  …  1982,1061,539,243,108,46,29,9,3,1]\n",
       "closed: right"
      ]
     },
     "execution_count": 269,
     "metadata": {},
     "output_type": "execute_result"
    }
   ],
   "source": [
    "h = fit(Histogram, sales, nbins=50)"
   ]
  },
  {
   "cell_type": "code",
   "execution_count": 19,
   "metadata": {
    "ExecuteTime": {
     "end_time": "2017-03-18T10:35:46.314382",
     "start_time": "2017-03-18T14:35:45.823Z"
    },
    "collapsed": false
   },
   "outputs": [
    {
     "name": "stdout",
     "output_type": "stream",
     "text": [
      "search: \u001b[1mf\u001b[22m\u001b[1mi\u001b[22m\u001b[1mt\u001b[22m \u001b[1mf\u001b[22m\u001b[1mi\u001b[22m\u001b[1mt\u001b[22m! \u001b[1mf\u001b[22m\u001b[1mi\u001b[22m\u001b[1mt\u001b[22mted \u001b[1mf\u001b[22m\u001b[1mi\u001b[22ml\u001b[1mt\u001b[22m \u001b[1mf\u001b[22m\u001b[1mi\u001b[22ml\u001b[1mt\u001b[22m! \u001b[1mf\u001b[22m\u001b[1mi\u001b[22ml\u001b[1mt\u001b[22mer \u001b[1mf\u001b[22m\u001b[1mi\u001b[22ml\u001b[1mt\u001b[22mer! \u001b[1mF\u001b[22m\u001b[1mi\u001b[22ml\u001b[1mt\u001b[22mer con\u001b[1mf\u001b[22m\u001b[1mi\u001b[22mn\u001b[1mt\u001b[22m \u001b[1mf\u001b[22m\u001b[1mi\u001b[22mrs\u001b[1mt\u001b[22m uc\u001b[1mf\u001b[22m\u001b[1mi\u001b[22mrs\u001b[1mt\u001b[22m\n",
      "\n"
     ]
    },
    {
     "data": {
      "text/markdown": [
       "No documentation found.\n",
       "\n",
       "`StatsBase.fit` is a `Function`.\n",
       "\n",
       "```\n",
       "# 19 methods for generic function \"fit\":\n",
       "fit(::Type{StatsBase.Histogram}, v::AbstractArray{T<:Any,1}; closed, nbins) at /Users/Peter/.julia/v0.5/StatsBase/src/hist.jl:170\n",
       "fit(::Type{StatsBase.Histogram}, v::AbstractArray{T<:Any,1}, edg::AbstractArray{T<:Any,1}; closed) at /Users/Peter/.julia/v0.5/StatsBase/src/hist.jl:168\n",
       "fit(::Type{StatsBase.Histogram}, v::AbstractArray{T<:Any,1}, wv::StatsBase.WeightVec; closed, nbins) at /Users/Peter/.julia/v0.5/StatsBase/src/hist.jl:175\n",
       "fit{W}(::Type{StatsBase.Histogram}, v::AbstractArray{T<:Any,1}, wv::StatsBase.WeightVec{W,Vec<:AbstractArray{T<:Real,1}}, edg::AbstractArray{T<:Any,1}; closed) at /Users/Peter/.julia/v0.5/StatsBase/src/hist.jl:173\n",
       "fit{N}(::Type{StatsBase.Histogram}, vs::Tuple{Vararg{AbstractArray{T<:Any,1},N}}, edges::Tuple{Vararg{AbstractArray{T<:Any,1},N}}; closed) at /Users/Peter/.julia/v0.5/StatsBase/src/hist.jl:207\n",
       "fit{N}(::Type{StatsBase.Histogram}, vs::Tuple{Vararg{AbstractArray{T<:Any,1},N}}; closed, nbins) at /Users/Peter/.julia/v0.5/StatsBase/src/hist.jl:209\n",
       "fit{N}(::Type{StatsBase.Histogram}, vs::Tuple{Vararg{AbstractArray{T<:Any,1},N}}, wv::StatsBase.WeightVec; closed, nbins) at /Users/Peter/.julia/v0.5/StatsBase/src/hist.jl:214\n",
       "fit{N,W}(::Type{StatsBase.Histogram}, vs::Tuple{Vararg{AbstractArray{T<:Any,1},N}}, wv::StatsBase.WeightVec{W,Vec<:AbstractArray{T<:Real,1}}, edges::Tuple{Vararg{AbstractArray{T<:Any,1},N}}; closed) at /Users/Peter/.julia/v0.5/StatsBase/src/hist.jl:212\n",
       "fit(obj::StatsBase.StatisticalModel, data...) at /Users/Peter/.julia/v0.5/StatsBase/src/statmodels.jl:46\n",
       "fit(::Type{Distributions.Binomial}, data::Tuple{Int64,AbstractArray}) at /Users/Peter/.julia/v0.5/Distributions/src/univariate/discrete/binomial.jl:206\n",
       "fit(::Type{Distributions.Binomial}, data::Tuple{Int64,AbstractArray}, w::AbstractArray{Float64,N<:Any}) at /Users/Peter/.julia/v0.5/Distributions/src/univariate/discrete/binomial.jl:207\n",
       "fit(::Type{Distributions.Categorical}, data::Tuple{Int64,AbstractArray}) at /Users/Peter/.julia/v0.5/Distributions/src/univariate/discrete/categorical.jl:273\n",
       "fit(::Type{Distributions.Categorical}, data::Tuple{Int64,AbstractArray}, w::AbstractArray{Float64,N<:Any}) at /Users/Peter/.julia/v0.5/Distributions/src/univariate/discrete/categorical.jl:274\n",
       "fit{T<:Real}(::Type{Distributions.Beta}, x::AbstractArray{T,N<:Any}) at /Users/Peter/.julia/v0.5/Distributions/src/univariate/continuous/beta.jl:128\n",
       "fit{T<:Real}(::Type{Distributions.Cauchy}, x::AbstractArray{T,N<:Any}) at /Users/Peter/.julia/v0.5/Distributions/src/univariate/continuous/cauchy.jl:108\n",
       "fit{D<:Distributions.Distribution{F<:Distributions.VariateForm,S<:Distributions.ValueSupport}}(dt::Type{D}, x) at /Users/Peter/.julia/v0.5/Distributions/src/genericfit.jl:14\n",
       "fit{D<:Distributions.Distribution{F<:Distributions.VariateForm,S<:Distributions.ValueSupport}}(dt::Type{D}, args...) at /Users/Peter/.julia/v0.5/Distributions/src/genericfit.jl:15\n",
       "fit{T<:StatsBase.RegressionModel}(::Type{T}, f::DataFrames.Formula, df::DataFrames.AbstractDataFrame, args...; contrasts, kwargs...) at /Users/Peter/.julia/v0.5/DataFrames/src/statsmodels/statsmodel.jl:52\n",
       "fit{T<:StatsBase.StatisticalModel}(::Type{T}, f::DataFrames.Formula, df::DataFrames.AbstractDataFrame, args...; contrasts, kwargs...) at /Users/Peter/.julia/v0.5/DataFrames/src/statsmodels/statsmodel.jl:52\n",
       "```\n"
      ],
      "text/plain": [
       "No documentation found.\n",
       "\n",
       "`StatsBase.fit` is a `Function`.\n",
       "\n",
       "```\n",
       "# 19 methods for generic function \"fit\":\n",
       "fit(::Type{StatsBase.Histogram}, v::AbstractArray{T<:Any,1}; closed, nbins) at /Users/Peter/.julia/v0.5/StatsBase/src/hist.jl:170\n",
       "fit(::Type{StatsBase.Histogram}, v::AbstractArray{T<:Any,1}, edg::AbstractArray{T<:Any,1}; closed) at /Users/Peter/.julia/v0.5/StatsBase/src/hist.jl:168\n",
       "fit(::Type{StatsBase.Histogram}, v::AbstractArray{T<:Any,1}, wv::StatsBase.WeightVec; closed, nbins) at /Users/Peter/.julia/v0.5/StatsBase/src/hist.jl:175\n",
       "fit{W}(::Type{StatsBase.Histogram}, v::AbstractArray{T<:Any,1}, wv::StatsBase.WeightVec{W,Vec<:AbstractArray{T<:Real,1}}, edg::AbstractArray{T<:Any,1}; closed) at /Users/Peter/.julia/v0.5/StatsBase/src/hist.jl:173\n",
       "fit{N}(::Type{StatsBase.Histogram}, vs::Tuple{Vararg{AbstractArray{T<:Any,1},N}}, edges::Tuple{Vararg{AbstractArray{T<:Any,1},N}}; closed) at /Users/Peter/.julia/v0.5/StatsBase/src/hist.jl:207\n",
       "fit{N}(::Type{StatsBase.Histogram}, vs::Tuple{Vararg{AbstractArray{T<:Any,1},N}}; closed, nbins) at /Users/Peter/.julia/v0.5/StatsBase/src/hist.jl:209\n",
       "fit{N}(::Type{StatsBase.Histogram}, vs::Tuple{Vararg{AbstractArray{T<:Any,1},N}}, wv::StatsBase.WeightVec; closed, nbins) at /Users/Peter/.julia/v0.5/StatsBase/src/hist.jl:214\n",
       "fit{N,W}(::Type{StatsBase.Histogram}, vs::Tuple{Vararg{AbstractArray{T<:Any,1},N}}, wv::StatsBase.WeightVec{W,Vec<:AbstractArray{T<:Real,1}}, edges::Tuple{Vararg{AbstractArray{T<:Any,1},N}}; closed) at /Users/Peter/.julia/v0.5/StatsBase/src/hist.jl:212\n",
       "fit(obj::StatsBase.StatisticalModel, data...) at /Users/Peter/.julia/v0.5/StatsBase/src/statmodels.jl:46\n",
       "fit(::Type{Distributions.Binomial}, data::Tuple{Int64,AbstractArray}) at /Users/Peter/.julia/v0.5/Distributions/src/univariate/discrete/binomial.jl:206\n",
       "fit(::Type{Distributions.Binomial}, data::Tuple{Int64,AbstractArray}, w::AbstractArray{Float64,N<:Any}) at /Users/Peter/.julia/v0.5/Distributions/src/univariate/discrete/binomial.jl:207\n",
       "fit(::Type{Distributions.Categorical}, data::Tuple{Int64,AbstractArray}) at /Users/Peter/.julia/v0.5/Distributions/src/univariate/discrete/categorical.jl:273\n",
       "fit(::Type{Distributions.Categorical}, data::Tuple{Int64,AbstractArray}, w::AbstractArray{Float64,N<:Any}) at /Users/Peter/.julia/v0.5/Distributions/src/univariate/discrete/categorical.jl:274\n",
       "fit{T<:Real}(::Type{Distributions.Beta}, x::AbstractArray{T,N<:Any}) at /Users/Peter/.julia/v0.5/Distributions/src/univariate/continuous/beta.jl:128\n",
       "fit{T<:Real}(::Type{Distributions.Cauchy}, x::AbstractArray{T,N<:Any}) at /Users/Peter/.julia/v0.5/Distributions/src/univariate/continuous/cauchy.jl:108\n",
       "fit{D<:Distributions.Distribution{F<:Distributions.VariateForm,S<:Distributions.ValueSupport}}(dt::Type{D}, x) at /Users/Peter/.julia/v0.5/Distributions/src/genericfit.jl:14\n",
       "fit{D<:Distributions.Distribution{F<:Distributions.VariateForm,S<:Distributions.ValueSupport}}(dt::Type{D}, args...) at /Users/Peter/.julia/v0.5/Distributions/src/genericfit.jl:15\n",
       "fit{T<:StatsBase.RegressionModel}(::Type{T}, f::DataFrames.Formula, df::DataFrames.AbstractDataFrame, args...; contrasts, kwargs...) at /Users/Peter/.julia/v0.5/DataFrames/src/statsmodels/statsmodel.jl:52\n",
       "fit{T<:StatsBase.StatisticalModel}(::Type{T}, f::DataFrames.Formula, df::DataFrames.AbstractDataFrame, args...; contrasts, kwargs...) at /Users/Peter/.julia/v0.5/DataFrames/src/statsmodels/statsmodel.jl:52\n",
       "```\n"
      ]
     },
     "execution_count": 19,
     "metadata": {},
     "output_type": "execute_result"
    }
   ],
   "source": [
    "?fit"
   ]
  },
  {
   "cell_type": "code",
   "execution_count": 266,
   "metadata": {
    "ExecuteTime": {
     "end_time": "2017-03-17T19:48:29.863978",
     "start_time": "2017-03-17T23:48:29.847Z"
    },
    "collapsed": false
   },
   "outputs": [
    {
     "data": {
      "text/plain": [
       "900.0:200.0:4900.0"
      ]
     },
     "execution_count": 266,
     "metadata": {},
     "output_type": "execute_result"
    }
   ],
   "source": [
    "midpoints(h.edges[1])"
   ]
  },
  {
   "cell_type": "code",
   "execution_count": 248,
   "metadata": {
    "ExecuteTime": {
     "end_time": "2017-03-17T19:40:51.701127",
     "start_time": "2017-03-17T23:40:51.697Z"
    },
    "collapsed": false
   },
   "outputs": [
    {
     "data": {
      "text/plain": [
       "21"
      ]
     },
     "execution_count": 248,
     "metadata": {},
     "output_type": "execute_result"
    }
   ],
   "source": [
    "length(h.weights)"
   ]
  },
  {
   "cell_type": "code",
   "execution_count": null,
   "metadata": {
    "collapsed": true
   },
   "outputs": [],
   "source": []
  },
  {
   "cell_type": "code",
   "execution_count": null,
   "metadata": {
    "collapsed": true
   },
   "outputs": [],
   "source": []
  },
  {
   "cell_type": "code",
   "execution_count": 199,
   "metadata": {
    "ExecuteTime": {
     "end_time": "2017-03-17T18:51:17.724262",
     "start_time": "2017-03-17T22:51:17.712Z"
    },
    "collapsed": false
   },
   "outputs": [
    {
     "data": {
      "text/markdown": [
       "No documentation found.\n",
       "\n",
       "`Gadfly.Geom.histogram` is a `Function`.\n",
       "\n",
       "```\n",
       "# 1 method for generic function \"histogram\":\n",
       "histogram(; position, minbincount, maxbincount, orientation, density, bincount, tag) at /Users/Peter/.julia/v0.5/Gadfly/src/geom/bar.jl:39\n",
       "```\n"
      ],
      "text/plain": [
       "No documentation found.\n",
       "\n",
       "`Gadfly.Geom.histogram` is a `Function`.\n",
       "\n",
       "```\n",
       "# 1 method for generic function \"histogram\":\n",
       "histogram(; position, minbincount, maxbincount, orientation, density, bincount, tag) at /Users/Peter/.julia/v0.5/Gadfly/src/geom/bar.jl:39\n",
       "```\n"
      ]
     },
     "execution_count": 199,
     "metadata": {},
     "output_type": "execute_result"
    }
   ],
   "source": [
    "?Geom.histogram"
   ]
  },
  {
   "cell_type": "code",
   "execution_count": null,
   "metadata": {
    "collapsed": true
   },
   "outputs": [],
   "source": []
  },
  {
   "cell_type": "markdown",
   "metadata": {
    "ExecuteTime": {
     "end_time": "2017-03-17T17:16:25.798354",
     "start_time": "2017-03-17T21:16:25.794Z"
    },
    "collapsed": false
   },
   "source": [
    "# Exmaple: Linear Algebra"
   ]
  },
  {
   "cell_type": "code",
   "execution_count": 89,
   "metadata": {
    "ExecuteTime": {
     "end_time": "2017-03-17T17:27:04.648304",
     "start_time": "2017-03-17T21:27:04.644Z"
    },
    "collapsed": false
   },
   "outputs": [
    {
     "data": {
      "text/plain": [
       "3-element Array{Int64,1}:\n",
       " 2\n",
       " 3\n",
       " 4"
      ]
     },
     "execution_count": 89,
     "metadata": {},
     "output_type": "execute_result"
    }
   ],
   "source": [
    "a = Vector([1,2,3])\n",
    "b = Vector([2,3,4])"
   ]
  },
  {
   "cell_type": "code",
   "execution_count": 92,
   "metadata": {
    "ExecuteTime": {
     "end_time": "2017-03-17T17:27:21.143708",
     "start_time": "2017-03-17T21:27:21.059Z"
    },
    "collapsed": false
   },
   "outputs": [
    {
     "data": {
      "text/plain": [
       "3-element Array{Int64,1}:\n",
       "  2\n",
       "  6\n",
       " 12"
      ]
     },
     "execution_count": 92,
     "metadata": {},
     "output_type": "execute_result"
    }
   ],
   "source": [
    "a.*b"
   ]
  },
  {
   "cell_type": "code",
   "execution_count": 93,
   "metadata": {
    "ExecuteTime": {
     "end_time": "2017-03-17T17:27:31.024906",
     "start_time": "2017-03-17T21:27:31.001Z"
    },
    "collapsed": false
   },
   "outputs": [
    {
     "data": {
      "text/plain": [
       "3-element Array{Int64,1}:\n",
       " 3\n",
       " 5\n",
       " 7"
      ]
     },
     "execution_count": 93,
     "metadata": {},
     "output_type": "execute_result"
    }
   ],
   "source": [
    "a+b"
   ]
  },
  {
   "cell_type": "code",
   "execution_count": 94,
   "metadata": {
    "ExecuteTime": {
     "end_time": "2017-03-17T17:27:43.518870",
     "start_time": "2017-03-17T21:27:42.661Z"
    },
    "collapsed": false
   },
   "outputs": [
    {
     "data": {
      "text/plain": [
       "3×3 Array{Float64,2}:\n",
       " 0.0689655  0.103448  0.137931\n",
       " 0.137931   0.206897  0.275862\n",
       " 0.206897   0.310345  0.413793"
      ]
     },
     "execution_count": 94,
     "metadata": {},
     "output_type": "execute_result"
    }
   ],
   "source": [
    "a/b"
   ]
  },
  {
   "cell_type": "code",
   "execution_count": 96,
   "metadata": {
    "ExecuteTime": {
     "end_time": "2017-03-17T17:28:04.457587",
     "start_time": "2017-03-17T21:28:04.453Z"
    },
    "collapsed": false
   },
   "outputs": [
    {
     "data": {
      "text/plain": [
       "1-element Array{Float64,1}:\n",
       " 1.42857"
      ]
     },
     "execution_count": 96,
     "metadata": {},
     "output_type": "execute_result"
    }
   ],
   "source": [
    "a\\b"
   ]
  },
  {
   "cell_type": "code",
   "execution_count": 100,
   "metadata": {
    "ExecuteTime": {
     "end_time": "2017-03-17T17:28:59.237181",
     "start_time": "2017-03-17T21:28:59.218Z"
    },
    "collapsed": false
   },
   "outputs": [
    {
     "data": {
      "text/plain": [
       "1-element Array{Float64,1}:\n",
       " 2.22222"
      ]
     },
     "execution_count": 100,
     "metadata": {},
     "output_type": "execute_result"
    }
   ],
   "source": [
    "(a'*b)/(length(a)*length(b))"
   ]
  },
  {
   "cell_type": "code",
   "execution_count": 99,
   "metadata": {
    "ExecuteTime": {
     "end_time": "2017-03-17T17:28:36.078912",
     "start_time": "2017-03-17T21:28:36.075Z"
    },
    "collapsed": false
   },
   "outputs": [
    {
     "data": {
      "text/plain": [
       "3"
      ]
     },
     "execution_count": 99,
     "metadata": {},
     "output_type": "execute_result"
    }
   ],
   "source": [
    "length(a)"
   ]
  },
  {
   "cell_type": "code",
   "execution_count": 104,
   "metadata": {
    "ExecuteTime": {
     "end_time": "2017-03-17T17:29:32.733546",
     "start_time": "2017-03-17T21:29:32.729Z"
    },
    "collapsed": false
   },
   "outputs": [
    {
     "data": {
      "text/plain": [
       "20"
      ]
     },
     "execution_count": 104,
     "metadata": {},
     "output_type": "execute_result"
    }
   ],
   "source": [
    "a ⋅ b"
   ]
  },
  {
   "cell_type": "code",
   "execution_count": 114,
   "metadata": {
    "ExecuteTime": {
     "end_time": "2017-03-17T17:30:53.913399",
     "start_time": "2017-03-17T21:30:53.909Z"
    },
    "collapsed": false
   },
   "outputs": [
    {
     "data": {
      "text/plain": [
       "20"
      ]
     },
     "execution_count": 114,
     "metadata": {},
     "output_type": "execute_result"
    }
   ],
   "source": [
    "a ⋅ b"
   ]
  },
  {
   "cell_type": "code",
   "execution_count": 116,
   "metadata": {
    "ExecuteTime": {
     "end_time": "2017-03-17T17:31:02.879560",
     "start_time": "2017-03-17T21:31:02.861Z"
    },
    "collapsed": false
   },
   "outputs": [
    {
     "name": "stdout",
     "output_type": "stream",
     "text": [
      "search: ⋅\n",
      "\n"
     ]
    },
    {
     "data": {
      "text/markdown": [
       "```\n",
       "dot(x, y)\n",
       "⋅(x,y)\n",
       "```\n",
       "\n",
       "Compute the dot product. For complex vectors, the first vector is conjugated.\n",
       "\n",
       "```\n",
       "dot(n, X, incx, Y, incy)\n",
       "```\n",
       "\n",
       "Dot product of two vectors consisting of `n` elements of array `X` with stride `incx` and `n` elements of array `Y` with stride `incy`.\n"
      ],
      "text/plain": [
       "```\n",
       "dot(x, y)\n",
       "⋅(x,y)\n",
       "```\n",
       "\n",
       "Compute the dot product. For complex vectors, the first vector is conjugated.\n",
       "\n",
       "```\n",
       "dot(n, X, incx, Y, incy)\n",
       "```\n",
       "\n",
       "Dot product of two vectors consisting of `n` elements of array `X` with stride `incx` and `n` elements of array `Y` with stride `incy`.\n"
      ]
     },
     "execution_count": 116,
     "metadata": {},
     "output_type": "execute_result"
    }
   ],
   "source": [
    "?⋅"
   ]
  },
  {
   "cell_type": "code",
   "execution_count": 107,
   "metadata": {
    "ExecuteTime": {
     "end_time": "2017-03-17T17:29:58.602119",
     "start_time": "2017-03-17T21:29:58.598Z"
    },
    "collapsed": false
   },
   "outputs": [
    {
     "data": {
      "text/plain": [
       "3-element Array{Int64,1}:\n",
       " -1\n",
       "  2\n",
       " -1"
      ]
     },
     "execution_count": 107,
     "metadata": {},
     "output_type": "execute_result"
    }
   ],
   "source": [
    "a × b"
   ]
  },
  {
   "cell_type": "code",
   "execution_count": 117,
   "metadata": {
    "ExecuteTime": {
     "end_time": "2017-03-17T17:31:39.659401",
     "start_time": "2017-03-17T21:31:39.655Z"
    },
    "collapsed": false,
    "scrolled": true
   },
   "outputs": [
    {
     "data": {
      "text/plain": [
       "3×3 Array{Int64,2}:\n",
       " 2  3   4\n",
       " 4  6   8\n",
       " 6  9  12"
      ]
     },
     "execution_count": 117,
     "metadata": {},
     "output_type": "execute_result"
    }
   ],
   "source": [
    "a*b'"
   ]
  },
  {
   "cell_type": "code",
   "execution_count": 119,
   "metadata": {
    "ExecuteTime": {
     "end_time": "2017-03-17T17:31:55.628839",
     "start_time": "2017-03-17T21:31:55.624Z"
    },
    "collapsed": false
   },
   "outputs": [
    {
     "ename": "LoadError",
     "evalue": "LoadError: UndefVarError: Σ not defined\nwhile loading In[119], in expression starting on line 1",
     "output_type": "error",
     "traceback": [
      "LoadError: UndefVarError: Σ not defined\nwhile loading In[119], in expression starting on line 1",
      ""
     ]
    }
   ],
   "source": [
    "Σ(a)"
   ]
  },
  {
   "cell_type": "code",
   "execution_count": 121,
   "metadata": {
    "ExecuteTime": {
     "end_time": "2017-03-17T17:32:17.506942",
     "start_time": "2017-03-17T21:32:17.503Z"
    },
    "collapsed": false
   },
   "outputs": [
    {
     "data": {
      "text/plain": [
       "sum (generic function with 18 methods)"
      ]
     },
     "execution_count": 121,
     "metadata": {},
     "output_type": "execute_result"
    }
   ],
   "source": [
    "Σ = sum"
   ]
  },
  {
   "cell_type": "code",
   "execution_count": 127,
   "metadata": {
    "ExecuteTime": {
     "end_time": "2017-03-17T17:33:27.599265",
     "start_time": "2017-03-17T21:33:27.596Z"
    },
    "collapsed": false
   },
   "outputs": [
    {
     "data": {
      "text/plain": [
       "3-element Array{Int64,1}:\n",
       " 1\n",
       " 2\n",
       " 3"
      ]
     },
     "execution_count": 127,
     "metadata": {},
     "output_type": "execute_result"
    }
   ],
   "source": [
    "Σ(a,b)"
   ]
  },
  {
   "cell_type": "code",
   "execution_count": 128,
   "metadata": {
    "ExecuteTime": {
     "end_time": "2017-03-17T17:33:40.270201",
     "start_time": "2017-03-17T21:33:40.261Z"
    },
    "collapsed": false
   },
   "outputs": [
    {
     "data": {
      "text/html": [
       "18 methods for generic function <b>sum</b>:<ul><li> sum(x::<b>Tuple{Any,Vararg{Any,N<:Any}}</b>) at <a href=\"https://github.com/JuliaLang/julia/tree/6445c82d0060dbe82b88436f0f4371a4ee64d918/base/tuple.jl#L205\" target=\"_blank\">tuple.jl:205</a></li> <li> sum(r::<b>FloatRange</b>) at <a href=\"https://github.com/JuliaLang/julia/tree/6445c82d0060dbe82b88436f0f4371a4ee64d918/base/range.jl#L869\" target=\"_blank\">range.jl:869</a></li> <li> sum<i>{T<:Real}</i>(r::<b>Range{T}</b>) at <a href=\"https://github.com/JuliaLang/julia/tree/6445c82d0060dbe82b88436f0f4371a4ee64d918/base/range.jl#L862\" target=\"_blank\">range.jl:862</a></li> <li> sum(f::<b>Function</b>, A::<b>AbstractArray</b>, region) at <a href=\"https://github.com/JuliaLang/julia/tree/6445c82d0060dbe82b88436f0f4371a4ee64d918/base/reducedim.jl#L318\" target=\"_blank\">reducedim.jl:318</a></li> <li> sum(f::<b>Union{DataType,Function}</b>, a) at <a href=\"https://github.com/JuliaLang/julia/tree/6445c82d0060dbe82b88436f0f4371a4ee64d918/base/reduce.jl#L234\" target=\"_blank\">reduce.jl:234</a></li> <li> sum(B::<b>BitArray</b>) at <a href=\"https://github.com/JuliaLang/julia/tree/6445c82d0060dbe82b88436f0f4371a4ee64d918/base/bitarray.jl#L1815\" target=\"_blank\">bitarray.jl:1815</a></li> <li> sum(v::<b>BitArray</b>, w::<b>StatsBase.WeightVec</b>) at <a href=\"https://github.com/JuliaStats/StatsBase.jl/tree/96cd82a5c8461d81ac4d14723abe7b9f075ac7a0/src/weights.jl#L48\" target=\"_blank\">/Users/Peter/.julia/v0.5/StatsBase/src/weights.jl:48</a></li> <li> sum(A::<b>BitArray</b>, region) at <a href=\"https://github.com/JuliaLang/julia/tree/6445c82d0060dbe82b88436f0f4371a4ee64d918/base/bitarray.jl#L1814\" target=\"_blank\">bitarray.jl:1814</a></li> <li> sum(v::<b>SparseMatrixCSC</b>, w::<b>StatsBase.WeightVec</b>) at <a href=\"https://github.com/JuliaStats/StatsBase.jl/tree/96cd82a5c8461d81ac4d14723abe7b9f075ac7a0/src/weights.jl#L49\" target=\"_blank\">/Users/Peter/.julia/v0.5/StatsBase/src/weights.jl:49</a></li> <li> sum(x::<b>AbstractSparseArray{Tv<:Any,Ti<:Any,1}</b>) at <a href=\"https://github.com/JuliaLang/julia/tree/6445c82d0060dbe82b88436f0f4371a4ee64d918/base/sparse/sparsevector.jl#L1202\" target=\"_blank\">sparse/sparsevector.jl:1202</a></li> <li> sum(a::<b>AbstractArray{Bool,N<:Any}</b>) at <a href=\"https://github.com/JuliaLang/julia/tree/6445c82d0060dbe82b88436f0f4371a4ee64d918/base/reduce.jl#L236\" target=\"_blank\">reduce.jl:236</a></li> <li> sum(arr::<b>AbstractArray{BigInt,N<:Any}</b>) at <a href=\"https://github.com/JuliaLang/julia/tree/6445c82d0060dbe82b88436f0f4371a4ee64d918/base/gmp.jl#L472\" target=\"_blank\">gmp.jl:472</a></li> <li> sum(arr::<b>AbstractArray{BigFloat,N<:Any}</b>) at <a href=\"https://github.com/JuliaLang/julia/tree/6445c82d0060dbe82b88436f0f4371a4ee64d918/base/mpfr.jl#L596\" target=\"_blank\">mpfr.jl:596</a></li> <li> sum<i>{T<:Number,W<:Real}</i>(A::<b>AbstractArray{T,N<:Any}</b>, w::<b>StatsBase.WeightVec{W,Vec<:AbstractArray{T<:Real,1}}</b>, dim::<b>Int64</b>) at <a href=\"https://github.com/JuliaStats/StatsBase.jl/tree/96cd82a5c8461d81ac4d14723abe7b9f075ac7a0/src/weights.jl#L248\" target=\"_blank\">/Users/Peter/.julia/v0.5/StatsBase/src/weights.jl:248</a></li> <li> sum(v::<b>AbstractArray</b>, w::<b>StatsBase.WeightVec</b>) at <a href=\"https://github.com/JuliaStats/StatsBase.jl/tree/96cd82a5c8461d81ac4d14723abe7b9f075ac7a0/src/weights.jl#L50\" target=\"_blank\">/Users/Peter/.julia/v0.5/StatsBase/src/weights.jl:50</a></li> <li> sum(A::<b>AbstractArray</b>, region) at <a href=\"https://github.com/JuliaLang/julia/tree/6445c82d0060dbe82b88436f0f4371a4ee64d918/base/reducedim.jl#L320\" target=\"_blank\">reducedim.jl:320</a></li> <li> sum(wv::<b>StatsBase.WeightVec</b>) at <a href=\"https://github.com/JuliaStats/StatsBase.jl/tree/96cd82a5c8461d81ac4d14723abe7b9f075ac7a0/src/weights.jl#L29\" target=\"_blank\">/Users/Peter/.julia/v0.5/StatsBase/src/weights.jl:29</a></li> <li> sum(a) at <a href=\"https://github.com/JuliaLang/julia/tree/6445c82d0060dbe82b88436f0f4371a4ee64d918/base/reduce.jl#L235\" target=\"_blank\">reduce.jl:235</a></li> </ul>"
      ],
      "text/plain": [
       "# 18 methods for generic function \"sum\":\n",
       "sum(x::Tuple{Any,Vararg{Any,N<:Any}}) at tuple.jl:205\n",
       "sum(r::FloatRange) at range.jl:869\n",
       "sum{T<:Real}(r::Range{T}) at range.jl:862\n",
       "sum(f::Function, A::AbstractArray, region) at reducedim.jl:318\n",
       "sum(f::Union{DataType,Function}, a) at reduce.jl:234\n",
       "sum(B::BitArray) at bitarray.jl:1815\n",
       "sum(v::BitArray, w::StatsBase.WeightVec) at /Users/Peter/.julia/v0.5/StatsBase/src/weights.jl:48\n",
       "sum(A::BitArray, region) at bitarray.jl:1814\n",
       "sum(v::SparseMatrixCSC, w::StatsBase.WeightVec) at /Users/Peter/.julia/v0.5/StatsBase/src/weights.jl:49\n",
       "sum(x::AbstractSparseArray{Tv<:Any,Ti<:Any,1}) at sparse/sparsevector.jl:1202\n",
       "sum(a::AbstractArray{Bool,N<:Any}) at reduce.jl:236\n",
       "sum(arr::AbstractArray{BigInt,N<:Any}) at gmp.jl:472\n",
       "sum(arr::AbstractArray{BigFloat,N<:Any}) at mpfr.jl:596\n",
       "sum{T<:Number,W<:Real}(A::AbstractArray{T,N<:Any}, w::StatsBase.WeightVec{W,Vec<:AbstractArray{T<:Real,1}}, dim::Int64) at /Users/Peter/.julia/v0.5/StatsBase/src/weights.jl:248\n",
       "sum(v::AbstractArray, w::StatsBase.WeightVec) at /Users/Peter/.julia/v0.5/StatsBase/src/weights.jl:50\n",
       "sum(A::AbstractArray, region) at reducedim.jl:320\n",
       "sum(wv::StatsBase.WeightVec) at /Users/Peter/.julia/v0.5/StatsBase/src/weights.jl:29\n",
       "sum(a) at reduce.jl:235"
      ]
     },
     "execution_count": 128,
     "metadata": {},
     "output_type": "execute_result"
    }
   ],
   "source": [
    "methods(sum)"
   ]
  },
  {
   "cell_type": "code",
   "execution_count": null,
   "metadata": {
    "collapsed": true
   },
   "outputs": [],
   "source": []
  },
  {
   "cell_type": "code",
   "execution_count": null,
   "metadata": {
    "collapsed": true
   },
   "outputs": [],
   "source": []
  },
  {
   "cell_type": "code",
   "execution_count": null,
   "metadata": {
    "collapsed": true
   },
   "outputs": [],
   "source": []
  }
 ],
 "metadata": {
  "hide_input": false,
  "kernelspec": {
   "display_name": "Julia 0.5.1",
   "language": "julia",
   "name": "julia-0.5"
  },
  "language_info": {
   "file_extension": ".jl",
   "mimetype": "application/julia",
   "name": "julia",
   "version": "0.5.1"
  },
  "latex_envs": {
   "bibliofile": "biblio.bib",
   "cite_by": "apalike",
   "current_citInitial": 1,
   "eqLabelWithNumbers": true,
   "eqNumInitial": 0
  },
  "toc": {
   "nav_menu": {
    "height": "12px",
    "width": "252px"
   },
   "navigate_menu": true,
   "number_sections": true,
   "sideBar": true,
   "threshold": 4,
   "toc_cell": false,
   "toc_section_display": "block",
   "toc_window_display": false
  }
 },
 "nbformat": 4,
 "nbformat_minor": 2
}
