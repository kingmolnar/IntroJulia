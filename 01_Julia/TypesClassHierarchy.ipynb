{
 "cells": [
  {
   "cell_type": "markdown",
   "metadata": {
    "ExecuteTime": {
     "end_time": "2017-03-18T19:10:37.015066",
     "start_time": "2017-03-18T23:10:36.605Z"
    }
   },
   "source": [
    "# First: Trees"
   ]
  },
  {
   "cell_type": "markdown",
   "metadata": {},
   "source": [
    "Let's build a tree. We can represent a **node** in the tree as a tuple (value, list-of-nodes).  "
   ]
  },
  {
   "cell_type": "code",
   "execution_count": 105,
   "metadata": {
    "ExecuteTime": {
     "end_time": "2017-03-18T22:05:20.197732",
     "start_time": "2017-03-19T02:05:20.191Z"
    },
    "collapsed": false
   },
   "outputs": [
    {
     "data": {
      "text/plain": [
       "(:a,Tuple{Symbol,Array{Tuple{Symbol,Array{T,1}},1}}[(:b,Tuple{Symbol,Array{T,1}}[(:e,Tuple{Symbol,Array{Any,1}}[(:f,Any[]),(:g,Any[])]),(:h,Tuple{Symbol,Array{Tuple{Symbol,Array{Any,1}},1}}[(:i,Tuple{Symbol,Array{Any,1}}[(:j,Any[]),(:k,Any[])])]),(:l,Any[])]),(:c,Tuple{Symbol,Array{T,1}}[(:d,Any[]),(:s,Tuple{Symbol,Array{Tuple{Symbol,Array{Any,1}},1}}[(:t,Tuple{Symbol,Array{Any,1}}[(:u,Any[]),(:p,Any[])])]),(:v,Any[]),(:w,Tuple{Symbol,Array{Tuple{Symbol,Array{Any,1}},1}}[(:x,Tuple{Symbol,Array{Any,1}}[(:y,Any[]),(:z,Any[])])])])])"
      ]
     },
     "execution_count": 105,
     "metadata": {},
     "output_type": "execute_result"
    }
   ],
   "source": [
    "∅ = []  ## define a proper notation for empty set\n",
    "\n",
    "tree = (:a, [\n",
    "            (:b, [\n",
    "                (:e, [\n",
    "                    (:f, ∅),\n",
    "                    (:g, ∅)\n",
    "                     ]),\n",
    "                (:h, [\n",
    "                    (:i, [\n",
    "                        (:j, ∅),\n",
    "                        (:k, ∅)\n",
    "                         ])\n",
    "                     ]),\n",
    "                (:l, ∅)\n",
    "                 ]),\n",
    "            (:c, [\n",
    "                (:d, ∅),\n",
    "                (:s, [\n",
    "                    (:t, [\n",
    "                        (:u, ∅),\n",
    "                        (:p, ∅)\n",
    "                         ])\n",
    "                     ]),\n",
    "                (:v, ∅),\n",
    "                (:w, [\n",
    "                    (:x, [\n",
    "                        (:y, ∅),\n",
    "                        (:z, ∅)\n",
    "                         ])\n",
    "                     ])\n",
    "                 ])\n",
    "            ])\n"
   ]
  },
  {
   "cell_type": "markdown",
   "metadata": {},
   "source": [
    "The recursive function `traverse` starts at a given node of the tree and expands all the children nodes until it reaches a *leaf-node*, like `(:z, ∅)`\n",
    "\n",
    "The order that's implemented here is called **depth first** search because it follows every branch to the leaf before backtracking to the next level.\n",
    "In contrast, the **breadth-first** search would first explore all children, and then proceed to their grand children."
   ]
  },
  {
   "cell_type": "code",
   "execution_count": 110,
   "metadata": {
    "ExecuteTime": {
     "end_time": "2017-03-18T22:19:14.792432",
     "start_time": "2017-03-19T02:19:14.786Z"
    },
    "collapsed": false
   },
   "outputs": [
    {
     "name": "stderr",
     "output_type": "stream",
     "text": [
      "WARNING: Method definition traverse(Any) in module Main at In[106]:2 overwritten at In[110]:2.\n",
      "WARNING: Method definition traverse(Any, Any) in module Main at In[106]:2 overwritten at In[110]:2.\n"
     ]
    },
    {
     "data": {
      "text/plain": [
       "traverse (generic function with 2 methods)"
      ]
     },
     "execution_count": 110,
     "metadata": {},
     "output_type": "execute_result"
    }
   ],
   "source": [
    "function traverse(t, io=STDOUT)\n",
    "    parent = t[1]\n",
    "    for child in t[2]\n",
    "        ch = child[1]\n",
    "        write(io, \"\\\"$parent\\\" -> \\\"$ch\\\";\\n\")\n",
    "        if length(child[2])>0\n",
    "            traverse(child, io)\n",
    "        end\n",
    "    end\n",
    "end\n",
    "        "
   ]
  },
  {
   "cell_type": "code",
   "execution_count": 107,
   "metadata": {
    "ExecuteTime": {
     "end_time": "2017-03-18T22:05:38.815612",
     "start_time": "2017-03-19T02:05:38.761Z"
    },
    "collapsed": false
   },
   "outputs": [
    {
     "name": "stdout",
     "output_type": "stream",
     "text": [
      "\"a\" -> \"b\";\n",
      "\"b\" -> \"e\";\n",
      "\"e\" -> \"f\";\n",
      "\"e\" -> \"g\";\n",
      "\"b\" -> \"h\";\n",
      "\"h\" -> \"i\";\n",
      "\"i\" -> \"j\";\n",
      "\"i\" -> \"k\";\n",
      "\"b\" -> \"l\";\n",
      "\"a\" -> \"c\";\n",
      "\"c\" -> \"d\";\n",
      "\"c\" -> \"s\";\n",
      "\"s\" -> \"t\";\n",
      "\"t\" -> \"u\";\n",
      "\"t\" -> \"p\";\n",
      "\"c\" -> \"v\";\n",
      "\"c\" -> \"w\";\n",
      "\"w\" -> \"x\";\n",
      "\"x\" -> \"y\";\n",
      "\"x\" -> \"z\";\n"
     ]
    }
   ],
   "source": [
    "traverse(tree)"
   ]
  },
  {
   "cell_type": "markdown",
   "metadata": {},
   "source": [
    "We're going to write the list of edegs into a file. In particular a `dot` file so that we can use any of the [GraphViz tools](http://www.graphviz.org) to layout the hierarchy tree."
   ]
  },
  {
   "cell_type": "code",
   "execution_count": 111,
   "metadata": {
    "ExecuteTime": {
     "end_time": "2017-03-18T22:19:46.717420",
     "start_time": "2017-03-19T02:19:46.662Z"
    },
    "collapsed": false
   },
   "outputs": [],
   "source": [
    "open(\"mylittletree.dot\", \"w\") do io\n",
    "    write(io, \"digraph mylittletree {\")\n",
    "    traverse(tree, io)\n",
    "    write(io, \"}\\n\")\n",
    "end;"
   ]
  },
  {
   "cell_type": "markdown",
   "metadata": {},
   "source": [
    "After the chart has been created we're using the special method `HTML()` to insert HTML code into the notebook."
   ]
  },
  {
   "cell_type": "code",
   "execution_count": 112,
   "metadata": {
    "ExecuteTime": {
     "end_time": "2017-03-18T22:19:48.470474",
     "start_time": "2017-03-19T02:19:48.431Z"
    },
    "collapsed": false
   },
   "outputs": [
    {
     "data": {
      "text/html": [
       "<img src=\"files/mylittletree.svg?0.8674845352275831\">"
      ],
      "text/plain": [
       "HTML{String}(\"<img src=\\\"files/mylittletree.svg?0.8674845352275831\\\">\")"
      ]
     },
     "execution_count": 112,
     "metadata": {},
     "output_type": "execute_result"
    }
   ],
   "source": [
    "run(pipeline(`dot -Tsvg mylittletree.dot`, \"mylittletree.svg\"))\n",
    "HTML(\"<img src=\\\"files/mylittletree.svg?$(rand())\\\">\")"
   ]
  },
  {
   "cell_type": "markdown",
   "metadata": {},
   "source": [
    "# Class Hierarchy\n",
    "\n",
    "Julia "
   ]
  },
  {
   "cell_type": "code",
   "execution_count": 98,
   "metadata": {
    "ExecuteTime": {
     "end_time": "2017-03-18T21:49:10.172369",
     "start_time": "2017-03-19T01:49:10.163Z"
    },
    "collapsed": false
   },
   "outputs": [
    {
     "name": "stderr",
     "output_type": "stream",
     "text": [
      "WARNING: Method definition create_class_hierarchy_graph(Type) in module Main at In[95]:3 overwritten at In[98]:3.\n"
     ]
    },
    {
     "data": {
      "text/plain": [
       "create_class_hierarchy_graph (generic function with 2 methods)"
      ]
     },
     "execution_count": 98,
     "metadata": {},
     "output_type": "execute_result"
    }
   ],
   "source": [
    "function create_class_hierarchy_graph(t::Type, algorithm=\"dot\")\n",
    "    \n",
    "    function traversetypes(parent, io=STDOUT)\n",
    "        \n",
    "        function trav(parent, children, maxlevel)\n",
    "            if maxlevel>0\n",
    "                for child in children\n",
    "                    write(io, \"\\\"$parent\\\" -> \\\"$child\\\";\\n\")\n",
    "                    grandchildren = subtypes(child)\n",
    "                    width = length(grandchildren)\n",
    "                    if width>0\n",
    "                        trav(child, grandchildren, maxlevel-1)\n",
    "                    end\n",
    "                end\n",
    "            end\n",
    "        end\n",
    "\n",
    "        trav(parent, subtypes(parent), 10)\n",
    "    end\n",
    "    \n",
    "    fname = \"JuliaClassHierarchy_$t\"\n",
    "    open(\"$fname.dot\", \"w\") do io\n",
    "        write(io, \"digraph juliatree {\")\n",
    "        traversetypes(t, io)\n",
    "        write(io, \"}\\n\")\n",
    "    end\n",
    "    run(pipeline(`$algorithm -Tsvg $fname.dot`, \"$fname.svg\"))\n",
    "    HTML(\"<img src=\\\"files/$fname.svg?$(rand())\\\">\")\n",
    "end"
   ]
  },
  {
   "cell_type": "code",
   "execution_count": 99,
   "metadata": {
    "ExecuteTime": {
     "end_time": "2017-03-18T21:49:15.007922",
     "start_time": "2017-03-19T01:49:14.768Z"
    },
    "collapsed": false
   },
   "outputs": [
    {
     "name": "stdout",
     "output_type": "stream",
     "text": [
      "done with tree traversal\n"
     ]
    },
    {
     "data": {
      "text/html": [
       "<img src=\"files/JuliaClassHierarchy_Number.svg?0.990260028305896\">"
      ],
      "text/plain": [
       "HTML{String}(\"<img src=\\\"files/JuliaClassHierarchy_Number.svg?0.990260028305896\\\">\")"
      ]
     },
     "execution_count": 99,
     "metadata": {},
     "output_type": "execute_result"
    }
   ],
   "source": [
    "create_class_hierarchy_graph(Number)"
   ]
  },
  {
   "cell_type": "code",
   "execution_count": 100,
   "metadata": {
    "ExecuteTime": {
     "end_time": "2017-03-18T21:49:17.720672",
     "start_time": "2017-03-19T01:49:17.609Z"
    },
    "collapsed": false,
    "scrolled": true
   },
   "outputs": [
    {
     "name": "stdout",
     "output_type": "stream",
     "text": [
      "done with tree traversal\n"
     ]
    },
    {
     "data": {
      "text/html": [
       "<img src=\"files/JuliaClassHierarchy_AbstractString.svg?0.6373745732696772\">"
      ],
      "text/plain": [
       "HTML{String}(\"<img src=\\\"files/JuliaClassHierarchy_AbstractString.svg?0.6373745732696772\\\">\")"
      ]
     },
     "execution_count": 100,
     "metadata": {},
     "output_type": "execute_result"
    }
   ],
   "source": [
    "create_class_hierarchy_graph(AbstractString)"
   ]
  },
  {
   "cell_type": "code",
   "execution_count": 132,
   "metadata": {
    "ExecuteTime": {
     "end_time": "2017-03-18T22:24:49.874793",
     "start_time": "2017-03-19T02:24:49.646Z"
    },
    "collapsed": false
   },
   "outputs": [
    {
     "name": "stdout",
     "output_type": "stream",
     "text": [
      "done with tree traversal\n"
     ]
    },
    {
     "data": {
      "text/html": [
       "<img src=\"files/JuliaClassHierarchy_Base.Dates.AbstractTime.svg?0.9590704490701527\">"
      ],
      "text/plain": [
       "HTML{String}(\"<img src=\\\"files/JuliaClassHierarchy_Base.Dates.AbstractTime.svg?0.9590704490701527\\\">\")"
      ]
     },
     "execution_count": 132,
     "metadata": {},
     "output_type": "execute_result"
    }
   ],
   "source": [
    "create_class_hierarchy_graph(Dates.AbstractTime)"
   ]
  },
  {
   "cell_type": "code",
   "execution_count": 102,
   "metadata": {
    "ExecuteTime": {
     "end_time": "2017-03-18T21:49:38.216794",
     "start_time": "2017-03-19T01:49:37.535Z"
    },
    "collapsed": false
   },
   "outputs": [
    {
     "name": "stdout",
     "output_type": "stream",
     "text": [
      "done with tree traversal\n"
     ]
    },
    {
     "name": "stderr",
     "output_type": "stream",
     "text": [
      "Warning: Overlap value \"prism\" unsupported - ignored\n"
     ]
    },
    {
     "data": {
      "text/html": [
       "<img src=\"files/JuliaClassHierarchy_AbstractArray{T,N}.svg?0.7754658215288555\">"
      ],
      "text/plain": [
       "HTML{String}(\"<img src=\\\"files/JuliaClassHierarchy_AbstractArray{T,N}.svg?0.7754658215288555\\\">\")"
      ]
     },
     "execution_count": 102,
     "metadata": {},
     "output_type": "execute_result"
    }
   ],
   "source": [
    "create_class_hierarchy_graph(AbstractArray, \"fdp\")"
   ]
  },
  {
   "cell_type": "markdown",
   "metadata": {},
   "source": [
    "# Julia Types"
   ]
  },
  {
   "cell_type": "markdown",
   "metadata": {},
   "source": [
    "Type systems have traditionally fallen into two quite different camps:\n",
    "static type systems, where every program expression must have a type\n",
    "computable before the execution of the program, and dynamic type\n",
    "systems, where nothing is known about types until run time, when the\n",
    "actual values manipulated by the program are available. Object\n",
    "orientation allows some flexibility in statically typed languages by\n",
    "letting code be written without the precise types of values being known\n",
    "at compile time. The ability to write code that can operate on different\n",
    "types is called polymorphism. All code in classic dynamically typed\n",
    "languages is polymorphic: only by explicitly checking types, or when\n",
    "objects fail to support operations at run-time, are the types of any\n",
    "values ever restricted.\n",
    "\n",
    "Julia's type system is dynamic, but gains some of the advantages of\n",
    "static type systems by making it possible to indicate that certain\n",
    "values are of specific types. This can be of great assistance in\n",
    "generating efficient code, but even more significantly, it allows method\n",
    "dispatch on the types of function arguments to be deeply integrated with\n",
    "the language. Method dispatch is explored in detail in\n",
    "[:ref:`man-methods`], but is rooted in the type system presented\n",
    "here.\n",
    "\n",
    "The default behavior in Julia when types are omitted is to allow values\n",
    "to be of any type. Thus, one can write many useful Julia programs\n",
    "without ever explicitly using types. When additional expressiveness is\n",
    "needed, however, it is easy to gradually introduce explicit type\n",
    "annotations into previously \"untyped\" code. Doing so will typically\n",
    "increase both the performance and robustness of these systems, and\n",
    "perhaps somewhat counterintuitively, often significantly simplify them.\n",
    "\n",
    "Describing Julia in the lingo of [type\n",
    "systems](https://en.wikipedia.org/wiki/Type_system), it is: dynamic,\n",
    "nominative and parametric. Generic types can be parameterized,\n",
    "and the hierarchical relationships\n",
    "between types are explicitly declared, rather than implied by compatible\n",
    "structure. One particularly distinctive feature of Julia's type system\n",
    "is that concrete types may not subtype each other: all concrete types\n",
    "are final and may only have abstract types as their supertypes. While\n",
    "this might at first seem unduly restrictive, it has many beneficial\n",
    "consequences with surprisingly few drawbacks. It turns out that being\n",
    "able to inherit behavior is much more important than being able to\n",
    "inherit structure, and inheriting both causes significant difficulties\n",
    "in traditional object-oriented languages. Other high-level aspects of\n",
    "Julia's type system that should be mentioned up front are:\n",
    "\n",
    "-  There is no division between object and non-object values: all values\n",
    "   in Julia are true objects having a type that belongs to a single,\n",
    "   fully connected type graph, all nodes of which are equally\n",
    "   first-class as types.\n",
    "-  There is no meaningful concept of a \"compile-time type\": the only\n",
    "   type a value has is its actual type when the program is running. This\n",
    "   is called a \"run-time type\" in object-oriented languages where the\n",
    "   combination of static compilation with polymorphism makes this\n",
    "   distinction significant.\n",
    "-  Only values, not variables, have types — variables are simply names\n",
    "   bound to values.\n",
    "-  Both abstract and concrete types can be parameterized by other types.\n",
    "   They can also be parameterized by symbols, by values of any type for\n",
    "   which :func:`isbits` returns true (essentially, things like numbers and bools\n",
    "   that are stored like C types or structs with no pointers to other objects),\n",
    "   and also by tuples thereof. Type parameters may be omitted when they\n",
    "   do not need to be referenced or restricted.\n",
    "\n",
    "Julia's type system is designed to be powerful and expressive, yet\n",
    "clear, intuitive and unobtrusive. Many Julia programmers may never feel\n",
    "the need to write code that explicitly uses types. Some kinds of\n",
    "programming, however, become clearer, simpler, faster and more robust\n",
    "with declared types."
   ]
  },
  {
   "cell_type": "markdown",
   "metadata": {},
   "source": [
    "## Type Declarations\n",
    "\n",
    "The ``::`` operator can be used to attach type annotations to\n",
    "expressions and variables in programs. There are two primary reasons to\n",
    "do this:\n",
    "\n",
    "1. As an assertion to help confirm that your program works the way you\n",
    "   expect,\n",
    "2. To provide extra type information to the compiler, which can then\n",
    "   improve performance in some cases\n",
    "\n",
    "When appended to an expression computing a value, the ``::``\n",
    "operator is read as \"is an instance of\". It can be used\n",
    "anywhere to assert that the value of the expression on the left is an\n",
    "instance of the type on the right. When the type on the right is\n",
    "concrete, the value on the left must have that type as its\n",
    "implementation — recall that all concrete types are final, so no\n",
    "implementation is a subtype of any other. When the type is abstract, it\n",
    "suffices for the value to be implemented by a concrete type that is a\n",
    "subtype of the abstract type. If the type assertion is not true, an\n",
    "exception is thrown, otherwise, the left-hand value is returned:\n",
    "\n",
    ".. doctest::\n",
    "\n",
    "    julia> (1+2)::AbstractFloat\n",
    "    ERROR: TypeError: typeassert: expected AbstractFloat, got Int64\n",
    "     ...\n",
    "\n",
    "    julia> (1+2)::Int\n",
    "    3\n",
    "\n",
    "This allows a type assertion to be attached to any expression\n",
    "in-place.\n",
    "\n",
    "When appended to a variable on the left-hand side of an assignment,\n",
    "or as part of a ``local`` declaration, the ``::`` operator means something\n",
    "a bit different: it declares the variable to always have the specified type,\n",
    "like a type declaration in a statically-typed language such as C. Every\n",
    "value assigned to the variable will be converted to the declared type\n",
    "using :func:`convert`:\n",
    "\n",
    ".. doctest:: foo-func\n",
    "\n",
    "    julia> function foo()\n",
    "               x::Int8 = 100\n",
    "               x\n",
    "           end\n",
    "    foo (generic function with 1 method)\n",
    "\n",
    "    julia> foo()\n",
    "    100\n",
    "\n",
    "    julia> typeof(ans)\n",
    "    Int8\n",
    "\n",
    "This feature is useful for avoiding performance \"gotchas\" that could\n",
    "occur if one of the assignments to a variable changed its type\n",
    "unexpectedly.\n",
    "\n",
    "This \"declaration\" behavior only occurs in specific contexts::\n",
    "\n",
    "    local x::Int8  # in a local declaration\n",
    "    x::Int8 = 10   # as the left-hand side of an assignment\n",
    "\n",
    "and applies to the whole current scope, even before the declaration.\n",
    "Currently, type declarations cannot be used in global scope, e.g. in\n",
    "the REPL, since Julia does not yet have constant-type globals.\n",
    "\n",
    "Declarations can also be attached to function definitions::\n",
    "\n",
    "    function sinc(x)::Float64\n",
    "        if x == 0\n",
    "            return 1\n",
    "        end\n",
    "        return sin(pi*x)/(pi*x)\n",
    "    end\n",
    "\n",
    "Returning from this function behaves just like an assignment to\n",
    "a variable with a declared type: the value is always converted to\n",
    "``Float64``.\n",
    "\n",
    "\n",
    ".. _man-abstract-types:"
   ]
  },
  {
   "cell_type": "markdown",
   "metadata": {},
   "source": [
    "## Abstract Types\n",
    "\n",
    "\n",
    "Abstract types cannot be instantiated, and serve only as nodes in the\n",
    "type graph, thereby describing sets of related concrete types: those\n",
    "concrete types which are their descendants. We begin with abstract types\n",
    "even though they have no instantiation because they are the backbone of\n",
    "the type system: they form the conceptual hierarchy which makes Julia's\n",
    "type system more than just a collection of object implementations.\n",
    "\n",
    "Recall that in :ref:`man-integers-and-floating-point-numbers`, we\n",
    "introduced a variety of concrete types of numeric values: :class:`Int8`,\n",
    ":class:`UInt8`, :class:`Int16`, :class:`UInt16`, :class:`Int32`, :class:`UInt32`, :class:`Int64`,\n",
    ":class:`UInt64`, :class:`Int128`, :class:`UInt128`, :class:`Float16`, :class:`Float32`, and\n",
    ":class:`Float64`.  Although they have different representation sizes, :class:`Int8`,\n",
    ":class:`Int16`, :class:`Int32`, :class:`Int64`  and :class:`Int128` all have in common that\n",
    "they are signed integer types. Likewise :class:`UInt8`, :class:`UInt16`, :class:`UInt32`,\n",
    ":class:`UInt64` and :class:`UInt128` are all unsigned integer types, while\n",
    ":class:`Float16`, :class:`Float32` and :class:`Float64` are distinct in being\n",
    "floating-point types rather than integers. It is common for a piece of code\n",
    "to make sense, for example, only if its arguments are some kind of integer,\n",
    "but not really depend on what particular *kind* of integer.  For example,\n",
    "the greatest common denominator algorithm works for all kinds of integers,\n",
    "but will not work for floating-point numbers.  Abstract types allow the\n",
    "construction of a hierarchy of types, providing a context into which\n",
    "concrete types can fit.  This allows you, for example, to easily program to\n",
    "any type that is an integer, without restricting an algorithm to a specific\n",
    "type of integer.\n",
    "\n",
    "Abstract types are declared using the ``abstract`` keyword. The general\n",
    "syntaxes for declaring an abstract type are::\n",
    "\n",
    "    abstract «name»\n",
    "    abstract «name» <: «supertype»\n",
    "\n",
    "The ``abstract`` keyword introduces a new abstract type, whose name is\n",
    "given by ``«name»``. This name can be optionally followed by ``<:`` and\n",
    "an already-existing type, indicating that the newly declared abstract\n",
    "type is a subtype of this \"parent\" type.\n",
    "\n",
    "When no supertype is given, the default supertype is `Any` — a\n",
    "predefined abstract type that all objects are instances of and all types\n",
    "are subtypes of. In type theory, `Any` is commonly called \"top\"\n",
    "because it is at the apex of the type graph. Julia also has a predefined\n",
    "abstract \"bottom\" type, at the nadir of the type graph, which is written as\n",
    "``Union{}``. It is the exact opposite of `Any`: no object is an instance\n",
    "of ``Union{}`` and all types are supertypes of ``Union{}``.\n",
    "\n",
    "Let's consider some of the abstract types that make up Julia's numerical\n",
    "hierarchy::\n",
    "\n",
    "    abstract Number\n",
    "    abstract Real     <: Number\n",
    "    abstract AbstractFloat <: Real\n",
    "    abstract Integer  <: Real\n",
    "    abstract Signed   <: Integer\n",
    "    abstract Unsigned <: Integer\n",
    "\n",
    "The `Number` type is a direct child type of `Any`, and `Real` is\n",
    "its child. In turn, `Real` has two children (it has more, but only two\n",
    "are shown here; we'll get to the others later): :class:`Integer` and\n",
    ":class:`AbstractFloat`, separating the world into representations of integers and\n",
    "representations of real numbers. Representations of real numbers\n",
    "include, of course, floating-point types, but also include other types,\n",
    "such as rationals. Hence, :class:`AbstractFloat` is a proper subtype of\n",
    "`Real`, including only floating-point representations of real numbers.\n",
    "Integers are further subdivided into `Signed` and `Unsigned`\n",
    "varieties.\n",
    "\n",
    "The ``<:`` operator in general means \"is a subtype of\", and, used in\n",
    "declarations like this, declares the right-hand type to be an immediate\n",
    "supertype of the newly declared type. It can also be used in expressions\n",
    "as a subtype operator which returns ``true`` when its left operand is a\n",
    "subtype of its right operand:\n",
    "\n",
    ".. doctest::\n",
    "\n",
    "    julia> Integer <: Number\n",
    "    true\n",
    "\n",
    "    julia> Integer <: AbstractFloat\n",
    "    false\n",
    "\n",
    "An important use of abstract types is to provide default implementations for\n",
    "concrete types. To give a simple example, consider::\n",
    "\n",
    "    function myplus(x,y)\n",
    "        x+y\n",
    "    end\n",
    "\n",
    "The first thing to note is that the above argument declarations are equivalent\n",
    "to ``x::Any`` and ``y::Any``. When this function is invoked, say as\n",
    "``myplus(2,5)``, the dispatcher chooses the most specific method named\n",
    "``myplus`` that matches the given arguments. (See :ref:`man-methods` for more\n",
    "information on multiple dispatch.)\n",
    "\n",
    "Assuming no method more specific than the above is found, Julia next internally\n",
    "defines and compiles a method called ``myplus`` specifically for two :class:`Int`\n",
    "arguments based on the generic function given above, i.e., it implicitly\n",
    "defines and compiles::\n",
    "\n",
    "    function myplus(x::Int,y::Int)\n",
    "        x+y\n",
    "    end\n",
    "\n",
    "and finally, it invokes this specific method.\n",
    "\n",
    "Thus, abstract types allow programmers to write generic functions that can\n",
    "later be used as the default method by many combinations of concrete types.\n",
    "Thanks to multiple dispatch, the programmer has full control over whether the\n",
    "default or more specific method is used.\n",
    "\n",
    "An important point to note is that there is no loss in performance if the\n",
    "programmer relies on a function whose arguments are abstract types, because it\n",
    "is recompiled for each tuple of argument concrete types with which it is\n",
    "invoked. (There may be a performance issue, however, in the case of function\n",
    "arguments that are containers of abstract types; see :ref:`man-performance-tips`.)"
   ]
  },
  {
   "cell_type": "markdown",
   "metadata": {},
   "source": [
    "## Bits Types\n",
    "\n",
    "\n",
    "A bits type is a concrete type whose data consists of plain old bits.\n",
    "Classic examples of bits types are integers and floating-point values.\n",
    "Unlike most languages, Julia lets you declare your own bits types,\n",
    "rather than providing only a fixed set of built-in bits types. In fact,\n",
    "the standard bits types are all defined in the language itself::\n",
    "\n",
    "    bitstype 16 Float16 <: AbstractFloat\n",
    "    bitstype 32 Float32 <: AbstractFloat\n",
    "    bitstype 64 Float64 <: AbstractFloat\n",
    "\n",
    "    bitstype 8  Bool <: Integer\n",
    "    bitstype 32 Char\n",
    "\n",
    "    bitstype 8  Int8     <: Signed\n",
    "    bitstype 8  UInt8    <: Unsigned\n",
    "    bitstype 16 Int16    <: Signed\n",
    "    bitstype 16 UInt16   <: Unsigned\n",
    "    bitstype 32 Int32    <: Signed\n",
    "    bitstype 32 UInt32   <: Unsigned\n",
    "    bitstype 64 Int64    <: Signed\n",
    "    bitstype 64 UInt64   <: Unsigned\n",
    "    bitstype 128 Int128  <: Signed\n",
    "    bitstype 128 UInt128 <: Unsigned\n",
    "\n",
    "The general syntaxes for declaration of a ``bitstype`` are::\n",
    "\n",
    "    bitstype «bits» «name»\n",
    "    bitstype «bits» «name» <: «supertype»\n",
    "\n",
    "The number of bits indicates how much storage the type requires and the\n",
    "name gives the new type a name. A bits type can optionally be declared\n",
    "to be a subtype of some supertype. If a supertype is omitted, then the\n",
    "type defaults to having `Any` as its immediate supertype. The\n",
    "declaration of `Bool` above therefore means that a boolean value takes\n",
    "eight bits to store, and has :class:`Integer` as its immediate supertype.\n",
    "Currently, only sizes that are multiples of 8 bits are supported.\n",
    "Therefore, boolean values, although they really need just a single bit,\n",
    "cannot be declared to be any smaller than eight bits.\n",
    "\n",
    "The types `Bool`, :class:`Int8` and :class:`UInt8` all have identical\n",
    "representations: they are eight-bit chunks of memory. Since Julia's type\n",
    "system is nominative, however, they are not interchangeable despite\n",
    "having identical structure. Another fundamental difference between them\n",
    "is that they have different supertypes: `Bool`'s direct supertype is\n",
    ":class:`Integer`, :class:`Int8`'s is `Signed`, and :class:`UInt8`'s is `Unsigned`.\n",
    "All other differences between `Bool`, :class:`Int8`, and :class:`UInt8` are\n",
    "matters of behavior — the way functions are defined to act when given\n",
    "objects of these types as arguments. This is why a nominative type\n",
    "system is necessary: if structure determined type, which in turn\n",
    "dictates behavior, then it would be impossible to make `Bool` behave any\n",
    "differently than :class:`Int8` or :class:`UInt8`.\n"
   ]
  },
  {
   "cell_type": "markdown",
   "metadata": {},
   "source": [
    "## Composite Types\n",
    "\n",
    "`Composite types <https://en.wikipedia.org/wiki/Composite_data_type>`_\n",
    "are called records, structures (``struct``\\ s in C), or objects in various\n",
    "languages. A composite type is a collection of named fields, an instance\n",
    "of which can be treated as a single value. In many languages, composite\n",
    "types are the only kind of user-definable type, and they are by far the\n",
    "most commonly used user-defined type in Julia as well.\n",
    "\n",
    "In mainstream\n",
    "object oriented languages, such as C++, Java, Python and Ruby, composite\n",
    "types also have named functions associated with them, and the\n",
    "combination is called an \"object\". In purer object-oriented languages,\n",
    "such as Ruby or Smalltalk, all values are objects whether they are\n",
    "composites or not. In less pure object oriented languages, including C++\n",
    "and Java, some values, such as integers and floating-point values, are\n",
    "not objects, while instances of user-defined composite types are true\n",
    "objects with associated methods. In Julia, all values are objects,\n",
    "but functions are not bundled with the objects they\n",
    "operate on. This is necessary since Julia chooses which method of a\n",
    "function to use by multiple dispatch, meaning that the types of *all* of\n",
    "a function's arguments are considered when selecting a method, rather\n",
    "than just the first one (see :ref:`man-methods` for more\n",
    "information on methods and dispatch). Thus, it would be inappropriate\n",
    "for functions to \"belong\" to only their first argument. Organizing\n",
    "methods into function objects rather than having\n",
    "named bags of methods \"inside\" each object ends up being a highly\n",
    "beneficial aspect of the language design.\n",
    "\n",
    "Since composite types are the most common form of user-defined concrete\n",
    "type, they are simply introduced with the ``type`` keyword followed by a\n",
    "block of field names, optionally annotated with types using the ``::``\n",
    "operator:\n",
    "\n",
    ".. doctest::\n",
    "\n",
    "    julia> type Foo\n",
    "               bar\n",
    "               baz::Int\n",
    "               qux::Float64\n",
    "           end\n",
    "\n",
    "Fields with no type annotation default to `Any`, and can accordingly\n",
    "hold any type of value.\n",
    "\n",
    "New objects of composite type ``Foo`` are created by applying the\n",
    "``Foo`` type object like a function to values for its fields:\n",
    "\n",
    ".. doctest::\n",
    "\n",
    "    julia> foo = Foo(\"Hello, world.\", 23, 1.5)\n",
    "    Foo(\"Hello, world.\",23,1.5)\n",
    "\n",
    "    julia> typeof(foo)\n",
    "    Foo\n",
    "\n",
    "When a type is applied like a function it is called a *constructor*.\n",
    "Two constructors are generated automatically (these are called *default\n",
    "constructors*). One accepts any arguments and calls :func:`convert` to convert\n",
    "them to the types of the fields, and the other accepts arguments that\n",
    "match the field types exactly. The reason both of these are generated is\n",
    "that this makes it easier to add new definitions without inadvertently\n",
    "replacing a default constructor.\n",
    "\n",
    "Since the ``bar`` field is unconstrained in type, any value will do.\n",
    "However, the value for ``baz`` must be convertible to :class:`Int`:\n",
    "\n",
    ".. doctest::\n",
    "\n",
    "    julia> Foo((), 23.5, 1)\n",
    "    ERROR: InexactError()\n",
    "     in Foo(::Tuple{}, ::Float64, ::Int64) at ./none:2\n",
    "     ...\n",
    "\n",
    "You may find a list of field names using the ``fieldnames`` function.\n",
    "\n",
    ".. doctest::\n",
    "\n",
    "    julia> fieldnames(foo)\n",
    "    3-element Array{Symbol,1}:\n",
    "     :bar\n",
    "     :baz\n",
    "     :qux\n",
    "\n",
    "You can access the field values of a composite object using the\n",
    "traditional ``foo.bar`` notation:\n",
    "\n",
    ".. doctest::\n",
    "\n",
    "    julia> foo.bar\n",
    "    \"Hello, world.\"\n",
    "\n",
    "    julia> foo.baz\n",
    "    23\n",
    "\n",
    "    julia> foo.qux\n",
    "    1.5\n",
    "\n",
    "You can also change the values as one would expect:\n",
    "\n",
    ".. doctest::\n",
    "\n",
    "    julia> foo.qux = 2\n",
    "    2\n",
    "\n",
    "    julia> foo.bar = 1//2\n",
    "    1//2\n",
    "\n",
    "Composite types with no fields are singletons; there can be only one\n",
    "instance of such types::\n",
    "\n",
    "    type NoFields\n",
    "    end\n",
    "\n",
    "    julia> is(NoFields(), NoFields())\n",
    "    true\n",
    "\n",
    "The ``is`` function confirms that the \"two\" constructed instances of\n",
    "``NoFields`` are actually one and the same. Singleton types are\n",
    "described in further detail `below <#man-singleton-types>`_.\n",
    "\n",
    "There is much more to say about how instances of composite types are\n",
    "created, but that discussion depends on both `Parametric\n",
    "Types <#man-parametric-types>`_ and on :ref:`man-methods`, and is\n",
    "sufficiently important to be addressed in its own section:\n",
    ":ref:`man-constructors`.\n",
    "\n",
    ".. _man-immutable-composite-types:"
   ]
  },
  {
   "cell_type": "markdown",
   "metadata": {},
   "source": [
    "## Immutable Composite Types\n",
    "\n",
    "It is also possible to define *immutable* composite types by using\n",
    "the keyword ``immutable`` instead of ``type``::\n",
    "\n",
    "    immutable Complex\n",
    "        real::Float64\n",
    "        imag::Float64\n",
    "    end\n",
    "\n",
    "Such types behave much like other composite types, except that instances\n",
    "of them cannot be modified. Immutable types have several advantages:\n",
    "\n",
    "- They are more efficient in some cases. Types like the ``Complex``\n",
    "  example above can be packed efficiently into arrays, and in some\n",
    "  cases the compiler is able to avoid allocating immutable objects\n",
    "  entirely.\n",
    "- It is not possible to violate the invariants provided by the\n",
    "  type's constructors.\n",
    "- Code using immutable objects can be easier to reason about.\n",
    "\n",
    "An immutable object might contain mutable objects, such as arrays, as\n",
    "fields. Those contained objects will remain mutable; only the fields of the\n",
    "immutable object itself cannot be changed to point to different objects.\n",
    "\n",
    "A useful way to think about immutable composites is that each instance is\n",
    "associated with specific field values --- the field values alone tell\n",
    "you everything about the object. In contrast, a mutable object is like a\n",
    "little container that might hold different values over time, and so is\n",
    "not identified with specific field values. In deciding whether to make a\n",
    "type immutable, ask whether two instances with the same field values\n",
    "would be considered identical, or if they might need to change independently\n",
    "over time. If they would be considered identical, the type should probably\n",
    "be immutable.\n",
    "\n",
    "To recap, two essential properties define immutability\n",
    "in Julia:\n",
    "\n",
    "* An object with an immutable type is passed around (both in assignment\n",
    "  statements and in function calls) by copying, whereas a mutable type is\n",
    "  passed around by reference.\n",
    "\n",
    "* It is not permitted to modify the fields of a composite immutable\n",
    "  type.\n",
    "\n",
    "It is instructive, particularly for readers whose background is C/C++, to consider\n",
    "why these two properties go hand in hand.  If they were separated,\n",
    "i.e., if the fields of objects passed around by copying could be modified,\n",
    "then it would become more difficult to reason about certain instances of generic code.  For example,\n",
    "suppose ``x`` is a function argument of an abstract type, and suppose that the function\n",
    "changes a field: ``x.isprocessed = true``.  Depending on whether ``x`` is passed by copying\n",
    "or by reference, this statement may or may not alter the actual argument in the\n",
    "calling routine.  Julia\n",
    "sidesteps the possibility of creating functions with unknown effects in this\n",
    "scenario by forbidding modification of fields\n",
    "of objects passed around by copying."
   ]
  },
  {
   "cell_type": "markdown",
   "metadata": {},
   "source": [
    "## Declared Types\n",
    "\n",
    "\n",
    "The three kinds of types discussed in the previous three sections\n",
    "are actually all closely related. They share the same key properties:\n",
    "\n",
    "- They are explicitly declared.\n",
    "- They have names.\n",
    "- They have explicitly declared supertypes.\n",
    "- They may have parameters.\n",
    "\n",
    "Because of these shared properties, these types are internally\n",
    "represented as instances of the same concept, `DataType`, which\n",
    "is the type of any of these types:\n",
    "\n",
    ".. doctest::\n",
    "\n",
    "    julia> typeof(Real)\n",
    "    DataType\n",
    "\n",
    "    julia> typeof(Int)\n",
    "    DataType\n",
    "\n",
    "A `DataType` may be abstract or concrete. If it is concrete, it\n",
    "has a specified size, storage layout, and (optionally) field names.\n",
    "Thus a bits type is a `DataType` with nonzero size, but no field\n",
    "names. A composite type is a `DataType` that has field names or\n",
    "is empty (zero size).\n",
    "\n",
    "Every concrete value in the system is an instance of some `DataType`."
   ]
  },
  {
   "cell_type": "markdown",
   "metadata": {},
   "source": [
    "## Type Unions\n",
    "\n",
    "\n",
    "A type union is a special abstract type which includes as objects all\n",
    "instances of any of its argument types, constructed using the special\n",
    "``Union`` function::\n",
    "\n",
    "    julia> IntOrString = Union{Int,AbstractString}\n",
    "    Union{AbstractString,Int64}\n",
    "\n",
    "    julia> 1 :: IntOrString\n",
    "    1\n",
    "\n",
    "    julia> \"Hello!\" :: IntOrString\n",
    "    \"Hello!\"\n",
    "\n",
    "    julia> 1.0 :: IntOrString\n",
    "    ERROR: type: typeassert: expected Union{AbstractString,Int64}, got Float64\n",
    "\n",
    "The compilers for many languages have an internal union construct for\n",
    "reasoning about types; Julia simply exposes it to the programmer.\n",
    "\n",
    ".. _man-parametric-types:"
   ]
  },
  {
   "cell_type": "markdown",
   "metadata": {},
   "source": [
    "## Parametric Types\n",
    "\n",
    "\n",
    "An important and powerful feature of Julia's type system is that it is\n",
    "parametric: types can take parameters, so that type declarations\n",
    "actually introduce a whole family of new types — one for each possible\n",
    "combination of parameter values. There are many languages that support\n",
    "some version of `generic\n",
    "programming <https://en.wikipedia.org/wiki/Generic_programming>`_, wherein\n",
    "data structures and algorithms to manipulate them may be specified\n",
    "without specifying the exact types involved. For example, some form of\n",
    "generic programming exists in ML, Haskell, Ada, Eiffel, C++, Java, C#,\n",
    "F#, and Scala, just to name a few. Some of these languages support true\n",
    "parametric polymorphism (e.g. ML, Haskell, Scala), while others support\n",
    "ad-hoc, template-based styles of generic programming (e.g. C++, Java).\n",
    "With so many different varieties of generic programming and parametric\n",
    "types in various languages, we won't even attempt to compare Julia's\n",
    "parametric types to other languages, but will instead focus on\n",
    "explaining Julia's system in its own right. We will note, however, that\n",
    "because Julia is a dynamically typed language and doesn't need to make\n",
    "all type decisions at compile time, many traditional difficulties\n",
    "encountered in static parametric type systems can be relatively easily\n",
    "handled.\n",
    "\n",
    "All declared types (the `DataType` variety) can be parameterized, with\n",
    "the same syntax in each case. We will discuss them in the following\n",
    "order: first, parametric composite types, then parametric abstract\n",
    "types, and finally parametric bits types.\n",
    "\n",
    "### Parametric Composite Types\n",
    "\n",
    ".. testsetup::\n",
    "\n",
    "    abstract Pointy{T}\n",
    "    type Point{T} <: Pointy{T}\n",
    "        x::T\n",
    "        y::T\n",
    "    end\n",
    "\n",
    "Type parameters are introduced immediately after the type name,\n",
    "surrounded by curly braces::\n",
    "\n",
    "    type Point{T}\n",
    "        x::T\n",
    "        y::T\n",
    "    end\n",
    "\n",
    "This declaration defines a new parametric type, ``Point{T}``, holding\n",
    "two \"coordinates\" of type ``T``. What, one may ask, is ``T``? Well,\n",
    "that's precisely the point of parametric types: it can be any type at\n",
    "all (or a value of any bits type, actually, although here it's clearly\n",
    "used as a type). ``Point{Float64}`` is a concrete type equivalent to the\n",
    "type defined by replacing ``T`` in the definition of ``Point`` with\n",
    ":class:`Float64`. Thus, this single declaration actually declares an\n",
    "unlimited number of types: ``Point{Float64}``, ``Point{AbstractString}``,\n",
    "``Point{Int64}``, etc. Each of these is now a usable concrete type:\n",
    "\n",
    ".. doctest::\n",
    "\n",
    "    julia> Point{Float64}\n",
    "    Point{Float64}\n",
    "\n",
    "    julia> Point{AbstractString}\n",
    "    Point{AbstractString}\n",
    "\n",
    "The type ``Point{Float64}`` is a point whose coordinates are 64-bit\n",
    "floating-point values, while the type ``Point{AbstractString}`` is a \"point\"\n",
    "whose \"coordinates\" are string objects (see :ref:`man-strings`).\n",
    "However, ``Point`` itself is also a valid type object:\n",
    "\n",
    ".. doctest::\n",
    "\n",
    "    julia> Point\n",
    "    Point{T}\n",
    "\n",
    "Here the ``T`` is the dummy type symbol used in the original declaration\n",
    "of ``Point``. What does ``Point`` by itself mean? It is a type\n",
    "that contains all the specific instances ``Point{Float64}``,\n",
    "``Point{AbstractString}``, etc.:\n",
    "\n",
    ".. doctest::\n",
    "\n",
    "    julia> Point{Float64} <: Point\n",
    "    true\n",
    "\n",
    "    julia> Point{AbstractString} <: Point\n",
    "    true\n",
    "\n",
    "Other types, of course, are not subtypes of it:\n",
    "\n",
    ".. doctest::\n",
    "\n",
    "    julia> Float64 <: Point\n",
    "    false\n",
    "\n",
    "    julia> AbstractString <: Point\n",
    "    false\n",
    "\n",
    "Concrete ``Point`` types with different values of ``T`` are never\n",
    "subtypes of each other:\n",
    "\n",
    ".. doctest::\n",
    "\n",
    "    julia> Point{Float64} <: Point{Int64}\n",
    "    false\n",
    "\n",
    "    julia> Point{Float64} <: Point{Real}\n",
    "    false\n",
    "\n",
    "This last point is very important:\n",
    "\n",
    "- **Even though** ``Float64 <: Real`` **we DO NOT have**\n",
    "  ``Point{Float64} <: Point{Real}``\\ **.**\n",
    "\n",
    "In other words, in the parlance of type theory, Julia's type parameters\n",
    "are *invariant*, rather than being covariant (or even contravariant).\n",
    "This is for practical reasons: while any instance of ``Point{Float64}``\n",
    "may conceptually be like an instance of ``Point{Real}`` as well, the two\n",
    "types have different representations in memory:\n",
    "\n",
    "-  An instance of ``Point{Float64}`` can be represented compactly and\n",
    "   efficiently as an immediate pair of 64-bit values;\n",
    "-  An instance of ``Point{Real}`` must be able to hold any pair of\n",
    "   instances of `Real`. Since objects that are instances of `Real`\n",
    "   can be of arbitrary size and structure, in practice an instance of\n",
    "   ``Point{Real}`` must be represented as a pair of pointers to\n",
    "   individually allocated `Real` objects.\n",
    "\n",
    "The efficiency gained by being able to store ``Point{Float64}`` objects\n",
    "with immediate values is magnified enormously in the case of arrays: an\n",
    "``Array{Float64}`` can be stored as a contiguous memory block of 64-bit\n",
    "floating-point values, whereas an ``Array{Real}`` must be an array of\n",
    "pointers to individually allocated `Real` objects — which may well be\n",
    "`boxed <https://en.wikipedia.org/wiki/Object_type_%28object-oriented_programming%29#Boxing>`_\n",
    "64-bit floating-point values, but also might be arbitrarily large,\n",
    "complex objects, which are declared to be implementations of the\n",
    "`Real` abstract type.\n",
    "\n",
    "Since ``Point{Float64}`` is not a subtype of ``Point{Real}``, the following method can't be applied to arguments of type ``Point{Float64}``::\n",
    "\n",
    "    function norm(p::Point{Real})\n",
    "       sqrt(p.x^2 + p.y^2)\n",
    "    end\n",
    "\n",
    "The correct way to define a method that accepts all arguments of type ``Point{T}`` where ``T`` is a subtype of ``Real`` is::\n",
    "\n",
    "    function norm{T<:Real}(p::Point{T})\n",
    "       sqrt(p.x^2 + p.y^2)\n",
    "    end\n",
    "\n",
    "More examples will be discussed later in :ref:`man-methods`.\n",
    "\n",
    "\n",
    "How does one construct a ``Point`` object? It is possible to define\n",
    "custom constructors for composite types, which will be discussed in\n",
    "detail in :ref:`man-constructors`, but in the absence of any\n",
    "special constructor declarations, there are two default ways of creating\n",
    "new composite objects, one in which the type parameters are explicitly\n",
    "given and the other in which they are implied by the arguments to the\n",
    "object constructor.\n",
    "\n",
    "Since the type ``Point{Float64}`` is a concrete type equivalent to\n",
    "``Point`` declared with :class:`Float64` in place of ``T``, it can be applied\n",
    "as a constructor accordingly:\n",
    "\n",
    ".. doctest::\n",
    "\n",
    "    julia> Point{Float64}(1.0,2.0)\n",
    "    Point{Float64}(1.0,2.0)\n",
    "\n",
    "    julia> typeof(ans)\n",
    "    Point{Float64}\n",
    "\n",
    "For the default constructor, exactly one argument must be supplied for\n",
    "each field:\n",
    "\n",
    ".. doctest::\n",
    "\n",
    "    julia> Point{Float64}(1.0)\n",
    "    ERROR: MethodError: Cannot `convert` an object of type Float64 to an object of type Point{Float64}\n",
    "    This may have arisen from a call to the constructor Point{Float64}(...),\n",
    "    since type constructors fall back to convert methods.\n",
    "     in Point{Float64}(::Float64) at ./sysimg.jl:53\n",
    "     ...\n",
    "\n",
    "    julia> Point{Float64}(1.0,2.0,3.0)\n",
    "    ERROR: MethodError: no method matching Point{Float64}(::Float64, ::Float64, ::Float64)\n",
    "    Closest candidates are:\n",
    "      Point{Float64}{T}(::Any, ::Any) at none:3\n",
    "      Point{Float64}{T}(::Any) at sysimg.jl:53\n",
    "     ...\n",
    "\n",
    "Only one default constructor is generated for parametric types, since\n",
    "overriding it is not possible. This constructor accepts any arguments\n",
    "and converts them to the field types.\n",
    "\n",
    "In many cases, it is redundant to provide the type of ``Point`` object\n",
    "one wants to construct, since the types of arguments to the constructor\n",
    "call already implicitly provide type information. For that reason, you\n",
    "can also apply ``Point`` itself as a constructor, provided that the\n",
    "implied value of the parameter type ``T`` is unambiguous:\n",
    "\n",
    ".. doctest::\n",
    "\n",
    "    julia> Point(1.0,2.0)\n",
    "    Point{Float64}(1.0,2.0)\n",
    "\n",
    "    julia> typeof(ans)\n",
    "    Point{Float64}\n",
    "\n",
    "    julia> Point(1,2)\n",
    "    Point{Int64}(1,2)\n",
    "\n",
    "    julia> typeof(ans)\n",
    "    Point{Int64}\n",
    "\n",
    "In the case of ``Point``, the type of ``T`` is unambiguously implied if\n",
    "and only if the two arguments to ``Point`` have the same type. When this\n",
    "isn't the case, the constructor will fail with a :exc:`MethodError`:\n",
    "\n",
    ".. doctest::\n",
    "\n",
    "    julia> Point(1,2.5)\n",
    "    ERROR: MethodError: no method matching Point{T}(::Int64, ::Float64)\n",
    "    ...\n",
    "\n",
    "Constructor methods to appropriately handle such mixed cases can be\n",
    "defined, but that will not be discussed until later on in\n",
    ":ref:`man-constructors`."
   ]
  },
  {
   "cell_type": "markdown",
   "metadata": {},
   "source": [
    "### Parametric Abstract Types\n",
    "\n",
    "\n",
    "Parametric abstract type declarations declare a collection of abstract\n",
    "types, in much the same way::\n",
    "\n",
    "    abstract Pointy{T}\n",
    "\n",
    "With this declaration, ``Pointy{T}`` is a distinct abstract type for\n",
    "each type or integer value of ``T``. As with parametric composite types,\n",
    "each such instance is a subtype of ``Pointy``:\n",
    "\n",
    ".. doctest::\n",
    "\n",
    "    julia> Pointy{Int64} <: Pointy\n",
    "    true\n",
    "\n",
    "    julia> Pointy{1} <: Pointy\n",
    "    true\n",
    "\n",
    "Parametric abstract types are invariant, much as parametric composite\n",
    "types are:\n",
    "\n",
    ".. doctest::\n",
    "\n",
    "    julia> Pointy{Float64} <: Pointy{Real}\n",
    "    false\n",
    "\n",
    "    julia> Pointy{Real} <: Pointy{Float64}\n",
    "    false\n",
    "\n",
    "Much as plain old abstract types serve to create a useful hierarchy of\n",
    "types over concrete types, parametric abstract types serve the same\n",
    "purpose with respect to parametric composite types. We could, for\n",
    "example, have declared ``Point{T}`` to be a subtype of ``Pointy{T}`` as\n",
    "follows::\n",
    "\n",
    "    type Point{T} <: Pointy{T}\n",
    "        x::T\n",
    "        y::T\n",
    "    end\n",
    "\n",
    "Given such a declaration, for each choice of ``T``, we have ``Point{T}``\n",
    "as a subtype of ``Pointy{T}``:\n",
    "\n",
    ".. doctest::\n",
    "\n",
    "    julia> Point{Float64} <: Pointy{Float64}\n",
    "    true\n",
    "\n",
    "    julia> Point{Real} <: Pointy{Real}\n",
    "    true\n",
    "\n",
    "    julia> Point{AbstractString} <: Pointy{AbstractString}\n",
    "    true\n",
    "\n",
    "This relationship is also invariant:\n",
    "\n",
    ".. doctest::\n",
    "\n",
    "    julia> Point{Float64} <: Pointy{Real}\n",
    "    false\n",
    "\n",
    "What purpose do parametric abstract types like ``Pointy`` serve?\n",
    "Consider if we create a point-like implementation that only requires a\n",
    "single coordinate because the point is on the diagonal line *x = y*::\n",
    "\n",
    "    type DiagPoint{T} <: Pointy{T}\n",
    "        x::T\n",
    "    end\n",
    "\n",
    "Now both ``Point{Float64}`` and ``DiagPoint{Float64}`` are\n",
    "implementations of the ``Pointy{Float64}`` abstraction, and similarly\n",
    "for every other possible choice of type ``T``. This allows programming\n",
    "to a common interface shared by all ``Pointy`` objects, implemented for\n",
    "both ``Point`` and ``DiagPoint``. This cannot be fully demonstrated,\n",
    "however, until we have introduced methods and dispatch in the next\n",
    "section, :ref:`man-methods`.\n",
    "\n",
    "There are situations where it may not make sense for type parameters to\n",
    "range freely over all possible types. In such situations, one can\n",
    "constrain the range of ``T`` like so::\n",
    "\n",
    "    abstract Pointy{T<:Real}\n",
    "\n",
    "With such a declaration, it is acceptable to use any type that is a\n",
    "subtype of `Real` in place of ``T``, but not types that are not\n",
    "subtypes of `Real`:\n",
    "\n",
    ".. testsetup:: real-pointy\n",
    "\n",
    "    abstract Pointy{T<:Real}\n",
    "\n",
    ".. doctest:: real-pointy\n",
    "\n",
    "    julia> Pointy{Float64}\n",
    "    Pointy{Float64}\n",
    "\n",
    "    julia> Pointy{Real}\n",
    "    Pointy{Real}\n",
    "\n",
    "    julia> Pointy{AbstractString}\n",
    "    ERROR: TypeError: Pointy: in T, expected T<:Real, got Type{AbstractString}\n",
    "     ...\n",
    "\n",
    "    julia> Pointy{1}\n",
    "    ERROR: TypeError: Pointy: in T, expected T<:Real, got Int64\n",
    "     ...\n",
    "\n",
    "Type parameters for parametric composite types can be restricted in the\n",
    "same manner::\n",
    "\n",
    "    type Point{T<:Real} <: Pointy{T}\n",
    "        x::T\n",
    "        y::T\n",
    "    end\n",
    "\n",
    "To give a real-world example of how all this parametric type\n",
    "machinery can be useful, here is the actual definition of Julia's\n",
    "`Rational` immutable type (except that we omit the constructor here\n",
    "for simplicity), representing an exact ratio of integers::\n",
    "\n",
    "    immutable Rational{T<:Integer} <: Real\n",
    "        num::T\n",
    "        den::T\n",
    "    end\n",
    "\n",
    "It only makes sense to take ratios of integer values, so the parameter\n",
    "type ``T`` is restricted to being a subtype of :class:`Integer`, and a ratio\n",
    "of integers represents a value on the real number line, so any\n",
    "`Rational` is an instance of the `Real` abstraction."
   ]
  },
  {
   "cell_type": "markdown",
   "metadata": {},
   "source": [
    "### Tuple Types\n",
    "\n",
    "\n",
    "Tuples are an abstraction of the arguments of a function — without the\n",
    "function itself. The salient aspects of a function's arguments are their\n",
    "order and their types. Therefore a tuple type is similar to a\n",
    "parameterized immutable type where each parameter is the type\n",
    "of one field. For example, a 2-element tuple type resembles the following\n",
    "immutable type::\n",
    "\n",
    "    immutable Tuple2{A,B}\n",
    "        a::A\n",
    "        b::B\n",
    "    end\n",
    "\n",
    "However, there are three key differences:\n",
    "\n",
    "- Tuple types may have any number of parameters.\n",
    "- Tuple types are *covariant* in their parameters: ``Tuple{Int}`` is a subtype\n",
    "  of ``Tuple{Any}``. Therefore ``Tuple{Any}`` is considered an abstract type,\n",
    "  and tuple types are only concrete if their parameters are.\n",
    "- Tuples do not have field names; fields are only accessed by index.\n",
    "\n",
    "Tuple values are written with parentheses and commas. When a tuple is constructed,\n",
    "an appropriate tuple type is generated on demand:\n",
    "\n",
    ".. doctest::\n",
    "\n",
    "    julia> typeof((1,\"foo\",2.5))\n",
    "    Tuple{Int64,String,Float64}\n",
    "\n",
    "Note the implications of covariance:\n",
    "\n",
    ".. doctest::\n",
    "\n",
    "    julia> Tuple{Int,AbstractString} <: Tuple{Real,Any}\n",
    "    true\n",
    "\n",
    "    julia> Tuple{Int,AbstractString} <: Tuple{Real,Real}\n",
    "    false\n",
    "\n",
    "    julia> Tuple{Int,AbstractString} <: Tuple{Real,}\n",
    "    false\n",
    "\n",
    "Intuitively, this corresponds to the type of a function's arguments\n",
    "being a subtype of the function's signature (when the signature matches)."
   ]
  },
  {
   "cell_type": "markdown",
   "metadata": {},
   "source": [
    "### Vararg Tuple Types\n",
    "\n",
    "\n",
    "The last parameter of a tuple type can be the special type ``Vararg``,\n",
    "which denotes any number of trailing elements:\n",
    "\n",
    ".. doctest::\n",
    "\n",
    "    julia> isa((\"1\",), Tuple{AbstractString,Vararg{Int}})\n",
    "    true\n",
    "\n",
    "    julia> isa((\"1\",1), Tuple{AbstractString,Vararg{Int}})\n",
    "    true\n",
    "\n",
    "    julia> isa((\"1\",1,2), Tuple{AbstractString,Vararg{Int}})\n",
    "    true\n",
    "\n",
    "    julia> isa((\"1\",1,2,3.0), Tuple{AbstractString,Vararg{Int}})\n",
    "    false\n",
    "\n",
    "Notice that ``Vararg{T}`` corresponds to zero or more elements of type ``T``.\n",
    "Vararg tuple types are used to represent the arguments accepted by varargs\n",
    "methods (see :ref:`man-varargs-functions`).\n",
    "\n",
    "The type ``Vararg{T,N}`` corresponds to exactly ``N`` elements of type ``T``.  ``NTuple{N,T}`` is\n",
    "a convenient alias for ``Tuple{Vararg{T,N}}``, i.e. a tuple type containing exactly\n",
    "``N`` elements of type ``T``.\n",
    "\n",
    "\n",
    ".. _man-singleton-types:"
   ]
  },
  {
   "cell_type": "markdown",
   "metadata": {},
   "source": [
    "## Singleton Types\n",
    "\n",
    "\n",
    "There is a special kind of abstract parametric type that must be\n",
    "mentioned here: singleton types. For each type, ``T``, the \"singleton\n",
    "type\" ``Type{T}`` is an abstract type whose only instance is the object\n",
    "``T``. Since the definition is a little difficult to parse, let's look\n",
    "at some examples:\n",
    "\n",
    ".. doctest::\n",
    "\n",
    "    julia> isa(Float64, Type{Float64})\n",
    "    true\n",
    "\n",
    "    julia> isa(Real, Type{Float64})\n",
    "    false\n",
    "\n",
    "    julia> isa(Real, Type{Real})\n",
    "    true\n",
    "\n",
    "    julia> isa(Float64, Type{Real})\n",
    "    false\n",
    "\n",
    "In other words, :func:`isa(A,Type{B}) <isa>` is true if and only if ``A`` and\n",
    "``B`` are the same object and that object is a type. Without the\n",
    "parameter, `Type` is simply an abstract type which has all type\n",
    "objects as its instances, including, of course, singleton types:\n",
    "\n",
    ".. doctest::\n",
    "\n",
    "    julia> isa(Type{Float64},Type)\n",
    "    true\n",
    "\n",
    "    julia> isa(Float64,Type)\n",
    "    true\n",
    "\n",
    "    julia> isa(Real,Type)\n",
    "    true\n",
    "\n",
    "Any object that is not a type is not an instance of ``Type``:\n",
    "\n",
    ".. doctest::\n",
    "\n",
    "    julia> isa(1,Type)\n",
    "    false\n",
    "\n",
    "    julia> isa(\"foo\",Type)\n",
    "    false\n",
    "\n",
    "Until we discuss :ref:`man-parametric-methods`\n",
    "and :ref:`conversions <man-conversion>`, it is\n",
    "difficult to explain the utility of the singleton type construct, but in\n",
    "short, it allows one to specialize function behavior on specific type\n",
    "*values*. This is useful for writing\n",
    "methods (especially parametric ones) whose behavior depends on a type\n",
    "that is given as an explicit argument rather than implied by the type of\n",
    "one of its arguments.\n",
    "\n",
    "A few popular languages have singleton types, including Haskell, Scala\n",
    "and Ruby. In general usage, the term \"singleton type\" refers to a type\n",
    "whose only instance is a single value. This meaning applies to Julia's\n",
    "singleton types, but with that caveat that only type objects have\n",
    "singleton types.\n",
    "\n",
    "Parametric Bits Types\n",
    "~~~~~~~~~~~~~~~~~~~~~\n",
    "\n",
    "Bits types can also be declared parametrically. For example, pointers\n",
    "are represented as boxed bits types which would be declared in Julia\n",
    "like this::\n",
    "\n",
    "    # 32-bit system:\n",
    "    bitstype 32 Ptr{T}\n",
    "\n",
    "    # 64-bit system:\n",
    "    bitstype 64 Ptr{T}\n",
    "\n",
    "The slightly odd feature of these declarations as compared to typical\n",
    "parametric composite types, is that the type parameter ``T`` is not used\n",
    "in the definition of the type itself — it is just an abstract tag,\n",
    "essentially defining an entire family of types with identical structure,\n",
    "differentiated only by their type parameter. Thus, ``Ptr{Float64}`` and\n",
    "``Ptr{Int64}`` are distinct types, even though they have identical\n",
    "representations. And of course, all specific pointer types are subtype\n",
    "of the umbrella ``Ptr`` type:\n",
    "\n",
    ".. doctest::\n",
    "\n",
    "    julia> Ptr{Float64} <: Ptr\n",
    "    true\n",
    "\n",
    "    julia> Ptr{Int64} <: Ptr\n",
    "    true"
   ]
  },
  {
   "cell_type": "markdown",
   "metadata": {},
   "source": [
    "## Type Aliases\n",
    "\n",
    "Sometimes it is convenient to introduce a new name for an already\n",
    "expressible type. For such occasions, Julia provides the ``typealias``\n",
    "mechanism. For example, :class:`UInt` is type aliased to either :class:`UInt32` or\n",
    ":class:`UInt64` as is appropriate for the size of pointers on the system::\n",
    "\n",
    "    # 32-bit system:\n",
    "    julia> UInt\n",
    "    UInt32\n",
    "\n",
    "    # 64-bit system:\n",
    "    julia> UInt\n",
    "    UInt64\n",
    "\n",
    "This is accomplished via the following code in ``base/boot.jl``::\n",
    "\n",
    "    if is(Int,Int64)\n",
    "        typealias UInt UInt64\n",
    "    else\n",
    "        typealias UInt UInt32\n",
    "    end\n",
    "\n",
    "Of course, this depends on what :class:`Int` is aliased to — but that is\n",
    "predefined to be the correct type — either :class:`Int32` or :class:`Int64`.\n",
    "\n",
    "For parametric types, ``typealias`` can be convenient for providing\n",
    "names for cases where some of the parameter choices are fixed.\n",
    "Julia's arrays have type ``Array{T,N}`` where ``T`` is the element type\n",
    "and ``N`` is the number of array dimensions. For convenience, writing\n",
    "``Array{Float64}`` allows one to specify the element type without\n",
    "specifying the dimension:\n",
    "\n",
    ".. doctest::\n",
    "\n",
    "    julia> Array{Float64,1} <: Array{Float64} <: Array\n",
    "    true\n",
    "\n",
    "However, there is no way to equally simply restrict just the dimension\n",
    "but not the element type. Yet, one often needs to ensure an object\n",
    "is a vector or a matrix (imposing restrictions on the number of dimensions).\n",
    "For that reason, the following type aliases are provided::\n",
    "\n",
    "    typealias Vector{T} Array{T,1}\n",
    "    typealias Matrix{T} Array{T,2}\n",
    "\n",
    "Writing ``Vector{Float64}`` is equivalent to writing\n",
    "``Array{Float64,1}``, and the umbrella type ``Vector`` has as instances\n",
    "all ``Array`` objects where the second parameter — the number of array\n",
    "dimensions — is 1, regardless of what the element type is. In languages\n",
    "where parametric types must always be specified in full, this is not\n",
    "especially helpful, but in Julia, this allows one to write just\n",
    "``Matrix`` for the abstract type including all two-dimensional dense\n",
    "arrays of any element type.\n",
    "\n",
    "This declaration of ``Vector`` creates a subtype relation\n",
    "``Vector{Int} <: Vector``.  However, it is not always the case that a parametric\n",
    "``typealias`` statement creates such a relation; for example, the statement::\n",
    "\n",
    "    typealias AA{T} Array{Array{T,1},1}\n",
    "\n",
    "does not create the relation ``AA{Int} <: AA``.  The reason is that ``Array{Array{T,1},1}`` is not\n",
    "an abstract type at all; in fact, it is a concrete type describing a\n",
    "1-dimensional array in which each entry\n",
    "is an object of type ``Array{T,1}`` for some value of ``T``."
   ]
  },
  {
   "cell_type": "markdown",
   "metadata": {},
   "source": [
    "## Operations on Types\n",
    "\n",
    "\n",
    "Since types in Julia are themselves objects, ordinary functions can\n",
    "operate on them. Some functions that are particularly useful for working\n",
    "with or exploring types have already been introduced, such as the ``<:``\n",
    "operator, which indicates whether its left hand operand is a subtype of\n",
    "its right hand operand.\n",
    "\n",
    "The ``isa`` function tests if an object is of a given type and returns\n",
    "true or false:\n",
    "\n",
    ".. doctest::\n",
    "\n",
    "    julia> isa(1,Int)\n",
    "    true\n",
    "\n",
    "    julia> isa(1,AbstractFloat)\n",
    "    false\n",
    "\n",
    "The :func:`typeof` function, already used throughout the manual in examples,\n",
    "returns the type of its argument. Since, as noted above, types are\n",
    "objects, they also have types, and we can ask what their types are:\n",
    "\n",
    ".. doctest::\n",
    "\n",
    "    julia> typeof(Rational)\n",
    "    DataType\n",
    "\n",
    "    julia> typeof(Union{Real,Float64,Rational})\n",
    "    DataType\n",
    "\n",
    "    julia> typeof(Union{Real,String})\n",
    "    Union\n",
    "\n",
    "What if we repeat the process? What is the type of a type of a type?\n",
    "As it happens, types are all composite values and thus all have a type of\n",
    "`DataType`:\n",
    "\n",
    ".. doctest::\n",
    "\n",
    "    julia> typeof(DataType)\n",
    "    DataType\n",
    "\n",
    "    julia> typeof(Union)\n",
    "    DataType\n",
    "\n",
    "`DataType` is its own type.\n",
    "\n",
    "Another operation that applies to some types is :func:`supertype`, which\n",
    "reveals a type's supertype.\n",
    "Only declared types (`DataType`) have unambiguous supertypes:\n",
    "\n",
    ".. doctest::\n",
    "\n",
    "    julia> supertype(Float64)\n",
    "    AbstractFloat\n",
    "\n",
    "    julia> supertype(Number)\n",
    "    Any\n",
    "\n",
    "    julia> supertype(AbstractString)\n",
    "    Any\n",
    "\n",
    "    julia> supertype(Any)\n",
    "    Any\n",
    "\n",
    "If you apply :func:`supertype` to other type objects (or non-type objects), a\n",
    ":exc:`MethodError` is raised::\n",
    "\n",
    "    julia> supertype(Union{Float64,Int64})\n",
    "    ERROR: `supertype` has no method matching supertype(::Type{Union{Float64,Int64}})\n",
    "\n",
    ".. _man-val-trick:"
   ]
  },
  {
   "cell_type": "markdown",
   "metadata": {},
   "source": [
    "## \"Value types\"\n",
    "\n",
    "In Julia, you can't dispatch on a *value* such as ``true`` or\n",
    "``false``. However, you can dispatch on parametric types, and Julia\n",
    "allows you to include \"plain bits\" values (Types, Symbols,\n",
    "Integers, floating-point numbers, tuples, etc.) as type parameters.  A\n",
    "common example is the dimensionality parameter in ``Array{T,N}``,\n",
    "where ``T`` is a type (e.g., ``Float64``) but ``N`` is just an\n",
    "``Int``.\n",
    "\n",
    "You can create your own custom types that take values as parameters,\n",
    "and use them to control dispatch of custom types. By way of\n",
    "illustration of this idea, let's introduce a parametric type,\n",
    "``Val{T}``, which serves as a customary way to exploit this technique\n",
    "for cases where you don't need a more elaborate hierarchy.\n",
    "\n",
    "``Val`` is defined as::\n",
    "\n",
    "    immutable Val{T}\n",
    "    end\n",
    "\n",
    "There is no more to the implementation of ``Val`` than this.  Some\n",
    "functions in Julia's standard library accept ``Val`` types as\n",
    "arguments, and you can also use it to write your own functions.  For\n",
    "example:\n",
    "\n",
    ".. testsetup:: value-types\n",
    "\n",
    "    firstlast(::Type{Val{true}}) = \"First\";\n",
    "    firstlast(::Type{Val{false}}) = \"Last\";\n",
    "\n",
    ".. doctest:: value-types\n",
    "\n",
    "    firstlast(::Type{Val{true}}) = \"First\"\n",
    "    firstlast(::Type{Val{false}}) = \"Last\"\n",
    "\n",
    "    julia> firstlast(Val{true})\n",
    "    \"First\"\n",
    "\n",
    "    julia> firstlast(Val{false})\n",
    "    \"Last\"\n",
    "\n",
    "For consistency across Julia, the call site should always pass a\n",
    "``Val`` *type* rather than creating an *instance*, i.e., use\n",
    "``foo(Val{:bar})`` rather than ``foo(Val{:bar}())``.\n",
    "\n",
    "It's worth noting that it's extremely easy to mis-use parametric\n",
    "\"value\" types, including ``Val``; in unfavorable cases, you can easily\n",
    "end up making the performance of your code much *worse*.  In\n",
    "particular, you would never want to write actual code as illustrated\n",
    "above.  For more information about the proper (and improper) uses of\n",
    "``Val``, please read the more extensive discussion in :ref:`the\n",
    "performance tips <man-performance-val>`.\n",
    "\n",
    ".. _man-nullable-types:"
   ]
  },
  {
   "cell_type": "markdown",
   "metadata": {},
   "source": [
    "## Nullable Types: Representing Missing Values\n",
    "\n",
    "In many settings, you need to interact with a value of type ``T`` that may or\n",
    "may not exist. To handle these settings, Julia provides a parametric type\n",
    "called ``Nullable{T}``, which can be thought of as a specialized container\n",
    "type that can contain either zero or one values. ``Nullable{T}`` provides a\n",
    "minimal interface designed to ensure that interactions with missing values\n",
    "are safe. At present, the interface consists of four possible interactions:\n",
    "\n",
    "- Construct a `Nullable` object.\n",
    "- Check if a `Nullable` object has a missing value.\n",
    "- Access the value of a `Nullable` object with a guarantee that a\n",
    "  :exc:`NullException` will be thrown if the object's value is missing.\n",
    "- Access the value of a `Nullable` object with a guarantee that a default\n",
    "  value of type ``T`` will be returned if the object's value is missing.\n",
    "\n",
    "### Constructing `Nullable` objects\n",
    "\n",
    "\n",
    "To construct an object representing a missing value of type ``T``, use the\n",
    "``Nullable{T}()`` function:\n",
    "\n",
    ".. doctest::\n",
    "\n",
    "    julia> x1 = Nullable{Int64}()\n",
    "    Nullable{Int64}()\n",
    "\n",
    "    julia> x2 = Nullable{Float64}()\n",
    "    Nullable{Float64}()\n",
    "\n",
    "    julia> x3 = Nullable{Vector{Int64}}()\n",
    "    Nullable{Array{Int64,1}}()\n",
    "\n",
    "To construct an object representing a non-missing value of type ``T``, use the\n",
    "``Nullable(x::T)`` function:\n",
    "\n",
    ".. doctest::\n",
    "\n",
    "    julia> x1 = Nullable(1)\n",
    "    Nullable{Int64}(1)\n",
    "\n",
    "    julia> x2 = Nullable(1.0)\n",
    "    Nullable{Float64}(1.0)\n",
    "\n",
    "    julia> x3 = Nullable([1, 2, 3])\n",
    "    Nullable{Array{Int64,1}}([1,2,3])\n",
    "\n",
    "Note the core distinction between these two ways of constructing a `Nullable`\n",
    "object: in one style, you provide a type, ``T``, as a function parameter; in\n",
    "the other style, you provide a single value of type ``T`` as an argument.\n",
    "\n",
    "### Checking if a `Nullable` object has a value\n",
    "\n",
    "\n",
    "You can check if a `Nullable` object has any value using :func:`isnull`:\n",
    "\n",
    ".. doctest::\n",
    "\n",
    "    julia> isnull(Nullable{Float64}())\n",
    "    true\n",
    "\n",
    "    julia> isnull(Nullable(0.0))\n",
    "    false\n",
    "\n",
    "### Safely accessing the value of a `Nullable` object\n",
    "\n",
    "\n",
    "You can safely access the value of a `Nullable` object using `get`:\n",
    "\n",
    ".. doctest::\n",
    "\n",
    "    julia> get(Nullable{Float64}())\n",
    "    ERROR: NullException()\n",
    "     in get(::Nullable{Float64}) at ./nullable.jl:62\n",
    "     ...\n",
    "\n",
    "    julia> get(Nullable(1.0))\n",
    "    1.0\n",
    "\n",
    "If the value is not present, as it would be for ``Nullable{Float64}``, a\n",
    "`NullException` error will be thrown. The error-throwing nature of the\n",
    "`get` function ensures that any attempt to access a missing value immediately\n",
    "fails.\n",
    "\n",
    "In cases for which a reasonable default value exists that could be used\n",
    "when a `Nullable` object's value turns out to be missing, you can provide this\n",
    "default value as a second argument to :func:`get`:\n",
    "\n",
    ".. doctest::\n",
    "\n",
    "    julia> get(Nullable{Float64}(), 0.0)\n",
    "    0.0\n",
    "\n",
    "    julia> get(Nullable(1.0), 0.0)\n",
    "    1.0\n",
    "\n",
    "Note that this default value will automatically be converted to the type of\n",
    "the `Nullable` object that you attempt to access using the :func:`get` function.\n",
    "For example, in the code shown above the value ``0`` would be automatically\n",
    "converted to a :class:`Float64` value before being returned. The presence of default\n",
    "replacement values makes it easy to use the :func:`get` function to write\n",
    "type-stable code that interacts with sources of potentially missing values."
   ]
  },
  {
   "cell_type": "markdown",
   "metadata": {},
   "source": [
    "# Exercises"
   ]
  },
  {
   "cell_type": "code",
   "execution_count": 4,
   "metadata": {
    "ExecuteTime": {
     "end_time": "2017-03-19T11:05:43.186507",
     "start_time": "2017-03-19T15:05:43.154Z"
    },
    "collapsed": false
   },
   "outputs": [
    {
     "name": "stdout",
     "output_type": "stream",
     "text": [
      "  0.020398 seconds\n"
     ]
    }
   ],
   "source": [
    "@time begin\n",
    "    for i in 1:1_000_000\n",
    "        x = sin(π)\n",
    "    end\n",
    "end"
   ]
  },
  {
   "cell_type": "code",
   "execution_count": 56,
   "metadata": {
    "ExecuteTime": {
     "end_time": "2017-03-19T11:21:26.835310",
     "start_time": "2017-03-19T15:21:26.749Z"
    },
    "collapsed": false
   },
   "outputs": [],
   "source": [
    "x = Array(Any, 1_000_000)\n",
    "y = ones(Float64, 1_000_000)\n",
    "z = ones(BigFloat, 1_000_000)\n",
    ";"
   ]
  },
  {
   "cell_type": "code",
   "execution_count": 22,
   "metadata": {
    "ExecuteTime": {
     "end_time": "2017-03-19T11:12:58.668203",
     "start_time": "2017-03-19T15:12:58.665Z"
    },
    "collapsed": false
   },
   "outputs": [
    {
     "data": {
      "text/plain": [
       "(1000000,)"
      ]
     },
     "execution_count": 22,
     "metadata": {},
     "output_type": "execute_result"
    }
   ],
   "source": [
    "size(x)"
   ]
  },
  {
   "cell_type": "code",
   "execution_count": 23,
   "metadata": {
    "ExecuteTime": {
     "end_time": "2017-03-19T11:13:01.629659",
     "start_time": "2017-03-19T15:13:01.626Z"
    },
    "collapsed": false
   },
   "outputs": [
    {
     "data": {
      "text/plain": [
       "(Any,Float64)"
      ]
     },
     "execution_count": 23,
     "metadata": {},
     "output_type": "execute_result"
    }
   ],
   "source": [
    "eltype(x), eltype(y)"
   ]
  },
  {
   "cell_type": "code",
   "execution_count": 32,
   "metadata": {
    "ExecuteTime": {
     "end_time": "2017-03-19T11:14:33.833762",
     "start_time": "2017-03-19T15:14:33.607Z"
    },
    "collapsed": false
   },
   "outputs": [
    {
     "name": "stdout",
     "output_type": "stream",
     "text": [
      "  0.211350 seconds (4.00 M allocations: 76.278 MB, 5.46% gc time)\n"
     ]
    }
   ],
   "source": [
    "@time for k in 1:length(x)\n",
    "    x[k] = 1.0\n",
    "    x[k] - x[k]\n",
    "end"
   ]
  },
  {
   "cell_type": "code",
   "execution_count": 18,
   "metadata": {
    "ExecuteTime": {
     "end_time": "2017-03-19T11:09:19.356021",
     "start_time": "2017-03-19T15:09:19.269Z"
    },
    "collapsed": false
   },
   "outputs": [
    {
     "data": {
      "text/plain": [
       "1"
      ]
     },
     "execution_count": 18,
     "metadata": {},
     "output_type": "execute_result"
    }
   ],
   "source": [
    "length(x)"
   ]
  },
  {
   "cell_type": "code",
   "execution_count": null,
   "metadata": {
    "collapsed": true
   },
   "outputs": [],
   "source": []
  },
  {
   "cell_type": "code",
   "execution_count": 63,
   "metadata": {
    "ExecuteTime": {
     "end_time": "2017-03-19T11:23:16.065732",
     "start_time": "2017-03-19T15:23:15.714Z"
    },
    "collapsed": false
   },
   "outputs": [
    {
     "name": "stdout",
     "output_type": "stream",
     "text": [
      "  0.297810 seconds (6.00 M allocations: 106.796 MB, 24.47% gc time)\n"
     ]
    }
   ],
   "source": [
    "x = Array(Any, 1_000_000)\n",
    "@time for k in 1:length(y)\n",
    "   x[k] = π*sin(y[k])\n",
    "end"
   ]
  },
  {
   "cell_type": "code",
   "execution_count": 64,
   "metadata": {
    "ExecuteTime": {
     "end_time": "2017-03-19T11:23:17.784549",
     "start_time": "2017-03-19T15:23:17.756Z"
    },
    "collapsed": false
   },
   "outputs": [
    {
     "name": "stdout",
     "output_type": "stream",
     "text": [
      "Float64\t2.643559064081456\n"
     ]
    }
   ],
   "source": [
    "println(typeof(x[1]), \"\\t\", x[1])"
   ]
  },
  {
   "cell_type": "code",
   "execution_count": 65,
   "metadata": {
    "ExecuteTime": {
     "end_time": "2017-03-19T11:23:25.584415",
     "start_time": "2017-03-19T15:23:20.669Z"
    },
    "collapsed": false
   },
   "outputs": [
    {
     "name": "stdout",
     "output_type": "stream",
     "text": [
      "  4.880254 seconds (19.00 M allocations: 640.854 MB, 18.89% gc time)\n"
     ]
    }
   ],
   "source": [
    "x = Array(Any, 1_000_000)\n",
    "@time for k in 1:length(z)\n",
    "    x[k] = π*sin(z[k])\n",
    "end"
   ]
  },
  {
   "cell_type": "code",
   "execution_count": 66,
   "metadata": {
    "ExecuteTime": {
     "end_time": "2017-03-19T11:23:30.653903",
     "start_time": "2017-03-19T15:23:30.649Z"
    },
    "collapsed": false
   },
   "outputs": [
    {
     "name": "stdout",
     "output_type": "stream",
     "text": [
      "BigFloat\t2.643559064081456178886065989669718616657980638472354038225856392535194177900253\n"
     ]
    }
   ],
   "source": [
    "println(typeof(x[1]), \"\\t\", x[1])"
   ]
  },
  {
   "cell_type": "code",
   "execution_count": 55,
   "metadata": {
    "ExecuteTime": {
     "end_time": "2017-03-19T11:20:42.937907",
     "start_time": "2017-03-19T15:20:42.934Z"
    },
    "collapsed": false
   },
   "outputs": [
    {
     "data": {
      "text/plain": [
       "Number"
      ]
     },
     "execution_count": 55,
     "metadata": {},
     "output_type": "execute_result"
    }
   ],
   "source": [
    "supertype(Real)"
   ]
  },
  {
   "cell_type": "code",
   "execution_count": null,
   "metadata": {
    "collapsed": true
   },
   "outputs": [],
   "source": []
  },
  {
   "cell_type": "code",
   "execution_count": null,
   "metadata": {
    "collapsed": true
   },
   "outputs": [],
   "source": []
  },
  {
   "cell_type": "code",
   "execution_count": null,
   "metadata": {
    "collapsed": true
   },
   "outputs": [],
   "source": []
  },
  {
   "cell_type": "code",
   "execution_count": null,
   "metadata": {
    "collapsed": true
   },
   "outputs": [],
   "source": []
  }
 ],
 "metadata": {
  "hide_input": false,
  "kernelspec": {
   "display_name": "Julia 0.5.1",
   "language": "julia",
   "name": "julia-0.5"
  },
  "language_info": {
   "file_extension": ".jl",
   "mimetype": "application/julia",
   "name": "julia",
   "version": "0.5.1"
  },
  "latex_envs": {
   "bibliofile": "biblio.bib",
   "cite_by": "apalike",
   "current_citInitial": 1,
   "eqLabelWithNumbers": true,
   "eqNumInitial": 0
  },
  "toc": {
   "nav_menu": {
    "height": "480px",
    "width": "252px"
   },
   "navigate_menu": true,
   "number_sections": true,
   "sideBar": true,
   "threshold": 4,
   "toc_cell": false,
   "toc_section_display": "block",
   "toc_window_display": true
  }
 },
 "nbformat": 4,
 "nbformat_minor": 2
}
