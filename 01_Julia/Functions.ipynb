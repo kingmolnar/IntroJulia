{
 "cells": [
  {
   "cell_type": "markdown",
   "metadata": {},
   "source": [
    "# Functional Programming"
   ]
  },
  {
   "cell_type": "code",
   "execution_count": null,
   "metadata": {
    "collapsed": true
   },
   "outputs": [],
   "source": []
  },
  {
   "cell_type": "markdown",
   "metadata": {},
   "source": []
  },
  {
   "cell_type": "markdown",
   "metadata": {},
   "source": [
    " # Functions in Julia\n",
    "\n",
    "\n",
    "In Julia, a function is an object that maps a tuple of argument values\n",
    "to a return value. Julia functions are not pure mathematical functions,\n",
    "in the sense that functions can alter and be affected by the global\n",
    "state of the program. The basic syntax for defining functions in Julia\n",
    "is:\n"
   ]
  },
  {
   "cell_type": "code",
   "execution_count": 1,
   "metadata": {
    "ExecuteTime": {
     "end_time": "2017-03-18T18:21:10.924971",
     "start_time": "2017-03-18T22:21:10.332Z"
    },
    "collapsed": false
   },
   "outputs": [
    {
     "data": {
      "text/plain": [
       "f (generic function with 1 method)"
      ]
     },
     "execution_count": 1,
     "metadata": {},
     "output_type": "execute_result"
    }
   ],
   "source": [
    "function f(x,y)\n",
    "  x + y\n",
    "end"
   ]
  },
  {
   "cell_type": "markdown",
   "metadata": {},
   "source": [
    "There is a second, more terse syntax for defining a function in Julia.\n",
    "The traditional function declaration syntax demonstrated above is\n",
    "equivalent to the following compact \"assignment form\"::\n",
    "\n",
    "    f(x,y) = x + y\n",
    "\n",
    "In the assignment form, the body of the function must be a single\n",
    "expression, although it can be a compound expression (see\n",
    ":ref:`man-compound-expressions`). Short, simple\n",
    "function definitions are common in Julia. The short function syntax is\n",
    "accordingly quite idiomatic, considerably reducing both typing and\n",
    "visual noise.\n",
    "\n",
    "A function is called using the traditional parenthesis syntax:"
   ]
  },
  {
   "cell_type": "code",
   "execution_count": 3,
   "metadata": {
    "ExecuteTime": {
     "end_time": "2017-03-18T18:24:20.201438",
     "start_time": "2017-03-18T22:24:20.108Z"
    },
    "collapsed": false
   },
   "outputs": [
    {
     "data": {
      "text/plain": [
       "5"
      ]
     },
     "execution_count": 3,
     "metadata": {},
     "output_type": "execute_result"
    }
   ],
   "source": [
    "f(2,3)"
   ]
  },
  {
   "cell_type": "markdown",
   "metadata": {},
   "source": [
    "Without parentheses, the expression ``f`` refers to the function object,\n",
    "and can be passed around like any value:"
   ]
  },
  {
   "cell_type": "code",
   "execution_count": 4,
   "metadata": {
    "ExecuteTime": {
     "end_time": "2017-03-18T18:25:26.691672",
     "start_time": "2017-03-18T22:25:26.688Z"
    },
    "collapsed": false
   },
   "outputs": [
    {
     "data": {
      "text/plain": [
       "5"
      ]
     },
     "execution_count": 4,
     "metadata": {},
     "output_type": "execute_result"
    }
   ],
   "source": [
    "g = f\n",
    "g(2,3)"
   ]
  },
  {
   "cell_type": "markdown",
   "metadata": {},
   "source": [
    "As with variables, Unicode can also be used for function names:"
   ]
  },
  {
   "cell_type": "code",
   "execution_count": 5,
   "metadata": {
    "ExecuteTime": {
     "end_time": "2017-03-18T18:25:33.706777",
     "start_time": "2017-03-18T22:25:33.680Z"
    },
    "collapsed": false
   },
   "outputs": [
    {
     "name": "stderr",
     "output_type": "stream",
     "text": [
      "WARNING: Method definition ∑(Any, Any) in module Main at In[2]:1 overwritten at In[5]:1.\n"
     ]
    },
    {
     "data": {
      "text/plain": [
       "∑ (generic function with 1 method)"
      ]
     },
     "execution_count": 5,
     "metadata": {},
     "output_type": "execute_result"
    }
   ],
   "source": [
    "∑(x,y) = x + y"
   ]
  },
  {
   "cell_type": "markdown",
   "metadata": {},
   "source": [
    "## Argument Passing Behavior\n",
    "\n",
    "Julia function arguments follow a convention sometimes called \"pass-by-sharing\" (or **call by reference**),\n",
    "which means that values are not copied when they are passed to functions.\n",
    "\n",
    "Function arguments themselves act as new variable *bindings* (new locations that\n",
    "can refer to values), but the values they refer to are identical to the passed\n",
    "values.\n",
    "\n",
    "Modifications to mutable values (such as Arrays) made within a function\n",
    "will be visible to the caller. This is the same behavior found in Scheme, most\n",
    "Lisps, Python, Ruby and Perl, among other dynamic languages. (**But not C and Java ... to some degree**)"
   ]
  },
  {
   "cell_type": "markdown",
   "metadata": {},
   "source": [
    "## The ``return`` Keyword\n",
    "\n",
    "\n",
    "The value returned by a function is the value of the last expression\n",
    "evaluated, which, by default, is the last expression in the body of the\n",
    "function definition. In the example function, ``f``, from the previous\n",
    "section this is the value of the expression ``x + y``. As in C and most\n",
    "other imperative or functional languages, the ``return`` keyword causes\n",
    "a function to return immediately, providing an expression whose value is\n",
    "returned::\n",
    "\n",
    "    function g(x,y)\n",
    "      return x * y\n",
    "      x + y\n",
    "    end\n",
    "\n",
    "Since function definitions can be entered into interactive sessions, it\n",
    "is easy to compare these definitions::\n",
    "\n",
    "    f(x,y) = x + y\n",
    "\n",
    "    function g(x,y)\n",
    "      return x * y\n",
    "      x + y\n",
    "    end\n",
    "\n",
    "    julia> f(2,3)\n",
    "    5\n",
    "\n",
    "    julia> g(2,3)\n",
    "    6\n",
    "\n",
    "Of course, in a purely linear function body like ``g``, the usage of\n",
    "``return`` is pointless since the expression ``x + y`` is never\n",
    "evaluated and we could simply make ``x * y`` the last expression in the\n",
    "function and omit the ``return``. In conjunction with other control\n",
    "flow, however, ``return`` is of real use. Here, for example, is a\n",
    "function that computes the hypotenuse length of a right triangle with\n",
    "sides of length *x* and *y*, avoiding overflow::\n",
    "\n",
    "    "
   ]
  },
  {
   "cell_type": "code",
   "execution_count": 13,
   "metadata": {
    "ExecuteTime": {
     "end_time": "2017-03-18T18:39:18.601932",
     "start_time": "2017-03-18T22:39:18.598Z"
    },
    "collapsed": false
   },
   "outputs": [
    {
     "data": {
      "text/plain": [
       "hypot (generic function with 1 method)"
      ]
     },
     "execution_count": 13,
     "metadata": {},
     "output_type": "execute_result"
    }
   ],
   "source": [
    "function hypot(x,y)\n",
    "  x = abs(x)\n",
    "  y = abs(y)\n",
    "  if x > y\n",
    "    r = y/x\n",
    "    return x*sqrt(1+r*r)\n",
    "  end\n",
    "  if y == 0\n",
    "    return zero(x)\n",
    "  end\n",
    "  r = x/y\n",
    "  return y*sqrt(1+r*r)\n",
    "end"
   ]
  },
  {
   "cell_type": "markdown",
   "metadata": {},
   "source": [
    "There are three possible points of return from this function, returning\n",
    "the values of three different expressions, depending on the values of\n",
    "*x* and *y*. The ``return`` on the last line could be omitted since it\n",
    "is the last expression."
   ]
  },
  {
   "cell_type": "markdown",
   "metadata": {},
   "source": [
    "## Operators Are Functions\n",
    "\n",
    "In Julia, most operators are just functions with support for special\n",
    "syntax. (The exceptions are operators with special evaluation semantics\n",
    "like ``&&`` and ``||``. These operators cannot be functions since\n",
    "*short-circuit evaluation* requires that\n",
    "their operands are not evaluated before evaluation of the operator.)\n",
    "Accordingly, you can also apply them using parenthesized argument lists,\n",
    "just as you would any other function:"
   ]
  },
  {
   "cell_type": "code",
   "execution_count": 6,
   "metadata": {
    "ExecuteTime": {
     "end_time": "2017-03-18T18:30:05.834631",
     "start_time": "2017-03-18T22:30:05.831Z"
    },
    "collapsed": false
   },
   "outputs": [
    {
     "data": {
      "text/plain": [
       "6"
      ]
     },
     "execution_count": 6,
     "metadata": {},
     "output_type": "execute_result"
    }
   ],
   "source": [
    " 1 + 2 + 3"
   ]
  },
  {
   "cell_type": "code",
   "execution_count": 7,
   "metadata": {
    "ExecuteTime": {
     "end_time": "2017-03-18T18:30:07.318706",
     "start_time": "2017-03-18T22:30:07.310Z"
    },
    "collapsed": false
   },
   "outputs": [
    {
     "data": {
      "text/plain": [
       "6"
      ]
     },
     "execution_count": 7,
     "metadata": {},
     "output_type": "execute_result"
    }
   ],
   "source": [
    " +(1,2,3)"
   ]
  },
  {
   "cell_type": "markdown",
   "metadata": {},
   "source": [
    "The infix form is exactly equivalent to the function application form —\n",
    "in fact the former is parsed to produce the function call internally.\n",
    "This also means that you can assign and pass around operators such as\n",
    "`+` and `*` just like you would with other function values: "
   ]
  },
  {
   "cell_type": "code",
   "execution_count": 10,
   "metadata": {
    "ExecuteTime": {
     "end_time": "2017-03-18T18:32:49.513414",
     "start_time": "2017-03-18T22:32:49.509Z"
    },
    "collapsed": false
   },
   "outputs": [
    {
     "data": {
      "text/plain": [
       "6"
      ]
     },
     "execution_count": 10,
     "metadata": {},
     "output_type": "execute_result"
    }
   ],
   "source": [
    "f₊ = +\n",
    "f₊(1,2,3)"
   ]
  },
  {
   "cell_type": "markdown",
   "metadata": {},
   "source": [
    "Under the name ``f``, the function does not support infix notation,\n",
    "however."
   ]
  },
  {
   "cell_type": "markdown",
   "metadata": {},
   "source": [
    "## Operators With Special Names\n",
    "\n",
    "\n",
    "A few special expressions correspond to calls to functions with non-obvious\n",
    "names. These are:\n",
    "\n",
    "\n",
    "|Expression   |       Calls             |\n",
    "|------------------|--------------------|\n",
    "|``[A B C ...]``     | `hcat`    |\n",
    "|``[A, B, C, ...]``  | `vcat`    |\n",
    "|``[A B; C D; ...]`` | `hvcat`   |\n",
    "|``A'``              | `ctranspose` |\n",
    "|``A.'``             | `transpose` |\n",
    "|``1:n``             | `colon` |\n",
    "|``A[i]``            | `getindex` |\n",
    "|``A[i]=x``          | `setindex!` |\n",
    "|``A(x)``            | `call` |\n",
    "\n",
    "\n",
    "These functions are included in the ``Base.Operators`` module even\n",
    "though they do not have operator-like names."
   ]
  },
  {
   "cell_type": "markdown",
   "metadata": {},
   "source": [
    "## Anonymous Functions\n",
    "\n",
    "\n",
    "Functions in Julia are [*first-class objects*](https://en.wikipedia.org/wiki/First-class_citizen): they can be assigned to\n",
    "variables, called using the standard function call syntax from the\n",
    "variable they have been assigned to. \n",
    "\n",
    "They can be used as arguments, and\n",
    "they can be returned as values. They can also be created anonymously,\n",
    "without being given a name, using either of these syntaxes:"
   ]
  },
  {
   "cell_type": "code",
   "execution_count": 11,
   "metadata": {
    "ExecuteTime": {
     "end_time": "2017-03-18T18:37:16.270982",
     "start_time": "2017-03-18T22:37:16.267Z"
    },
    "collapsed": false
   },
   "outputs": [
    {
     "data": {
      "text/plain": [
       "(::#1) (generic function with 1 method)"
      ]
     },
     "execution_count": 11,
     "metadata": {},
     "output_type": "execute_result"
    }
   ],
   "source": [
    "x -> x^2 + 2x - 1"
   ]
  },
  {
   "cell_type": "code",
   "execution_count": 12,
   "metadata": {
    "ExecuteTime": {
     "end_time": "2017-03-18T18:37:18.285553",
     "start_time": "2017-03-18T22:37:18.281Z"
    },
    "collapsed": false
   },
   "outputs": [
    {
     "data": {
      "text/plain": [
       "(::#3) (generic function with 1 method)"
      ]
     },
     "execution_count": 12,
     "metadata": {},
     "output_type": "execute_result"
    }
   ],
   "source": [
    "function (x)\n",
    "    x^2 + 2x - 1\n",
    "end"
   ]
  },
  {
   "cell_type": "markdown",
   "metadata": {},
   "source": [
    "This creates an unnamed function taking one argument $x$ and returning the\n",
    "value of the polynomial $x^2 + 2x - 1$ at that value.\n",
    "\n",
    "The primary\n",
    "use for anonymous functions is passing them to functions which take\n",
    "other functions as arguments. A classic example is `map`,\n",
    "which applies a function to each value of an array and returns a new\n",
    "array containing the resulting values:"
   ]
  },
  {
   "cell_type": "code",
   "execution_count": 14,
   "metadata": {
    "ExecuteTime": {
     "end_time": "2017-03-18T18:41:21.596756",
     "start_time": "2017-03-18T22:41:21.001Z"
    },
    "collapsed": false
   },
   "outputs": [
    {
     "data": {
      "text/plain": [
       "3-element Array{Float64,1}:\n",
       " 1.0\n",
       " 4.0\n",
       " 2.0"
      ]
     },
     "execution_count": 14,
     "metadata": {},
     "output_type": "execute_result"
    }
   ],
   "source": [
    "map(round, [1.2,3.5,1.7])"
   ]
  },
  {
   "cell_type": "markdown",
   "metadata": {},
   "source": [
    "This is fine if a named function effecting the transform one wants\n",
    "already exists to pass as the first argument to `map`. Often, however,\n",
    "a ready-to-use, named function does not exist. In these situations, the\n",
    "anonymous function construct allows easy creation of a single-use\n",
    "function object without needing a name:"
   ]
  },
  {
   "cell_type": "code",
   "execution_count": 15,
   "metadata": {
    "ExecuteTime": {
     "end_time": "2017-03-18T18:41:54.422267",
     "start_time": "2017-03-18T22:41:53.977Z"
    },
    "collapsed": false
   },
   "outputs": [
    {
     "data": {
      "text/plain": [
       "3-element Array{Int64,1}:\n",
       "  2\n",
       " 14\n",
       " -2"
      ]
     },
     "execution_count": 15,
     "metadata": {},
     "output_type": "execute_result"
    }
   ],
   "source": [
    "map(x -> x^2 + 2x - 1, [1,3,-1])"
   ]
  },
  {
   "cell_type": "markdown",
   "metadata": {},
   "source": [
    "An anonymous function accepting multiple arguments can be written using\n",
    "the syntax ``(x,y,z)->2x+y-z``. A zero-argument anonymous function is\n",
    "written as ``()->3``. The idea of a function with no arguments may seem\n",
    "strange, but is useful for \"delaying\" a computation. In this usage, a\n",
    "block of code is wrapped in a zero-argument function, which is later\n",
    "invoked by calling it as ``f()``."
   ]
  },
  {
   "cell_type": "markdown",
   "metadata": {},
   "source": [
    "## Multiple Return Values\n",
    "\n",
    "In Julia, one returns a tuple of values to simulate returning multiple\n",
    "values. However, tuples can be created and destructured without needing\n",
    "parentheses, thereby providing an illusion that multiple values are\n",
    "being returned, rather than a single tuple value. For example, the\n",
    "following function returns a pair of values:"
   ]
  },
  {
   "cell_type": "code",
   "execution_count": 16,
   "metadata": {
    "ExecuteTime": {
     "end_time": "2017-03-18T18:42:53.312055",
     "start_time": "2017-03-18T22:42:53.301Z"
    },
    "collapsed": true
   },
   "outputs": [],
   "source": [
    "function foo(a,b)\n",
    "    a+b, a*b\n",
    "end;"
   ]
  },
  {
   "cell_type": "markdown",
   "metadata": {},
   "source": [
    "If you call it in an interactive session without assigning the return\n",
    "value anywhere, you will see the tuple returned:"
   ]
  },
  {
   "cell_type": "code",
   "execution_count": 17,
   "metadata": {
    "ExecuteTime": {
     "end_time": "2017-03-18T18:43:00.314918",
     "start_time": "2017-03-18T22:43:00.180Z"
    },
    "collapsed": false
   },
   "outputs": [
    {
     "data": {
      "text/plain": [
       "(5,6)"
      ]
     },
     "execution_count": 17,
     "metadata": {},
     "output_type": "execute_result"
    }
   ],
   "source": [
    "foo(2,3)"
   ]
  },
  {
   "cell_type": "markdown",
   "metadata": {},
   "source": [
    "A typical usage of such a pair of return values, however, extracts each\n",
    "value into a variable. Julia supports simple tuple \"destructuring\" that\n",
    "facilitates this:"
   ]
  },
  {
   "cell_type": "code",
   "execution_count": null,
   "metadata": {
    "collapsed": true
   },
   "outputs": [],
   "source": [
    "x, y = foo(2,3);"
   ]
  },
  {
   "cell_type": "code",
   "execution_count": null,
   "metadata": {
    "collapsed": true
   },
   "outputs": [],
   "source": [
    "x"
   ]
  },
  {
   "cell_type": "code",
   "execution_count": null,
   "metadata": {
    "collapsed": true
   },
   "outputs": [],
   "source": [
    "y"
   ]
  },
  {
   "cell_type": "markdown",
   "metadata": {},
   "source": [
    "You can also return multiple values via an explicit usage of the\n",
    "``return`` keyword::\n",
    "\n",
    "    function foo(a,b)\n",
    "      return a+b, a*b\n",
    "    end\n",
    "\n",
    "This has the exact same effect as the previous definition of ``foo``."
   ]
  },
  {
   "cell_type": "markdown",
   "metadata": {},
   "source": [
    "## Varargs Functions\n",
    "\n",
    "It is often convenient to be able to write functions taking an arbitrary\n",
    "number of arguments. Such functions are traditionally known as \"varargs\"\n",
    "functions, which is short for \"variable number of arguments\". You can\n",
    "define a varargs function by following the last argument with an\n",
    "ellipsis:\n",
    "\n",
    ".. doctest::\n",
    "\n",
    "    julia> bar(a,b,x...) = (a,b,x)\n",
    "    bar (generic function with 1 method)\n",
    "\n",
    "The variables ``a`` and ``b`` are bound to the first two argument values\n",
    "as usual, and the variable ``x`` is bound to an iterable collection of\n",
    "the zero or more values passed to ``bar`` after its first two arguments:\n",
    "\n",
    ".. doctest::\n",
    "\n",
    "    julia> bar(1,2)\n",
    "    (1,2,())\n",
    "\n",
    "    julia> bar(1,2,3)\n",
    "    (1,2,(3,))\n",
    "\n",
    "    julia> bar(1,2,3,4)\n",
    "    (1,2,(3,4))\n",
    "\n",
    "    julia> bar(1,2,3,4,5,6)\n",
    "    (1,2,(3,4,5,6))\n",
    "\n",
    "In all these cases, ``x`` is bound to a tuple of the trailing values\n",
    "passed to ``bar``.\n",
    "\n",
    "On the flip side, it is often handy to \"splice\" the values contained in\n",
    "an iterable collection into a function call as individual arguments. To\n",
    "do this, one also uses ``...`` but in the function call instead:\n",
    "\n",
    ".. doctest::\n",
    "\n",
    "    julia> x = (3,4)\n",
    "    (3,4)\n",
    "\n",
    "    julia> bar(1,2,x...)\n",
    "    (1,2,(3,4))\n",
    "\n",
    "In this case a tuple of values is spliced into a varargs call precisely\n",
    "where the variable number of arguments go. This need not be the case,\n",
    "however:\n",
    "\n",
    ".. doctest::\n",
    "\n",
    "    julia> x = (2,3,4)\n",
    "    (2,3,4)\n",
    "\n",
    "    julia> bar(1,x...)\n",
    "    (1,2,(3,4))\n",
    "\n",
    "    julia> x = (1,2,3,4)\n",
    "    (1,2,3,4)\n",
    "\n",
    "    julia> bar(x...)\n",
    "    (1,2,(3,4))\n",
    "\n",
    "Furthermore, the iterable object spliced into a function call need not\n",
    "be a tuple:\n",
    "\n",
    ".. doctest::\n",
    "\n",
    "    julia> x = [3,4]\n",
    "    2-element Array{Int64,1}:\n",
    "     3\n",
    "     4\n",
    "\n",
    "    julia> bar(1,2,x...)\n",
    "    (1,2,(3,4))\n",
    "\n",
    "    julia> x = [1,2,3,4]\n",
    "    4-element Array{Int64,1}:\n",
    "     1\n",
    "     2\n",
    "     3\n",
    "     4\n",
    "\n",
    "    julia> bar(x...)\n",
    "    (1,2,(3,4))\n",
    "\n",
    "Also, the function that arguments are spliced into need not be a varargs\n",
    "function (although it often is):\n",
    "\n",
    ".. doctest::\n",
    "\n",
    "    julia> baz(a,b) = a + b;\n",
    "\n",
    "    julia> args = [1,2]\n",
    "    2-element Array{Int64,1}:\n",
    "     1\n",
    "     2\n",
    "\n",
    "    julia> baz(args...)\n",
    "    3\n",
    "\n",
    "    julia> args = [1,2,3]\n",
    "    3-element Array{Int64,1}:\n",
    "     1\n",
    "     2\n",
    "     3\n",
    "\n",
    "    julia> baz(args...)\n",
    "    ERROR: MethodError: `baz` has no method matching baz(::Int64, ::Int64, ::Int64)\n",
    "    Closest candidates are:\n",
    "      baz(::Any, ::Any)\n",
    "\n",
    "As you can see, if the wrong number of elements are in the spliced\n",
    "container, then the function call will fail, just as it would if too\n",
    "many arguments were given explicitly."
   ]
  },
  {
   "cell_type": "markdown",
   "metadata": {},
   "source": [
    "## Optional Arguments\n",
    "\n",
    "In many cases, function arguments have sensible default values and therefore\n",
    "might not need to be passed explicitly in every call. For example, the\n",
    "library function | `parse(type,num,base) <parse>` interprets a string as a number\n",
    "in some base. The ``base`` argument defaults to ``10``. This behavior can be\n",
    "expressed concisely as::\n",
    "\n",
    "    function parse(type, num, base=10)\n",
    "        ###\n",
    "    end\n",
    "\n",
    "With this definition, the function can be called with either two or three\n",
    "arguments, and ``10`` is automatically passed when a third argument is not\n",
    "specified:\n",
    "\n",
    "\n",
    "    julia> parse(Int,\"12\",10)\n",
    "    12\n",
    "\n",
    "    julia> parse(Int,\"12\",3)\n",
    "    5\n",
    "\n",
    "    julia> parse(Int,\"12\")\n",
    "    12\n",
    "\n",
    "Optional arguments are actually just a convenient syntax for writing\n",
    "multiple method definitions with different numbers of arguments."
   ]
  },
  {
   "cell_type": "markdown",
   "metadata": {},
   "source": [
    "## Keyword Arguments\n",
    "\n",
    "\n",
    "Some functions need a large number of arguments, or have a large number of\n",
    "behaviors. Remembering how to call such functions can be difficult. Keyword\n",
    "arguments can make these complex interfaces easier to use and extend by\n",
    "allowing arguments to be identified by name instead of only by position.\n",
    "\n",
    "For example, consider a function ``plot`` that\n",
    "plots a line. This function might have many options, for controlling line\n",
    "style, width, color, and so on. If it accepts keyword arguments, a possible\n",
    "call might look like ``plot(x, y, width=2)``, where we have chosen to\n",
    "specify only line width. Notice that this serves two purposes. The call is\n",
    "easier to read, since we can label an argument with its meaning. It also\n",
    "becomes possible to pass any subset of a large number of arguments, in\n",
    "any order.\n",
    "\n",
    "Functions with keyword arguments are defined using a semicolon in the\n",
    "signature::\n",
    "\n",
    "    function plot(x, y; style=\"solid\", width=1, color=\"black\")\n",
    "        ###\n",
    "    end\n",
    "\n",
    "When the function is called, the semicolon is optional: one can\n",
    "either call ``plot(x, y, width=2)`` or ``plot(x, y; width=2)``, but\n",
    "the former style is more common.  An explicit semicolon is required only\n",
    "for passing varargs or computed keywords as described below.\n",
    "\n",
    "Keyword argument default values are evaluated only when necessary\n",
    "(when a corresponding keyword argument is not passed), and in\n",
    "left-to-right order. Therefore default expressions may refer to\n",
    "prior keyword arguments.\n",
    "\n",
    "The types of keyword arguments can be made explicit as follows::\n",
    "\n",
    "    function f(;x::Int64=1)\n",
    "        ###\n",
    "    end\n",
    "\n",
    "Extra keyword arguments can be collected using ``...``, as in varargs\n",
    "functions::\n",
    "\n",
    "    function f(x; y=0, kwargs...)\n",
    "        ###\n",
    "    end\n",
    "\n",
    "Inside ``f``, ``kwargs`` will be a collection of ``(key,value)`` tuples,\n",
    "where each ``key`` is a symbol. Such collections can be passed as keyword\n",
    "arguments using a semicolon in a call, e.g. ``f(x, z=1; kwargs...)``.\n",
    "Dictionaries can also be used for this purpose.\n",
    "\n",
    "One can also pass ``(key,value)`` tuples, or any iterable\n",
    "expression (such as a ``=>`` pair) that can be assigned to such a\n",
    "tuple, explicitly after a semicolon.  For example, ``plot(x, y;\n",
    "(:width,2))`` and ``plot(x, y; :width => 2)`` are equivalent to\n",
    "``plot(x, y, width=2)``.  This is useful in situations where the\n",
    "keyword name is computed at runtime.\n",
    "\n",
    ".. _man-evaluation-scope-default-values:"
   ]
  },
  {
   "cell_type": "markdown",
   "metadata": {},
   "source": [
    "## Evaluation Scope of Default Values\n",
    "----------------------------------\n",
    "\n",
    "Optional and keyword arguments differ slightly in how their default\n",
    "values are evaluated. When optional argument default expressions are\n",
    "evaluated, only *previous* arguments are in scope. In contrast, *all*\n",
    "the arguments are in scope when keyword arguments default expressions\n",
    "are evaluated. For example, given this definition::\n",
    "\n",
    "    function f(x, a=b, b=1)\n",
    "        ###\n",
    "    end\n",
    "\n",
    "the ``b`` in ``a=b`` refers to a ``b`` in an outer scope, not the\n",
    "subsequent argument ``b``. However, if ``a`` and ``b`` were keyword\n",
    "arguments instead, then both would be created in the same scope and\n",
    "the ``b`` in ``a=b`` would refer to the subsequent argument ``b``\n",
    "(shadowing any ``b`` in an outer scope), which would result in an\n",
    "undefined variable error (since the default expressions are evaluated\n",
    "left-to-right, and ``b`` has not been assigned yet)."
   ]
  },
  {
   "cell_type": "markdown",
   "metadata": {},
   "source": [
    "## Do-Block Syntax for Function Arguments\n",
    "\n",
    "Passing functions as arguments to other functions is a powerful technique,\n",
    "but the syntax for it is not always convenient. Such calls are especially\n",
    "awkward to write when the function argument requires multiple lines. As\n",
    "an example, consider calling `map` on a function with several cases::\n",
    "\n",
    "    map(x->begin\n",
    "               if x < 0 && iseven(x)\n",
    "                   return 0\n",
    "               elseif x == 0\n",
    "                   return 1\n",
    "               else\n",
    "                   return x\n",
    "               end\n",
    "           end,\n",
    "        [A, B, C])\n",
    "\n",
    "Julia provides a reserved word ``do`` for rewriting this code more clearly::\n",
    "\n",
    "    map([A, B, C]) do x\n",
    "        if x < 0 && iseven(x)\n",
    "            return 0\n",
    "        elseif x == 0\n",
    "            return 1\n",
    "        else\n",
    "            return x\n",
    "        end\n",
    "    end\n",
    "\n",
    "The ``do x`` syntax creates an anonymous function with argument ``x``\n",
    "and passes it as the first argument to  `map`. Similarly, ``do a,b``\n",
    "would create a two-argument anonymous function, and a plain ``do``\n",
    "would declare that what follows is an anonymous function of the form\n",
    "``() -> ...``.\n",
    "\n",
    "How these arguments are initialized depends on the \"outer\" function;\n",
    "here, | `map` will sequentially set ``x`` to ``A``, ``B``, ``C``,\n",
    "calling the anonymous function on each, just as would happen in the\n",
    "syntax ``map(func, [A, B, C])``.\n",
    "\n",
    "This syntax makes it easier to use functions to effectively extend the\n",
    "language, since calls look like normal code blocks. There are many\n",
    "possible uses quite different from  `map`, such as managing system\n",
    "state. For example, there is a version of  `open` that runs code\n",
    "ensuring that the opened file is eventually closed::\n",
    "\n",
    "    open(\"outfile\", \"w\") do io\n",
    "        write(io, data)\n",
    "    end\n",
    "\n",
    "This is accomplished by the following definition::\n",
    "\n",
    "    function open(f::Function, args...)\n",
    "        io = open(args...)\n",
    "        try\n",
    "            f(io)\n",
    "        finally\n",
    "            close(io)\n",
    "        end\n",
    "    end\n",
    "\n",
    "In contrast to the | `map` example, here ``io`` is initialized by the\n",
    "*result* of ``open(\"outfile\", \"w\")``.  The stream is then passed to\n",
    "your anonymous function, which performs the writing; finally, the\n",
    "| `open` function ensures that the stream is closed after your\n",
    "function exits.  The ``try/finally`` construct will be described in\n",
    ":ref:`man-control-flow`.\n",
    "\n",
    "With the ``do`` block syntax, it helps to check the documentation or\n",
    "implementation to know how the arguments of the user function are\n",
    "initialized."
   ]
  },
  {
   "cell_type": "markdown",
   "metadata": {},
   "source": [
    "## Further Reading\n",
    "\n",
    "\n",
    "We should mention here that this is far from a complete picture of\n",
    "defining functions. Julia has a sophisticated type system and allows\n",
    "multiple dispatch on argument types. None of the examples given here\n",
    "provide any type annotations on their arguments, meaning that they are\n",
    "applicable to all types of arguments. The type system is described in\n",
    ":ref:`man-types` and defining a function in terms of methods chosen\n",
    "by multiple dispatch on run-time argument types is described in\n",
    ":ref:`man-methods`."
   ]
  },
  {
   "cell_type": "code",
   "execution_count": null,
   "metadata": {
    "collapsed": true
   },
   "outputs": [],
   "source": []
  },
  {
   "cell_type": "code",
   "execution_count": null,
   "metadata": {
    "collapsed": true
   },
   "outputs": [],
   "source": []
  },
  {
   "cell_type": "code",
   "execution_count": null,
   "metadata": {
    "collapsed": true
   },
   "outputs": [],
   "source": []
  },
  {
   "cell_type": "markdown",
   "metadata": {
    "collapsed": true
   },
   "source": [
    "# What's the advantage and disadvantage of a lazy programming language?\n",
    "\n",
    "Let’s first look at the advantage: it is all about liberation from things to think about. When we moved from C,C++ to Java, we did away with having to think when we would never need a value again, leaving that to garbage collection. Lazy evaluation does away with the need to know when a value needs to be created. The run-time system will decide that for you. Moreover, by leaving that to the compiler, it can typically apply many more optimisations.\n",
    "\n",
    "Then some disadvantages: laziness may not be very performant if you actually know that you certainly need a value. That it means to get performance, you will be strictifying your program to get rid of huge thunks being built on your heap. And when you start doing this, you will also sometimes evaluate things you did not have to. Also, lazy languages tend to be somewhat harder to analyze statically, so it puts a bigger burden on the compiler builder.\n",
    "\n",
    "Back to the analogy with C++ and Java: by leaving things to the run-time/compiler to decide, we also lose some control over the evaluation, in particular its resource consumption behavior. Finally, lazy languages tends to be hard to debug, because we do not know when things will happen, and debugging might even change the behavior of the program in a way that the bug does not show itself anymore.\n",
    "\n",
    "Oh yes, it does not really make sense to have a lazy language that is not pure. If you have no idea when the run-time will decide to have some side effects on a local variable (i.e perform an assignment), then you’d better not let the behavior of your program depend on it. So with laziness comes purity. If you do not want to be pure, don’t be lazy. Of course, many non-pure languages have “laziness on demand” (force/delay in Scheme for example).\n",
    "\n",
    "*[Quora Answer by Jurriaan Hage](https://www.quora.com/Whats-the-advantage-and-disadvantage-of-a-lazy-programming-language)*"
   ]
  },
  {
   "cell_type": "code",
   "execution_count": null,
   "metadata": {
    "collapsed": true
   },
   "outputs": [],
   "source": []
  }
 ],
 "metadata": {
  "hide_input": false,
  "kernelspec": {
   "display_name": "Julia 0.5.1",
   "language": "julia",
   "name": "julia-0.5"
  },
  "language_info": {
   "file_extension": ".jl",
   "mimetype": "application/julia",
   "name": "julia",
   "version": "0.5.1"
  },
  "latex_envs": {
   "bibliofile": "biblio.bib",
   "cite_by": "apalike",
   "current_citInitial": 1,
   "eqLabelWithNumbers": true,
   "eqNumInitial": 0
  },
  "toc": {
   "nav_menu": {
    "height": "48px",
    "width": "252px"
   },
   "navigate_menu": true,
   "number_sections": true,
   "sideBar": true,
   "threshold": 4,
   "toc_cell": false,
   "toc_section_display": "block",
   "toc_window_display": true
  }
 },
 "nbformat": 4,
 "nbformat_minor": 2
}
